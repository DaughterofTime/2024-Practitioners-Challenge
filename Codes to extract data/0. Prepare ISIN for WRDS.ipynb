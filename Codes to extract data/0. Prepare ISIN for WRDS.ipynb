{
 "cells": [
  {
   "cell_type": "code",
   "execution_count": 1,
   "id": "08dbce1c",
   "metadata": {
    "id": "08dbce1c"
   },
   "outputs": [],
   "source": [
    "import pandas as pd\n",
    "import numpy as np"
   ]
  },
  {
   "cell_type": "code",
   "execution_count": 2,
   "id": "5qOX3xtkSmAa",
   "metadata": {
    "id": "5qOX3xtkSmAa"
   },
   "outputs": [],
   "source": [
    "Latin_companies = pd.read_excel('2.16 S&P Latin America companies.xlsx')"
   ]
  },
  {
   "cell_type": "code",
   "execution_count": 3,
   "id": "ryCxxiDXhn0F",
   "metadata": {
    "colab": {
     "base_uri": "https://localhost:8080/",
     "height": 293
    },
    "executionInfo": {
     "elapsed": 24,
     "status": "ok",
     "timestamp": 1708097518170,
     "user": {
      "displayName": "Lisa Chiang",
      "userId": "09169802507274919284"
     },
     "user_tz": 0
    },
    "id": "ryCxxiDXhn0F",
    "outputId": "96de39b5-9cb0-4823-d251-645f83393bee"
   },
   "outputs": [
    {
     "data": {
      "text/html": [
       "<div>\n",
       "<style scoped>\n",
       "    .dataframe tbody tr th:only-of-type {\n",
       "        vertical-align: middle;\n",
       "    }\n",
       "\n",
       "    .dataframe tbody tr th {\n",
       "        vertical-align: top;\n",
       "    }\n",
       "\n",
       "    .dataframe thead th {\n",
       "        text-align: right;\n",
       "    }\n",
       "</style>\n",
       "<table border=\"1\" class=\"dataframe\">\n",
       "  <thead>\n",
       "    <tr style=\"text-align: right;\">\n",
       "      <th></th>\n",
       "      <th>SP_ENTITY_NAME</th>\n",
       "      <th>SP_ENTITY_ID</th>\n",
       "      <th>SP_GEOGRAPHY</th>\n",
       "      <th>SP_COMPANY_STATUS</th>\n",
       "      <th>SP_ISIN</th>\n",
       "      <th>SP_TICKER</th>\n",
       "      <th>SP_EXCHANGE</th>\n",
       "    </tr>\n",
       "  </thead>\n",
       "  <tbody>\n",
       "    <tr>\n",
       "      <th>0</th>\n",
       "      <td>1127 Capital, Ltd.</td>\n",
       "      <td>6712274</td>\n",
       "      <td>Latin America and Caribbean</td>\n",
       "      <td>Operating</td>\n",
       "      <td>VGG8399X1107</td>\n",
       "      <td>NaN</td>\n",
       "      <td>NaN</td>\n",
       "    </tr>\n",
       "    <tr>\n",
       "      <th>1</th>\n",
       "      <td>138 Student Living Jamaica Limited (JMSE:138SL)</td>\n",
       "      <td>4863310</td>\n",
       "      <td>Latin America and Caribbean</td>\n",
       "      <td>Operating</td>\n",
       "      <td>JME201400061</td>\n",
       "      <td>138SL</td>\n",
       "      <td>JMSE</td>\n",
       "    </tr>\n",
       "    <tr>\n",
       "      <th>2</th>\n",
       "      <td>3R Petroleum Óleo e Gás S.A. (BOVESPA:RRRP3)</td>\n",
       "      <td>7163456</td>\n",
       "      <td>Latin America and Caribbean</td>\n",
       "      <td>Operating</td>\n",
       "      <td>BRRRRPACNOR5</td>\n",
       "      <td>RRRP3</td>\n",
       "      <td>BOVESPA</td>\n",
       "    </tr>\n",
       "    <tr>\n",
       "      <th>3</th>\n",
       "      <td>Abderus Fund - Global Universal Invest</td>\n",
       "      <td>6010769</td>\n",
       "      <td>Latin America and Caribbean</td>\n",
       "      <td>Operating</td>\n",
       "      <td>LU0396594094</td>\n",
       "      <td>039659409</td>\n",
       "      <td>NaN</td>\n",
       "    </tr>\n",
       "    <tr>\n",
       "      <th>4</th>\n",
       "      <td>Aberdeen Asset Management - India Opportunitie...</td>\n",
       "      <td>6716414</td>\n",
       "      <td>Latin America and Caribbean</td>\n",
       "      <td>Operating</td>\n",
       "      <td>SG9999001663</td>\n",
       "      <td>6741574</td>\n",
       "      <td>NaN</td>\n",
       "    </tr>\n",
       "  </tbody>\n",
       "</table>\n",
       "</div>"
      ],
      "text/plain": [
       "                                      SP_ENTITY_NAME SP_ENTITY_ID  \\\n",
       "0                                 1127 Capital, Ltd.      6712274   \n",
       "1    138 Student Living Jamaica Limited (JMSE:138SL)      4863310   \n",
       "2       3R Petroleum Óleo e Gás S.A. (BOVESPA:RRRP3)      7163456   \n",
       "3             Abderus Fund - Global Universal Invest      6010769   \n",
       "4  Aberdeen Asset Management - India Opportunitie...      6716414   \n",
       "\n",
       "                  SP_GEOGRAPHY SP_COMPANY_STATUS       SP_ISIN  SP_TICKER  \\\n",
       "0  Latin America and Caribbean         Operating  VGG8399X1107        NaN   \n",
       "1  Latin America and Caribbean         Operating  JME201400061      138SL   \n",
       "2  Latin America and Caribbean         Operating  BRRRRPACNOR5      RRRP3   \n",
       "3  Latin America and Caribbean         Operating  LU0396594094  039659409   \n",
       "4  Latin America and Caribbean         Operating  SG9999001663    6741574   \n",
       "\n",
       "  SP_EXCHANGE  \n",
       "0         NaN  \n",
       "1        JMSE  \n",
       "2     BOVESPA  \n",
       "3         NaN  \n",
       "4         NaN  "
      ]
     },
     "execution_count": 3,
     "metadata": {},
     "output_type": "execute_result"
    }
   ],
   "source": [
    "Latin_companies.head()"
   ]
  },
  {
   "cell_type": "code",
   "execution_count": 4,
   "id": "YnlLZwTZhqpU",
   "metadata": {
    "colab": {
     "base_uri": "https://localhost:8080/"
    },
    "executionInfo": {
     "elapsed": 21,
     "status": "ok",
     "timestamp": 1708097518171,
     "user": {
      "displayName": "Lisa Chiang",
      "userId": "09169802507274919284"
     },
     "user_tz": 0
    },
    "id": "YnlLZwTZhqpU",
    "outputId": "686a2703-d13b-41e8-fa4f-f226fd608afa"
   },
   "outputs": [
    {
     "data": {
      "text/plain": [
       "SP_ENTITY_NAME         0\n",
       "SP_ENTITY_ID           0\n",
       "SP_GEOGRAPHY           1\n",
       "SP_COMPANY_STATUS      0\n",
       "SP_ISIN                0\n",
       "SP_TICKER            163\n",
       "SP_EXCHANGE          507\n",
       "dtype: int64"
      ]
     },
     "execution_count": 4,
     "metadata": {},
     "output_type": "execute_result"
    }
   ],
   "source": [
    "np.sum(Latin_companies.isnull(), axis = 0)"
   ]
  },
  {
   "cell_type": "code",
   "execution_count": 5,
   "id": "MfmGZl-XiNaS",
   "metadata": {
    "colab": {
     "base_uri": "https://localhost:8080/"
    },
    "executionInfo": {
     "elapsed": 17,
     "status": "ok",
     "timestamp": 1708097518172,
     "user": {
      "displayName": "Lisa Chiang",
      "userId": "09169802507274919284"
     },
     "user_tz": 0
    },
    "id": "MfmGZl-XiNaS",
    "outputId": "518286c4-7fc5-429e-d374-310293d668b3"
   },
   "outputs": [
    {
     "data": {
      "text/plain": [
       "SP_ENTITY_NAME       0\n",
       "SP_ENTITY_ID         0\n",
       "SP_GEOGRAPHY         0\n",
       "SP_COMPANY_STATUS    0\n",
       "SP_ISIN              0\n",
       "SP_TICKER            0\n",
       "SP_EXCHANGE          0\n",
       "dtype: int64"
      ]
     },
     "execution_count": 5,
     "metadata": {},
     "output_type": "execute_result"
    }
   ],
   "source": [
    "Latin_companies = Latin_companies[Latin_companies['SP_EXCHANGE'].notnull()]\n",
    "Latin_companies = Latin_companies[Latin_companies['SP_GEOGRAPHY'].notnull()]\n",
    "np.sum(Latin_companies.isnull(), axis = 0)"
   ]
  },
  {
   "cell_type": "code",
   "execution_count": 6,
   "id": "6-OnLpRiiXAy",
   "metadata": {
    "id": "6-OnLpRiiXAy"
   },
   "outputs": [],
   "source": [
    "isin_list = Latin_companies['SP_ISIN'].to_list()"
   ]
  },
  {
   "cell_type": "code",
   "execution_count": 7,
   "id": "NkwXykLDiiG0",
   "metadata": {
    "colab": {
     "base_uri": "https://localhost:8080/"
    },
    "executionInfo": {
     "elapsed": 12,
     "status": "ok",
     "timestamp": 1708097631373,
     "user": {
      "displayName": "Lisa Chiang",
      "userId": "09169802507274919284"
     },
     "user_tz": 0
    },
    "id": "NkwXykLDiiG0",
    "outputId": "ff4b7c6d-c365-4774-bb39-c37e7e7bdcc7"
   },
   "outputs": [
    {
     "name": "stdout",
     "output_type": "stream",
     "text": [
      "1918\n"
     ]
    },
    {
     "data": {
      "text/plain": [
       "['JME201400061',\n",
       " 'BRRRRPACNOR5',\n",
       " 'MXP000171316',\n",
       " 'JMP004681012',\n",
       " 'KYG0073G1091']"
      ]
     },
     "execution_count": 7,
     "metadata": {},
     "output_type": "execute_result"
    }
   ],
   "source": [
    "print(len(isin_list))\n",
    "isin_list[:5]"
   ]
  },
  {
   "cell_type": "code",
   "execution_count": 8,
   "id": "Tt9A3mLRjXHS",
   "metadata": {
    "id": "Tt9A3mLRjXHS"
   },
   "outputs": [],
   "source": [
    "with open('temp.txt', 'w') as file:\n",
    "  for i in isin_list:\n",
    "    file.write(str(i) + '\\n')"
   ]
  }
 ],
 "metadata": {
  "colab": {
   "provenance": []
  },
  "kernelspec": {
   "display_name": "Python 3 (ipykernel)",
   "language": "python",
   "name": "python3"
  },
  "language_info": {
   "codemirror_mode": {
    "name": "ipython",
    "version": 3
   },
   "file_extension": ".py",
   "mimetype": "text/x-python",
   "name": "python",
   "nbconvert_exporter": "python",
   "pygments_lexer": "ipython3",
   "version": "3.9.16"
  }
 },
 "nbformat": 4,
 "nbformat_minor": 5
}
