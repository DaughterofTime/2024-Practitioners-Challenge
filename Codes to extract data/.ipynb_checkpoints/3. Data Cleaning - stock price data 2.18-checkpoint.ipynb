{
 "cells": [
  {
   "cell_type": "code",
   "execution_count": 1,
   "id": "db797170",
   "metadata": {
    "id": "db797170"
   },
   "outputs": [],
   "source": [
    "import pandas as pd\n",
    "import numpy as np"
   ]
  },
  {
   "cell_type": "code",
   "execution_count": 2,
   "id": "Kqpx-zPu8Fax",
   "metadata": {
    "id": "Kqpx-zPu8Fax"
   },
   "outputs": [],
   "source": [
    "def check_null(df):\n",
    "  return np.sum(df.isnull(), axis = 0)\n",
    "def check_zero(df):\n",
    "  return np.sum(df == 0, axis = 0)"
   ]
  },
  {
   "cell_type": "code",
   "execution_count": 3,
   "id": "6bd321bd",
   "metadata": {
    "id": "6bd321bd"
   },
   "outputs": [],
   "source": [
    "stock_price = pd.read_csv('2.18 stock price.csv')"
   ]
  },
  {
   "cell_type": "code",
   "execution_count": 4,
   "id": "3ba377ce",
   "metadata": {
    "colab": {
     "base_uri": "https://localhost:8080/",
     "height": 206
    },
    "executionInfo": {
     "elapsed": 76,
     "status": "ok",
     "timestamp": 1708457230321,
     "user": {
      "displayName": "Lisa Chiang",
      "userId": "09169802507274919284"
     },
     "user_tz": 0
    },
    "id": "3ba377ce",
    "outputId": "0ef7c1c3-aeec-4430-825a-703b6072f3e9"
   },
   "outputs": [
    {
     "data": {
      "text/html": [
       "<div>\n",
       "<style scoped>\n",
       "    .dataframe tbody tr th:only-of-type {\n",
       "        vertical-align: middle;\n",
       "    }\n",
       "\n",
       "    .dataframe tbody tr th {\n",
       "        vertical-align: top;\n",
       "    }\n",
       "\n",
       "    .dataframe thead th {\n",
       "        text-align: right;\n",
       "    }\n",
       "</style>\n",
       "<table border=\"1\" class=\"dataframe\">\n",
       "  <thead>\n",
       "    <tr style=\"text-align: right;\">\n",
       "      <th></th>\n",
       "      <th>Date</th>\n",
       "      <th>Open</th>\n",
       "      <th>High</th>\n",
       "      <th>Low</th>\n",
       "      <th>Close</th>\n",
       "      <th>Adj Close</th>\n",
       "      <th>Volume</th>\n",
       "      <th>Ticker</th>\n",
       "      <th>Exchange</th>\n",
       "      <th>ISIN</th>\n",
       "    </tr>\n",
       "  </thead>\n",
       "  <tbody>\n",
       "    <tr>\n",
       "      <th>0</th>\n",
       "      <td>2020-11-12</td>\n",
       "      <td>20.205654</td>\n",
       "      <td>21.898428</td>\n",
       "      <td>19.814260</td>\n",
       "      <td>20.450274</td>\n",
       "      <td>20.450274</td>\n",
       "      <td>2124310.0</td>\n",
       "      <td>RRRP3.SA</td>\n",
       "      <td>BOVESPA</td>\n",
       "      <td>BRRRRPACNOR5</td>\n",
       "    </tr>\n",
       "    <tr>\n",
       "      <th>1</th>\n",
       "      <td>2020-11-13</td>\n",
       "      <td>20.548122</td>\n",
       "      <td>20.890591</td>\n",
       "      <td>20.352427</td>\n",
       "      <td>20.352427</td>\n",
       "      <td>20.352427</td>\n",
       "      <td>480335.0</td>\n",
       "      <td>RRRP3.SA</td>\n",
       "      <td>BOVESPA</td>\n",
       "      <td>BRRRRPACNOR5</td>\n",
       "    </tr>\n",
       "    <tr>\n",
       "      <th>2</th>\n",
       "      <td>2020-11-16</td>\n",
       "      <td>20.694895</td>\n",
       "      <td>20.792744</td>\n",
       "      <td>20.518768</td>\n",
       "      <td>20.548122</td>\n",
       "      <td>20.548122</td>\n",
       "      <td>179666.0</td>\n",
       "      <td>RRRP3.SA</td>\n",
       "      <td>BOVESPA</td>\n",
       "      <td>BRRRRPACNOR5</td>\n",
       "    </tr>\n",
       "    <tr>\n",
       "      <th>3</th>\n",
       "      <td>2020-11-17</td>\n",
       "      <td>20.489412</td>\n",
       "      <td>20.538338</td>\n",
       "      <td>20.205654</td>\n",
       "      <td>20.538338</td>\n",
       "      <td>20.538338</td>\n",
       "      <td>262242.0</td>\n",
       "      <td>RRRP3.SA</td>\n",
       "      <td>BOVESPA</td>\n",
       "      <td>BRRRRPACNOR5</td>\n",
       "    </tr>\n",
       "    <tr>\n",
       "      <th>4</th>\n",
       "      <td>2020-11-18</td>\n",
       "      <td>20.538338</td>\n",
       "      <td>20.616615</td>\n",
       "      <td>20.450274</td>\n",
       "      <td>20.450274</td>\n",
       "      <td>20.450274</td>\n",
       "      <td>98724.0</td>\n",
       "      <td>RRRP3.SA</td>\n",
       "      <td>BOVESPA</td>\n",
       "      <td>BRRRRPACNOR5</td>\n",
       "    </tr>\n",
       "  </tbody>\n",
       "</table>\n",
       "</div>"
      ],
      "text/plain": [
       "         Date       Open       High        Low      Close  Adj Close  \\\n",
       "0  2020-11-12  20.205654  21.898428  19.814260  20.450274  20.450274   \n",
       "1  2020-11-13  20.548122  20.890591  20.352427  20.352427  20.352427   \n",
       "2  2020-11-16  20.694895  20.792744  20.518768  20.548122  20.548122   \n",
       "3  2020-11-17  20.489412  20.538338  20.205654  20.538338  20.538338   \n",
       "4  2020-11-18  20.538338  20.616615  20.450274  20.450274  20.450274   \n",
       "\n",
       "      Volume    Ticker Exchange          ISIN  \n",
       "0  2124310.0  RRRP3.SA  BOVESPA  BRRRRPACNOR5  \n",
       "1   480335.0  RRRP3.SA  BOVESPA  BRRRRPACNOR5  \n",
       "2   179666.0  RRRP3.SA  BOVESPA  BRRRRPACNOR5  \n",
       "3   262242.0  RRRP3.SA  BOVESPA  BRRRRPACNOR5  \n",
       "4    98724.0  RRRP3.SA  BOVESPA  BRRRRPACNOR5  "
      ]
     },
     "execution_count": 4,
     "metadata": {},
     "output_type": "execute_result"
    }
   ],
   "source": [
    "stock_price.head()"
   ]
  },
  {
   "cell_type": "code",
   "execution_count": 5,
   "id": "f52005da",
   "metadata": {
    "colab": {
     "base_uri": "https://localhost:8080/"
    },
    "executionInfo": {
     "elapsed": 25,
     "status": "ok",
     "timestamp": 1708457230322,
     "user": {
      "displayName": "Lisa Chiang",
      "userId": "09169802507274919284"
     },
     "user_tz": 0
    },
    "id": "f52005da",
    "outputId": "61312615-9379-4f5a-948e-716287080b74"
   },
   "outputs": [
    {
     "data": {
      "text/plain": [
       "(2022145, 10)"
      ]
     },
     "execution_count": 5,
     "metadata": {},
     "output_type": "execute_result"
    }
   ],
   "source": [
    "stock_price.shape"
   ]
  },
  {
   "cell_type": "code",
   "execution_count": 6,
   "id": "2aa55141",
   "metadata": {
    "colab": {
     "base_uri": "https://localhost:8080/"
    },
    "executionInfo": {
     "elapsed": 1214,
     "status": "ok",
     "timestamp": 1708457231519,
     "user": {
      "displayName": "Lisa Chiang",
      "userId": "09169802507274919284"
     },
     "user_tz": 0
    },
    "id": "2aa55141",
    "outputId": "2b1a2826-9f82-411a-a5e1-79d3f52f9abc"
   },
   "outputs": [
    {
     "data": {
      "text/plain": [
       "Date         0\n",
       "Open         0\n",
       "High         0\n",
       "Low          0\n",
       "Close        0\n",
       "Adj Close    0\n",
       "Volume       0\n",
       "Ticker       0\n",
       "Exchange     0\n",
       "ISIN         0\n",
       "dtype: int64"
      ]
     },
     "execution_count": 6,
     "metadata": {},
     "output_type": "execute_result"
    }
   ],
   "source": [
    "check_null(stock_price)"
   ]
  },
  {
   "cell_type": "code",
   "execution_count": 7,
   "id": "5a8a0ec2",
   "metadata": {
    "colab": {
     "base_uri": "https://localhost:8080/"
    },
    "executionInfo": {
     "elapsed": 722,
     "status": "ok",
     "timestamp": 1708457232232,
     "user": {
      "displayName": "Lisa Chiang",
      "userId": "09169802507274919284"
     },
     "user_tz": 0
    },
    "id": "5a8a0ec2",
    "outputId": "84ed2cd5-9b55-4391-a832-0ee63e5f2163"
   },
   "outputs": [
    {
     "data": {
      "text/plain": [
       "Date              0\n",
       "Open            665\n",
       "High            504\n",
       "Low             507\n",
       "Close           506\n",
       "Adj Close       506\n",
       "Volume       542959\n",
       "Ticker            0\n",
       "Exchange          0\n",
       "ISIN              0\n",
       "dtype: int64"
      ]
     },
     "execution_count": 7,
     "metadata": {},
     "output_type": "execute_result"
    }
   ],
   "source": [
    "check_zero(stock_price)"
   ]
  },
  {
   "cell_type": "code",
   "execution_count": 8,
   "id": "30692801",
   "metadata": {
    "colab": {
     "base_uri": "https://localhost:8080/",
     "height": 206
    },
    "executionInfo": {
     "elapsed": 18,
     "status": "ok",
     "timestamp": 1708457232233,
     "user": {
      "displayName": "Lisa Chiang",
      "userId": "09169802507274919284"
     },
     "user_tz": 0
    },
    "id": "30692801",
    "outputId": "5d1fd402-3820-4865-a88b-5b5659a8b71a",
    "scrolled": true
   },
   "outputs": [
    {
     "data": {
      "text/html": [
       "<div>\n",
       "<style scoped>\n",
       "    .dataframe tbody tr th:only-of-type {\n",
       "        vertical-align: middle;\n",
       "    }\n",
       "\n",
       "    .dataframe tbody tr th {\n",
       "        vertical-align: top;\n",
       "    }\n",
       "\n",
       "    .dataframe thead th {\n",
       "        text-align: right;\n",
       "    }\n",
       "</style>\n",
       "<table border=\"1\" class=\"dataframe\">\n",
       "  <thead>\n",
       "    <tr style=\"text-align: right;\">\n",
       "      <th></th>\n",
       "      <th>Date</th>\n",
       "      <th>Open</th>\n",
       "      <th>High</th>\n",
       "      <th>Low</th>\n",
       "      <th>Close</th>\n",
       "      <th>Adj Close</th>\n",
       "      <th>Volume</th>\n",
       "      <th>Ticker</th>\n",
       "      <th>Exchange</th>\n",
       "      <th>ISIN</th>\n",
       "    </tr>\n",
       "  </thead>\n",
       "  <tbody>\n",
       "    <tr>\n",
       "      <th>49723</th>\n",
       "      <td>2011-03-24</td>\n",
       "      <td>0.0</td>\n",
       "      <td>13.793078</td>\n",
       "      <td>13.476069</td>\n",
       "      <td>13.718165</td>\n",
       "      <td>13.099489</td>\n",
       "      <td>5758858.0</td>\n",
       "      <td>ALFAA.MX</td>\n",
       "      <td>BMV</td>\n",
       "      <td>MXP000511016</td>\n",
       "    </tr>\n",
       "    <tr>\n",
       "      <th>49724</th>\n",
       "      <td>2011-03-25</td>\n",
       "      <td>0.0</td>\n",
       "      <td>14.068976</td>\n",
       "      <td>13.721819</td>\n",
       "      <td>13.952952</td>\n",
       "      <td>13.323687</td>\n",
       "      <td>5757632.0</td>\n",
       "      <td>ALFAA.MX</td>\n",
       "      <td>BMV</td>\n",
       "      <td>MXP000511016</td>\n",
       "    </tr>\n",
       "    <tr>\n",
       "      <th>49731</th>\n",
       "      <td>2011-04-05</td>\n",
       "      <td>0.0</td>\n",
       "      <td>15.576366</td>\n",
       "      <td>14.982546</td>\n",
       "      <td>15.256617</td>\n",
       "      <td>14.568557</td>\n",
       "      <td>8592664.0</td>\n",
       "      <td>ALFAA.MX</td>\n",
       "      <td>BMV</td>\n",
       "      <td>MXP000511016</td>\n",
       "    </tr>\n",
       "    <tr>\n",
       "      <th>49753</th>\n",
       "      <td>2011-05-09</td>\n",
       "      <td>0.0</td>\n",
       "      <td>15.497799</td>\n",
       "      <td>15.201803</td>\n",
       "      <td>15.363504</td>\n",
       "      <td>14.845777</td>\n",
       "      <td>2923126.0</td>\n",
       "      <td>ALFAA.MX</td>\n",
       "      <td>BMV</td>\n",
       "      <td>MXP000511016</td>\n",
       "    </tr>\n",
       "    <tr>\n",
       "      <th>49758</th>\n",
       "      <td>2011-05-16</td>\n",
       "      <td>0.0</td>\n",
       "      <td>15.072989</td>\n",
       "      <td>14.692944</td>\n",
       "      <td>14.903979</td>\n",
       "      <td>14.401737</td>\n",
       "      <td>10245072.0</td>\n",
       "      <td>ALFAA.MX</td>\n",
       "      <td>BMV</td>\n",
       "      <td>MXP000511016</td>\n",
       "    </tr>\n",
       "  </tbody>\n",
       "</table>\n",
       "</div>"
      ],
      "text/plain": [
       "             Date  Open       High        Low      Close  Adj Close  \\\n",
       "49723  2011-03-24   0.0  13.793078  13.476069  13.718165  13.099489   \n",
       "49724  2011-03-25   0.0  14.068976  13.721819  13.952952  13.323687   \n",
       "49731  2011-04-05   0.0  15.576366  14.982546  15.256617  14.568557   \n",
       "49753  2011-05-09   0.0  15.497799  15.201803  15.363504  14.845777   \n",
       "49758  2011-05-16   0.0  15.072989  14.692944  14.903979  14.401737   \n",
       "\n",
       "           Volume    Ticker Exchange          ISIN  \n",
       "49723   5758858.0  ALFAA.MX      BMV  MXP000511016  \n",
       "49724   5757632.0  ALFAA.MX      BMV  MXP000511016  \n",
       "49731   8592664.0  ALFAA.MX      BMV  MXP000511016  \n",
       "49753   2923126.0  ALFAA.MX      BMV  MXP000511016  \n",
       "49758  10245072.0  ALFAA.MX      BMV  MXP000511016  "
      ]
     },
     "execution_count": 8,
     "metadata": {},
     "output_type": "execute_result"
    }
   ],
   "source": [
    "stock_price[stock_price['Open']==0].head()"
   ]
  },
  {
   "cell_type": "code",
   "execution_count": 9,
   "id": "oFCPpujoWp3A",
   "metadata": {
    "id": "oFCPpujoWp3A"
   },
   "outputs": [],
   "source": [
    "for column in ['Open', 'High', 'Low', 'Close', 'Adj Close', 'Volume']:\n",
    "  stock_price[column] = np.where(stock_price[column] == 0, np.nan, stock_price[column])"
   ]
  },
  {
   "cell_type": "code",
   "execution_count": 10,
   "id": "9ETPn9A-W4J_",
   "metadata": {
    "colab": {
     "base_uri": "https://localhost:8080/"
    },
    "executionInfo": {
     "elapsed": 1129,
     "status": "ok",
     "timestamp": 1708457233707,
     "user": {
      "displayName": "Lisa Chiang",
      "userId": "09169802507274919284"
     },
     "user_tz": 0
    },
    "id": "9ETPn9A-W4J_",
    "outputId": "a4cc3f7f-9dc0-4381-d31d-65d53fa9b540"
   },
   "outputs": [
    {
     "data": {
      "text/plain": [
       "Date              0\n",
       "Open            665\n",
       "High            504\n",
       "Low             507\n",
       "Close           506\n",
       "Adj Close       506\n",
       "Volume       542959\n",
       "Ticker            0\n",
       "Exchange          0\n",
       "ISIN              0\n",
       "dtype: int64"
      ]
     },
     "execution_count": 10,
     "metadata": {},
     "output_type": "execute_result"
    }
   ],
   "source": [
    "check_null(stock_price)"
   ]
  },
  {
   "cell_type": "code",
   "execution_count": 11,
   "id": "FmXoCLhe_yho",
   "metadata": {
    "colab": {
     "base_uri": "https://localhost:8080/"
    },
    "executionInfo": {
     "elapsed": 1989,
     "status": "ok",
     "timestamp": 1708457422533,
     "user": {
      "displayName": "Lisa Chiang",
      "userId": "09169802507274919284"
     },
     "user_tz": 0
    },
    "id": "FmXoCLhe_yho",
    "outputId": "0382c7d4-ba3d-4457-974a-782e1e28ec8e"
   },
   "outputs": [
    {
     "data": {
      "text/plain": [
       "Date          55837\n",
       "Open          56502\n",
       "High          56341\n",
       "Low           56344\n",
       "Close         56343\n",
       "Adj Close     56343\n",
       "Volume       598796\n",
       "Ticker        55837\n",
       "Exchange      55837\n",
       "ISIN          55837\n",
       "dtype: int64"
      ]
     },
     "execution_count": 11,
     "metadata": {},
     "output_type": "execute_result"
    }
   ],
   "source": [
    "check_null(stock_price) + 55837"
   ]
  },
  {
   "cell_type": "code",
   "execution_count": 12,
   "id": "e12d5977",
   "metadata": {
    "id": "e12d5977"
   },
   "outputs": [],
   "source": [
    "stock_price['Date'] = pd.to_datetime(stock_price['Date'])"
   ]
  },
  {
   "cell_type": "code",
   "execution_count": 13,
   "id": "c594NUnpSSbz",
   "metadata": {
    "id": "c594NUnpSSbz"
   },
   "outputs": [],
   "source": [
    "stock_price['Year'] = stock_price['Date'].dt.strftime('%Y')"
   ]
  },
  {
   "cell_type": "code",
   "execution_count": 14,
   "id": "gsmXVatFSlXZ",
   "metadata": {
    "id": "gsmXVatFSlXZ"
   },
   "outputs": [],
   "source": [
    "stock_price = stock_price[stock_price['Year'] != '2024']"
   ]
  },
  {
   "cell_type": "code",
   "execution_count": 15,
   "id": "trehYvY4Uumi",
   "metadata": {
    "colab": {
     "base_uri": "https://localhost:8080/"
    },
    "executionInfo": {
     "elapsed": 20,
     "status": "ok",
     "timestamp": 1708457244551,
     "user": {
      "displayName": "Lisa Chiang",
      "userId": "09169802507274919284"
     },
     "user_tz": 0
    },
    "id": "trehYvY4Uumi",
    "outputId": "6d589658-2c02-4a2d-cf7e-d017808528c7"
   },
   "outputs": [
    {
     "data": {
      "text/plain": [
       "2002896"
      ]
     },
     "execution_count": 15,
     "metadata": {},
     "output_type": "execute_result"
    }
   ],
   "source": [
    "stock_price.shape[0]"
   ]
  },
  {
   "cell_type": "code",
   "execution_count": 16,
   "id": "bE7yGZo_UA6w",
   "metadata": {
    "colab": {
     "base_uri": "https://localhost:8080/"
    },
    "executionInfo": {
     "elapsed": 365,
     "status": "ok",
     "timestamp": 1708457244906,
     "user": {
      "displayName": "Lisa Chiang",
      "userId": "09169802507274919284"
     },
     "user_tz": 0
    },
    "id": "bE7yGZo_UA6w",
    "outputId": "82ae7c8d-c2ca-428d-b09d-dc2038baf476"
   },
   "outputs": [
    {
     "data": {
      "text/plain": [
       "267"
      ]
     },
     "execution_count": 16,
     "metadata": {},
     "output_type": "execute_result"
    }
   ],
   "source": [
    "isin_2006 = list(stock_price[stock_price['Year'] == '2006']['ISIN'].unique())\n",
    "len(isin_2006)"
   ]
  },
  {
   "cell_type": "code",
   "execution_count": 17,
   "id": "RZLDYhNgU18o",
   "metadata": {
    "id": "RZLDYhNgU18o"
   },
   "outputs": [],
   "source": [
    "stock_price_2006 = stock_price[stock_price['ISIN'].isin(isin_2006)]"
   ]
  },
  {
   "cell_type": "code",
   "execution_count": 18,
   "id": "rYr5y7BoVGIW",
   "metadata": {
    "colab": {
     "base_uri": "https://localhost:8080/"
    },
    "executionInfo": {
     "elapsed": 20,
     "status": "ok",
     "timestamp": 1708457244908,
     "user": {
      "displayName": "Lisa Chiang",
      "userId": "09169802507274919284"
     },
     "user_tz": 0
    },
    "id": "rYr5y7BoVGIW",
    "outputId": "9e153d55-d2cd-4c14-9650-4144b146541d"
   },
   "outputs": [
    {
     "data": {
      "text/plain": [
       "1197728"
      ]
     },
     "execution_count": 18,
     "metadata": {},
     "output_type": "execute_result"
    }
   ],
   "source": [
    "stock_price_2006.shape[0]"
   ]
  },
  {
   "cell_type": "code",
   "execution_count": 19,
   "id": "GWxqEMza-6IM",
   "metadata": {
    "colab": {
     "base_uri": "https://localhost:8080/"
    },
    "executionInfo": {
     "elapsed": 1047,
     "status": "ok",
     "timestamp": 1708457245943,
     "user": {
      "displayName": "Lisa Chiang",
      "userId": "09169802507274919284"
     },
     "user_tz": 0
    },
    "id": "GWxqEMza-6IM",
    "outputId": "637b2aeb-a648-4070-bf7b-f934b7cec62e"
   },
   "outputs": [
    {
     "data": {
      "text/plain": [
       "Date              0\n",
       "Open            502\n",
       "High            504\n",
       "Low             507\n",
       "Close           506\n",
       "Adj Close       506\n",
       "Volume       367841\n",
       "Ticker            0\n",
       "Exchange          0\n",
       "ISIN              0\n",
       "Year              0\n",
       "dtype: int64"
      ]
     },
     "execution_count": 19,
     "metadata": {},
     "output_type": "execute_result"
    }
   ],
   "source": [
    "check_null(stock_price_2006)"
   ]
  },
  {
   "cell_type": "markdown",
   "id": "sgGFGuiYR1bb",
   "metadata": {
    "id": "sgGFGuiYR1bb"
   },
   "source": [
    "# Try to get all the dates"
   ]
  },
  {
   "cell_type": "code",
   "execution_count": 20,
   "id": "8mEyi28YSBRI",
   "metadata": {
    "id": "8mEyi28YSBRI"
   },
   "outputs": [],
   "source": [
    "correct_datetime = pd.DataFrame({'datadate': list(np.sort(stock_price['Date'].unique()))})"
   ]
  },
  {
   "cell_type": "code",
   "execution_count": 21,
   "id": "H7E7RqTVTPyp",
   "metadata": {
    "colab": {
     "base_uri": "https://localhost:8080/",
     "height": 206
    },
    "executionInfo": {
     "elapsed": 13,
     "status": "ok",
     "timestamp": 1708314191874,
     "user": {
      "displayName": "Lisa Chiang",
      "userId": "09169802507274919284"
     },
     "user_tz": 0
    },
    "id": "H7E7RqTVTPyp",
    "outputId": "6c4789aa-c482-410d-8105-048e3ad544d6"
   },
   "outputs": [
    {
     "data": {
      "text/html": [
       "<div>\n",
       "<style scoped>\n",
       "    .dataframe tbody tr th:only-of-type {\n",
       "        vertical-align: middle;\n",
       "    }\n",
       "\n",
       "    .dataframe tbody tr th {\n",
       "        vertical-align: top;\n",
       "    }\n",
       "\n",
       "    .dataframe thead th {\n",
       "        text-align: right;\n",
       "    }\n",
       "</style>\n",
       "<table border=\"1\" class=\"dataframe\">\n",
       "  <thead>\n",
       "    <tr style=\"text-align: right;\">\n",
       "      <th></th>\n",
       "      <th>datadate</th>\n",
       "    </tr>\n",
       "  </thead>\n",
       "  <tbody>\n",
       "    <tr>\n",
       "      <th>0</th>\n",
       "      <td>2006-01-02</td>\n",
       "    </tr>\n",
       "    <tr>\n",
       "      <th>1</th>\n",
       "      <td>2006-01-03</td>\n",
       "    </tr>\n",
       "    <tr>\n",
       "      <th>2</th>\n",
       "      <td>2006-01-04</td>\n",
       "    </tr>\n",
       "    <tr>\n",
       "      <th>3</th>\n",
       "      <td>2006-01-05</td>\n",
       "    </tr>\n",
       "    <tr>\n",
       "      <th>4</th>\n",
       "      <td>2006-01-06</td>\n",
       "    </tr>\n",
       "  </tbody>\n",
       "</table>\n",
       "</div>"
      ],
      "text/plain": [
       "    datadate\n",
       "0 2006-01-02\n",
       "1 2006-01-03\n",
       "2 2006-01-04\n",
       "3 2006-01-05\n",
       "4 2006-01-06"
      ]
     },
     "execution_count": 21,
     "metadata": {},
     "output_type": "execute_result"
    }
   ],
   "source": [
    "correct_datetime.head()"
   ]
  },
  {
   "cell_type": "code",
   "execution_count": 22,
   "id": "sc3PuFqFTnjh",
   "metadata": {
    "colab": {
     "base_uri": "https://localhost:8080/"
    },
    "executionInfo": {
     "elapsed": 13,
     "status": "ok",
     "timestamp": 1708314191875,
     "user": {
      "displayName": "Lisa Chiang",
      "userId": "09169802507274919284"
     },
     "user_tz": 0
    },
    "id": "sc3PuFqFTnjh",
    "outputId": "7b7ddadb-203e-4261-9de0-a1db4a5a1f80"
   },
   "outputs": [
    {
     "data": {
      "text/plain": [
       "4695"
      ]
     },
     "execution_count": 22,
     "metadata": {},
     "output_type": "execute_result"
    }
   ],
   "source": [
    "correct_datetime.shape[0]"
   ]
  },
  {
   "cell_type": "code",
   "execution_count": 23,
   "id": "YOo_ry1Bb138",
   "metadata": {
    "colab": {
     "base_uri": "https://localhost:8080/"
    },
    "executionInfo": {
     "elapsed": 10,
     "status": "ok",
     "timestamp": 1708314191875,
     "user": {
      "displayName": "Lisa Chiang",
      "userId": "09169802507274919284"
     },
     "user_tz": 0
    },
    "id": "YOo_ry1Bb138",
    "outputId": "10cf6bff-6562-40b0-b4e0-0850a374ba02"
   },
   "outputs": [
    {
     "data": {
      "text/plain": [
       "267"
      ]
     },
     "execution_count": 23,
     "metadata": {},
     "output_type": "execute_result"
    }
   ],
   "source": [
    "len(isin_2006)"
   ]
  },
  {
   "cell_type": "code",
   "execution_count": 24,
   "id": "QclXcEo3TZLJ",
   "metadata": {
    "colab": {
     "base_uri": "https://localhost:8080/"
    },
    "executionInfo": {
     "elapsed": 8,
     "status": "ok",
     "timestamp": 1708314191875,
     "user": {
      "displayName": "Lisa Chiang",
      "userId": "09169802507274919284"
     },
     "user_tz": 0
    },
    "id": "QclXcEo3TZLJ",
    "outputId": "a629a2a5-ddbb-4b4e-95f1-6e9296057481"
   },
   "outputs": [
    {
     "data": {
      "text/plain": [
       "1253565"
      ]
     },
     "execution_count": 24,
     "metadata": {},
     "output_type": "execute_result"
    }
   ],
   "source": [
    "# find the expected length of the dataframe\n",
    "expected_length = correct_datetime.shape[0] * len(isin_2006)\n",
    "expected_length"
   ]
  },
  {
   "cell_type": "markdown",
   "id": "cmiqjjzRVOvW",
   "metadata": {
    "id": "cmiqjjzRVOvW"
   },
   "source": [
    "1253565 - 1197728 = 55837 rows interpolated."
   ]
  },
  {
   "cell_type": "markdown",
   "id": "67efad93",
   "metadata": {
    "id": "67efad93"
   },
   "source": [
    "# Time interpolation"
   ]
  },
  {
   "cell_type": "code",
   "execution_count": 25,
   "id": "QLYIsFMhWa5J",
   "metadata": {
    "colab": {
     "base_uri": "https://localhost:8080/",
     "height": 80
    },
    "executionInfo": {
     "elapsed": 7,
     "status": "ok",
     "timestamp": 1708314191875,
     "user": {
      "displayName": "Lisa Chiang",
      "userId": "09169802507274919284"
     },
     "user_tz": 0
    },
    "id": "QLYIsFMhWa5J",
    "outputId": "1558d646-5e24-4a5f-bb01-b0ef2042729f"
   },
   "outputs": [
    {
     "data": {
      "text/html": [
       "<div>\n",
       "<style scoped>\n",
       "    .dataframe tbody tr th:only-of-type {\n",
       "        vertical-align: middle;\n",
       "    }\n",
       "\n",
       "    .dataframe tbody tr th {\n",
       "        vertical-align: top;\n",
       "    }\n",
       "\n",
       "    .dataframe thead th {\n",
       "        text-align: right;\n",
       "    }\n",
       "</style>\n",
       "<table border=\"1\" class=\"dataframe\">\n",
       "  <thead>\n",
       "    <tr style=\"text-align: right;\">\n",
       "      <th></th>\n",
       "      <th>Date</th>\n",
       "      <th>Open</th>\n",
       "      <th>High</th>\n",
       "      <th>Low</th>\n",
       "      <th>Close</th>\n",
       "      <th>Adj Close</th>\n",
       "      <th>Volume</th>\n",
       "      <th>Ticker</th>\n",
       "      <th>Exchange</th>\n",
       "      <th>ISIN</th>\n",
       "      <th>Year</th>\n",
       "    </tr>\n",
       "  </thead>\n",
       "  <tbody>\n",
       "    <tr>\n",
       "      <th>809</th>\n",
       "      <td>2006-01-02</td>\n",
       "      <td>1.867705</td>\n",
       "      <td>1.867705</td>\n",
       "      <td>1.867705</td>\n",
       "      <td>1.867705</td>\n",
       "      <td>1.867705</td>\n",
       "      <td>NaN</td>\n",
       "      <td>ACCELSAB.MX</td>\n",
       "      <td>BMV</td>\n",
       "      <td>MXP000171316</td>\n",
       "      <td>2006</td>\n",
       "    </tr>\n",
       "  </tbody>\n",
       "</table>\n",
       "</div>"
      ],
      "text/plain": [
       "          Date      Open      High       Low     Close  Adj Close  Volume  \\\n",
       "809 2006-01-02  1.867705  1.867705  1.867705  1.867705   1.867705     NaN   \n",
       "\n",
       "          Ticker Exchange          ISIN  Year  \n",
       "809  ACCELSAB.MX      BMV  MXP000171316  2006  "
      ]
     },
     "execution_count": 25,
     "metadata": {},
     "output_type": "execute_result"
    }
   ],
   "source": [
    "stock_price_2006.head(1)"
   ]
  },
  {
   "cell_type": "code",
   "execution_count": 26,
   "id": "FCg9iaQYVgIz",
   "metadata": {
    "id": "FCg9iaQYVgIz"
   },
   "outputs": [],
   "source": [
    "correct_datetime.set_index('datadate', inplace = True)"
   ]
  },
  {
   "cell_type": "code",
   "execution_count": 27,
   "id": "HP-dtgajVz4x",
   "metadata": {
    "id": "HP-dtgajVz4x"
   },
   "outputs": [],
   "source": [
    "first_company_info = stock_price_2006[stock_price_2006['ISIN'] == isin_2006[0]].set_index('Date')\n",
    "stock_price_adjusted = first_company_info.join(correct_datetime, how = 'outer').reset_index()\n",
    "\n",
    "for column in ['Ticker', 'Exchange', 'ISIN']:\n",
    "    stock_price_adjusted[column] = stock_price_adjusted[stock_price_adjusted[column].notnull()][column].unique().item()\n",
    "\n",
    "\n",
    "# interpolation:\n",
    "stock_price_adjusted.set_index('index', inplace = True)\n",
    "for column in ['Open', 'High', 'Low', 'Close', 'Adj Close', 'Volume']:\n",
    "  stock_price_adjusted[column] = stock_price_adjusted[column].interpolate(method='time', limit_direction='both')\n",
    "stock_price_adjusted.reset_index(drop = False, inplace = True)"
   ]
  },
  {
   "cell_type": "code",
   "execution_count": 28,
   "id": "z-PAVV__bdpN",
   "metadata": {
    "colab": {
     "base_uri": "https://localhost:8080/"
    },
    "executionInfo": {
     "elapsed": 9,
     "status": "ok",
     "timestamp": 1708314192127,
     "user": {
      "displayName": "Lisa Chiang",
      "userId": "09169802507274919284"
     },
     "user_tz": 0
    },
    "id": "z-PAVV__bdpN",
    "outputId": "b1fc8bbb-568c-4502-ea1a-548da2268220"
   },
   "outputs": [
    {
     "data": {
      "text/plain": [
       "4695"
      ]
     },
     "execution_count": 28,
     "metadata": {},
     "output_type": "execute_result"
    }
   ],
   "source": [
    "stock_price_adjusted.shape[0]"
   ]
  },
  {
   "cell_type": "code",
   "execution_count": null,
   "id": "gfO_hNTPcA_x",
   "metadata": {
    "colab": {
     "base_uri": "https://localhost:8080/"
    },
    "executionInfo": {
     "elapsed": 43459,
     "status": "ok",
     "timestamp": 1708314235581,
     "user": {
      "displayName": "Lisa Chiang",
      "userId": "09169802507274919284"
     },
     "user_tz": 0
    },
    "id": "gfO_hNTPcA_x",
    "outputId": "a526d923-8b02-4b54-c0b3-cb5e69c2b74f"
   },
   "outputs": [
    {
     "name": "stdout",
     "output_type": "stream",
     "text": [
      "1253565\n"
     ]
    }
   ],
   "source": [
    "for isin in isin_2006[1:]:\n",
    "    temp = stock_price_2006[stock_price_2006['ISIN'] == isin].set_index('Date')\n",
    "    temp = temp.join(correct_datetime, how = 'outer').reset_index()\n",
    "\n",
    "    for column in ['Ticker', 'Exchange', 'ISIN']:\n",
    "      temp[column] = temp[temp[column].notnull()][column].unique().item()\n",
    "\n",
    "\n",
    "    # interpolation:\n",
    "    temp.set_index('index', inplace = True)\n",
    "    for column in ['Open', 'High', 'Low', 'Close', 'Adj Close', 'Volume']:\n",
    "      temp[column] = temp[column].interpolate(method='time', limit_direction='both')\n",
    "    temp.reset_index(drop = False, inplace = True)\n",
    "\n",
    "    stock_price_adjusted = pd.concat([stock_price_adjusted, temp], axis = 0)\n",
    "\n",
    "print(stock_price_adjusted.shape[0])"
   ]
  },
  {
   "cell_type": "code",
   "execution_count": null,
   "id": "ZDlkBllpeCR6",
   "metadata": {
    "id": "ZDlkBllpeCR6"
   },
   "outputs": [],
   "source": [
    "stock_price_adjusted.columns = ['Date', 'Open', 'High', 'Low', 'Close', 'Adj Close', 'Volume', 'Ticker', 'Exchange', 'ISIN', 'Year']"
   ]
  },
  {
   "cell_type": "code",
   "execution_count": null,
   "id": "9N6c078HeIrQ",
   "metadata": {
    "id": "9N6c078HeIrQ"
   },
   "outputs": [],
   "source": [
    "stock_price_adjusted['Year'] = stock_price_adjusted['Date'].dt.strftime('%Y')"
   ]
  },
  {
   "cell_type": "code",
   "execution_count": null,
   "id": "TboOto5Td5ap",
   "metadata": {
    "colab": {
     "base_uri": "https://localhost:8080/"
    },
    "executionInfo": {
     "elapsed": 1036,
     "status": "ok",
     "timestamp": 1708314448468,
     "user": {
      "displayName": "Lisa Chiang",
      "userId": "09169802507274919284"
     },
     "user_tz": 0
    },
    "id": "TboOto5Td5ap",
    "outputId": "0142050e-f3f4-432e-b012-52d9855812b2"
   },
   "outputs": [
    {
     "data": {
      "text/plain": [
       "Date         0\n",
       "Open         0\n",
       "High         0\n",
       "Low          0\n",
       "Close        0\n",
       "Adj Close    0\n",
       "Volume       0\n",
       "Ticker       0\n",
       "Exchange     0\n",
       "ISIN         0\n",
       "Year         0\n",
       "dtype: int64"
      ]
     },
     "execution_count": 33,
     "metadata": {},
     "output_type": "execute_result"
    }
   ],
   "source": [
    "check_null(stock_price_adjusted)"
   ]
  },
  {
   "cell_type": "markdown",
   "id": "722037ae",
   "metadata": {
    "id": "722037ae"
   },
   "source": [
    "# All prices to USD"
   ]
  },
  {
   "cell_type": "code",
   "execution_count": null,
   "id": "d1424efd",
   "metadata": {
    "colab": {
     "base_uri": "https://localhost:8080/",
     "height": 80
    },
    "executionInfo": {
     "elapsed": 4,
     "status": "ok",
     "timestamp": 1708314590074,
     "user": {
      "displayName": "Lisa Chiang",
      "userId": "09169802507274919284"
     },
     "user_tz": 0
    },
    "id": "d1424efd",
    "outputId": "81b0293f-7217-4b6a-a180-720f7be99358"
   },
   "outputs": [
    {
     "data": {
      "application/vnd.google.colaboratory.intrinsic+json": {
       "type": "dataframe",
       "variable_name": "stock_price_adjusted"
      },
      "text/html": [
       "\n",
       "  <div id=\"df-64e0e764-bda2-4762-b8f7-d9ebbb129e2c\" class=\"colab-df-container\">\n",
       "    <div>\n",
       "<style scoped>\n",
       "    .dataframe tbody tr th:only-of-type {\n",
       "        vertical-align: middle;\n",
       "    }\n",
       "\n",
       "    .dataframe tbody tr th {\n",
       "        vertical-align: top;\n",
       "    }\n",
       "\n",
       "    .dataframe thead th {\n",
       "        text-align: right;\n",
       "    }\n",
       "</style>\n",
       "<table border=\"1\" class=\"dataframe\">\n",
       "  <thead>\n",
       "    <tr style=\"text-align: right;\">\n",
       "      <th></th>\n",
       "      <th>Date</th>\n",
       "      <th>Open</th>\n",
       "      <th>High</th>\n",
       "      <th>Low</th>\n",
       "      <th>Close</th>\n",
       "      <th>Adj Close</th>\n",
       "      <th>Volume</th>\n",
       "      <th>Ticker</th>\n",
       "      <th>Exchange</th>\n",
       "      <th>ISIN</th>\n",
       "      <th>Year</th>\n",
       "    </tr>\n",
       "  </thead>\n",
       "  <tbody>\n",
       "    <tr>\n",
       "      <th>0</th>\n",
       "      <td>2006-01-02</td>\n",
       "      <td>1.867705</td>\n",
       "      <td>1.867705</td>\n",
       "      <td>1.867705</td>\n",
       "      <td>1.867705</td>\n",
       "      <td>1.867705</td>\n",
       "      <td>10172.0</td>\n",
       "      <td>ACCELSAB.MX</td>\n",
       "      <td>BMV</td>\n",
       "      <td>MXP000171316</td>\n",
       "      <td>2006</td>\n",
       "    </tr>\n",
       "  </tbody>\n",
       "</table>\n",
       "</div>\n",
       "    <div class=\"colab-df-buttons\">\n",
       "\n",
       "  <div class=\"colab-df-container\">\n",
       "    <button class=\"colab-df-convert\" onclick=\"convertToInteractive('df-64e0e764-bda2-4762-b8f7-d9ebbb129e2c')\"\n",
       "            title=\"Convert this dataframe to an interactive table.\"\n",
       "            style=\"display:none;\">\n",
       "\n",
       "  <svg xmlns=\"http://www.w3.org/2000/svg\" height=\"24px\" viewBox=\"0 -960 960 960\">\n",
       "    <path d=\"M120-120v-720h720v720H120Zm60-500h600v-160H180v160Zm220 220h160v-160H400v160Zm0 220h160v-160H400v160ZM180-400h160v-160H180v160Zm440 0h160v-160H620v160ZM180-180h160v-160H180v160Zm440 0h160v-160H620v160Z\"/>\n",
       "  </svg>\n",
       "    </button>\n",
       "\n",
       "  <style>\n",
       "    .colab-df-container {\n",
       "      display:flex;\n",
       "      gap: 12px;\n",
       "    }\n",
       "\n",
       "    .colab-df-convert {\n",
       "      background-color: #E8F0FE;\n",
       "      border: none;\n",
       "      border-radius: 50%;\n",
       "      cursor: pointer;\n",
       "      display: none;\n",
       "      fill: #1967D2;\n",
       "      height: 32px;\n",
       "      padding: 0 0 0 0;\n",
       "      width: 32px;\n",
       "    }\n",
       "\n",
       "    .colab-df-convert:hover {\n",
       "      background-color: #E2EBFA;\n",
       "      box-shadow: 0px 1px 2px rgba(60, 64, 67, 0.3), 0px 1px 3px 1px rgba(60, 64, 67, 0.15);\n",
       "      fill: #174EA6;\n",
       "    }\n",
       "\n",
       "    .colab-df-buttons div {\n",
       "      margin-bottom: 4px;\n",
       "    }\n",
       "\n",
       "    [theme=dark] .colab-df-convert {\n",
       "      background-color: #3B4455;\n",
       "      fill: #D2E3FC;\n",
       "    }\n",
       "\n",
       "    [theme=dark] .colab-df-convert:hover {\n",
       "      background-color: #434B5C;\n",
       "      box-shadow: 0px 1px 3px 1px rgba(0, 0, 0, 0.15);\n",
       "      filter: drop-shadow(0px 1px 2px rgba(0, 0, 0, 0.3));\n",
       "      fill: #FFFFFF;\n",
       "    }\n",
       "  </style>\n",
       "\n",
       "    <script>\n",
       "      const buttonEl =\n",
       "        document.querySelector('#df-64e0e764-bda2-4762-b8f7-d9ebbb129e2c button.colab-df-convert');\n",
       "      buttonEl.style.display =\n",
       "        google.colab.kernel.accessAllowed ? 'block' : 'none';\n",
       "\n",
       "      async function convertToInteractive(key) {\n",
       "        const element = document.querySelector('#df-64e0e764-bda2-4762-b8f7-d9ebbb129e2c');\n",
       "        const dataTable =\n",
       "          await google.colab.kernel.invokeFunction('convertToInteractive',\n",
       "                                                    [key], {});\n",
       "        if (!dataTable) return;\n",
       "\n",
       "        const docLinkHtml = 'Like what you see? Visit the ' +\n",
       "          '<a target=\"_blank\" href=https://colab.research.google.com/notebooks/data_table.ipynb>data table notebook</a>'\n",
       "          + ' to learn more about interactive tables.';\n",
       "        element.innerHTML = '';\n",
       "        dataTable['output_type'] = 'display_data';\n",
       "        await google.colab.output.renderOutput(dataTable, element);\n",
       "        const docLink = document.createElement('div');\n",
       "        docLink.innerHTML = docLinkHtml;\n",
       "        element.appendChild(docLink);\n",
       "      }\n",
       "    </script>\n",
       "  </div>\n",
       "\n",
       "    </div>\n",
       "  </div>\n"
      ],
      "text/plain": [
       "        Date      Open      High       Low     Close  Adj Close   Volume  \\\n",
       "0 2006-01-02  1.867705  1.867705  1.867705  1.867705   1.867705  10172.0   \n",
       "\n",
       "        Ticker Exchange          ISIN  Year  \n",
       "0  ACCELSAB.MX      BMV  MXP000171316  2006  "
      ]
     },
     "execution_count": 35,
     "metadata": {},
     "output_type": "execute_result"
    }
   ],
   "source": [
    "stock_price_adjusted.head(1)"
   ]
  },
  {
   "cell_type": "code",
   "execution_count": null,
   "id": "5990694c",
   "metadata": {
    "colab": {
     "base_uri": "https://localhost:8080/"
    },
    "executionInfo": {
     "elapsed": 2,
     "status": "ok",
     "timestamp": 1708314603683,
     "user": {
      "displayName": "Lisa Chiang",
      "userId": "09169802507274919284"
     },
     "user_tz": 0
    },
    "id": "5990694c",
    "outputId": "91f12fd6-2a1f-47ff-f503-a333c47265cd"
   },
   "outputs": [
    {
     "data": {
      "text/plain": [
       "(1253565, 11)"
      ]
     },
     "execution_count": 36,
     "metadata": {},
     "output_type": "execute_result"
    }
   ],
   "source": [
    "stock_price_adjusted.shape"
   ]
  },
  {
   "cell_type": "markdown",
   "id": "dec17925",
   "metadata": {
    "id": "dec17925"
   },
   "source": [
    "## Load exchange rate dataset"
   ]
  },
  {
   "cell_type": "code",
   "execution_count": null,
   "id": "af14a951",
   "metadata": {
    "id": "af14a951"
   },
   "outputs": [],
   "source": [
    "exchange_rate = pd.read_excel('exchange rates.xlsx')"
   ]
  },
  {
   "cell_type": "code",
   "execution_count": null,
   "id": "0571c6e9",
   "metadata": {
    "colab": {
     "base_uri": "https://localhost:8080/",
     "height": 184
    },
    "executionInfo": {
     "elapsed": 299,
     "status": "ok",
     "timestamp": 1708314657449,
     "user": {
      "displayName": "Lisa Chiang",
      "userId": "09169802507274919284"
     },
     "user_tz": 0
    },
    "id": "0571c6e9",
    "outputId": "29e61ecb-4444-4e5d-bc86-baf72aca49c4"
   },
   "outputs": [
    {
     "data": {
      "application/vnd.google.colaboratory.intrinsic+json": {
       "summary": "{\n  \"name\": \"exchange_rate\",\n  \"rows\": 14,\n  \"fields\": [\n    {\n      \"column\": \"Country\",\n      \"properties\": {\n        \"dtype\": \"string\",\n        \"samples\": [\n          \"Hong Kong China\",\n          \"Trinidad and Tobago\",\n          \"United States\"\n        ],\n        \"num_unique_values\": 14,\n        \"semantic_type\": \"\",\n        \"description\": \"\"\n      }\n    },\n    {\n      \"column\": \"Country Code\",\n      \"properties\": {\n        \"dtype\": \"string\",\n        \"samples\": [\n          \"HKG\",\n          \"TTO\",\n          \"USA\"\n        ],\n        \"num_unique_values\": 14,\n        \"semantic_type\": \"\",\n        \"description\": \"\"\n      }\n    },\n    {\n      \"column\": 2006,\n      \"properties\": {\n        \"dtype\": \"number\",\n        \"std\": 658.3177206722235,\n        \"min\": 0.54334911127,\n        \"max\": 2359.01354757984,\n        \"samples\": [\n          7.76845282718,\n          6.28699135454,\n          1.0\n        ],\n        \"num_unique_values\": 14,\n        \"semantic_type\": \"\",\n        \"description\": \"\"\n      }\n    },\n    {\n      \"column\": 2007,\n      \"properties\": {\n        \"dtype\": \"number\",\n        \"std\": 588.1873736324276,\n        \"min\": 0.49976992027,\n        \"max\": 2077.04864482559,\n        \"samples\": [\n          7.80217161757,\n          6.29425680799,\n          1.0\n        ],\n        \"num_unique_values\": 14,\n        \"semantic_type\": \"\",\n        \"description\": \"\"\n      }\n    },\n    {\n      \"column\": 2008,\n      \"properties\": {\n        \"dtype\": \"number\",\n        \"std\": 579.8720843418984,\n        \"min\": 0.54560241821,\n        \"max\": 1968.0538480692,\n        \"samples\": [\n          7.78630557987,\n          6.2573696554,\n          1.0\n        ],\n        \"num_unique_values\": 14,\n        \"semantic_type\": \"\",\n        \"description\": \"\"\n      }\n    },\n    {\n      \"column\": 2009,\n      \"properties\": {\n        \"dtype\": \"number\",\n        \"std\": 642.8789863087246,\n        \"min\": 0.64083739236,\n        \"max\": 2156.61930041094,\n        \"samples\": [\n          7.75163774311,\n          6.29887437104,\n          1.0\n        ],\n        \"num_unique_values\": 14,\n        \"semantic_type\": \"\",\n        \"description\": \"\"\n      }\n    },\n    {\n      \"column\": 2010,\n      \"properties\": {\n        \"dtype\": \"number\",\n        \"std\": 569.8733086875133,\n        \"min\": 0.64739169757,\n        \"max\": 1898.36737763243,\n        \"samples\": [\n          7.76890674525,\n          6.33839749749,\n          1.0\n        ],\n        \"num_unique_values\": 14,\n        \"semantic_type\": \"\",\n        \"description\": \"\"\n      }\n    },\n    {\n      \"column\": 2011,\n      \"properties\": {\n        \"dtype\": \"number\",\n        \"std\": 552.2259370261927,\n        \"min\": 0.62366019626,\n        \"max\": 1848.01657404009,\n        \"samples\": [\n          7.78433846618,\n          6.37924455189,\n          1.0\n        ],\n        \"num_unique_values\": 14,\n        \"semantic_type\": \"\",\n        \"description\": \"\"\n      }\n    },\n    {\n      \"column\": 2012,\n      \"properties\": {\n        \"dtype\": \"number\",\n        \"std\": 543.1289393490199,\n        \"min\": 0.63087804043,\n        \"max\": 1796.7399086831,\n        \"samples\": [\n          7.75706760462,\n          6.38128393563,\n          1.0\n        ],\n        \"num_unique_values\": 14,\n        \"semantic_type\": \"\",\n        \"description\": \"\"\n      }\n    },\n    {\n      \"column\": 2013,\n      \"properties\": {\n        \"dtype\": \"number\",\n        \"std\": 555.3535520251888,\n        \"min\": 0.63953665913,\n        \"max\": 1869.27270036546,\n        \"samples\": [\n          7.7567197503,\n          6.37345767457,\n          1.0\n        ],\n        \"num_unique_values\": 14,\n        \"semantic_type\": \"\",\n        \"description\": \"\"\n      }\n    },\n    {\n      \"column\": 2014,\n      \"properties\": {\n        \"dtype\": \"number\",\n        \"std\": 583.2177000021356,\n        \"min\": 0.60734868277,\n        \"max\": 2002.47938623816,\n        \"samples\": [\n          7.75475358868,\n          6.352413794,\n          1.0\n        ],\n        \"num_unique_values\": 14,\n        \"semantic_type\": \"\",\n        \"description\": \"\"\n      }\n    },\n    {\n      \"column\": 2015,\n      \"properties\": {\n        \"dtype\": \"number\",\n        \"std\": 768.0716063632243,\n        \"min\": 0.65404009188,\n        \"max\": 2746.20729231759,\n        \"samples\": [\n          7.75261013003,\n          6.35196886568,\n          1.0\n        ],\n        \"num_unique_values\": 14,\n        \"semantic_type\": \"\",\n        \"description\": \"\"\n      }\n    },\n    {\n      \"column\": 2016,\n      \"properties\": {\n        \"dtype\": \"number\",\n        \"std\": 844.4461278816714,\n        \"min\": 0.74070052131,\n        \"max\": 3050.63213367441,\n        \"samples\": [\n          7.76225134961,\n          6.63494271612,\n          1.0\n        ],\n        \"num_unique_values\": 14,\n        \"semantic_type\": \"\",\n        \"description\": \"\"\n      }\n    },\n    {\n      \"column\": 2017,\n      \"properties\": {\n        \"dtype\": \"number\",\n        \"std\": 816.7002466497646,\n        \"min\": 0.77623035971,\n        \"max\": 2949.53747481413,\n        \"samples\": [\n          7.79259445722,\n          6.75131133989,\n          1.0\n        ],\n        \"num_unique_values\": 14,\n        \"semantic_type\": \"\",\n        \"description\": \"\"\n      }\n    },\n    {\n      \"column\": 2018,\n      \"properties\": {\n        \"dtype\": \"number\",\n        \"std\": 816.0554302912885,\n        \"min\": 0.74907751949,\n        \"max\": 2958.20210591108,\n        \"samples\": [\n          7.83733259029,\n          6.78545401188,\n          1.0\n        ],\n        \"num_unique_values\": 14,\n        \"semantic_type\": \"\",\n        \"description\": \"\"\n      }\n    },\n    {\n      \"column\": 2019,\n      \"properties\": {\n        \"dtype\": \"number\",\n        \"std\": 901.1234120748405,\n        \"min\": 0.78358496315,\n        \"max\": 3281.51537848203,\n        \"samples\": [\n          7.83512893963,\n          6.76588860735,\n          1.0\n        ],\n        \"num_unique_values\": 14,\n        \"semantic_type\": \"\",\n        \"description\": \"\"\n      }\n    },\n    {\n      \"column\": 2020,\n      \"properties\": {\n        \"dtype\": \"number\",\n        \"std\": 1005.9175209365835,\n        \"min\": 0.77949483684,\n        \"max\": 3693.1739012838,\n        \"samples\": [\n          7.75611595458,\n          6.76180104147,\n          1.0\n        ],\n        \"num_unique_values\": 14,\n        \"semantic_type\": \"\",\n        \"description\": \"\"\n      }\n    },\n    {\n      \"column\": 2021,\n      \"properties\": {\n        \"dtype\": \"number\",\n        \"std\": 1015.5707930371151,\n        \"min\": 0.72669646581,\n        \"max\": 3745.91486702951,\n        \"samples\": [\n          7.772636704,\n          6.77050719815,\n          1.0\n        ],\n        \"num_unique_values\": 14,\n        \"semantic_type\": \"\",\n        \"description\": \"\"\n      }\n    },\n    {\n      \"column\": 2022,\n      \"properties\": {\n        \"dtype\": \"number\",\n        \"std\": 1155.1049007744182,\n        \"min\": 0.81114894824,\n        \"max\": 4261.5539909734,\n        \"samples\": [\n          7.83041648472,\n          6.77209634544,\n          1.0\n        ],\n        \"num_unique_values\": 14,\n        \"semantic_type\": \"\",\n        \"description\": \"\"\n      }\n    },\n    {\n      \"column\": 2023,\n      \"properties\": {\n        \"dtype\": \"number\",\n        \"std\": 1175.9568255062627,\n        \"min\": 0.80645591527,\n        \"max\": 4354.63255803518,\n        \"samples\": [\n          7.83111259844,\n          6.76946337951,\n          1.0\n        ],\n        \"num_unique_values\": 14,\n        \"semantic_type\": \"\",\n        \"description\": \"\"\n      }\n    }\n  ]\n}",
       "type": "dataframe",
       "variable_name": "exchange_rate"
      },
      "text/html": [
       "\n",
       "  <div id=\"df-6626417d-07cc-4823-93b8-ad8086be188b\" class=\"colab-df-container\">\n",
       "    <div>\n",
       "<style scoped>\n",
       "    .dataframe tbody tr th:only-of-type {\n",
       "        vertical-align: middle;\n",
       "    }\n",
       "\n",
       "    .dataframe tbody tr th {\n",
       "        vertical-align: top;\n",
       "    }\n",
       "\n",
       "    .dataframe thead th {\n",
       "        text-align: right;\n",
       "    }\n",
       "</style>\n",
       "<table border=\"1\" class=\"dataframe\">\n",
       "  <thead>\n",
       "    <tr style=\"text-align: right;\">\n",
       "      <th></th>\n",
       "      <th>Country</th>\n",
       "      <th>Country Code</th>\n",
       "      <th>2006</th>\n",
       "      <th>2007</th>\n",
       "      <th>2008</th>\n",
       "      <th>2009</th>\n",
       "      <th>2010</th>\n",
       "      <th>2011</th>\n",
       "      <th>2012</th>\n",
       "      <th>2013</th>\n",
       "      <th>2014</th>\n",
       "      <th>2015</th>\n",
       "      <th>2016</th>\n",
       "      <th>2017</th>\n",
       "      <th>2018</th>\n",
       "      <th>2019</th>\n",
       "      <th>2020</th>\n",
       "      <th>2021</th>\n",
       "      <th>2022</th>\n",
       "      <th>2023</th>\n",
       "    </tr>\n",
       "  </thead>\n",
       "  <tbody>\n",
       "    <tr>\n",
       "      <th>0</th>\n",
       "      <td>United States</td>\n",
       "      <td>USA</td>\n",
       "      <td>1.000000</td>\n",
       "      <td>1.00000</td>\n",
       "      <td>1.000000</td>\n",
       "      <td>1.000000</td>\n",
       "      <td>1.000000</td>\n",
       "      <td>1.00000</td>\n",
       "      <td>1.000000</td>\n",
       "      <td>1.000000</td>\n",
       "      <td>1.000000</td>\n",
       "      <td>1.00000</td>\n",
       "      <td>1.000000</td>\n",
       "      <td>1.00000</td>\n",
       "      <td>1.000000</td>\n",
       "      <td>1.000000</td>\n",
       "      <td>1.000000</td>\n",
       "      <td>1.000000</td>\n",
       "      <td>1.000000</td>\n",
       "      <td>1.000000</td>\n",
       "    </tr>\n",
       "    <tr>\n",
       "      <th>1</th>\n",
       "      <td>United Kingdom</td>\n",
       "      <td>GBR</td>\n",
       "      <td>0.543349</td>\n",
       "      <td>0.49977</td>\n",
       "      <td>0.545602</td>\n",
       "      <td>0.640837</td>\n",
       "      <td>0.647392</td>\n",
       "      <td>0.62366</td>\n",
       "      <td>0.630878</td>\n",
       "      <td>0.639537</td>\n",
       "      <td>0.607349</td>\n",
       "      <td>0.65404</td>\n",
       "      <td>0.740701</td>\n",
       "      <td>0.77623</td>\n",
       "      <td>0.749078</td>\n",
       "      <td>0.783585</td>\n",
       "      <td>0.779495</td>\n",
       "      <td>0.726696</td>\n",
       "      <td>0.811149</td>\n",
       "      <td>0.806456</td>\n",
       "    </tr>\n",
       "  </tbody>\n",
       "</table>\n",
       "</div>\n",
       "    <div class=\"colab-df-buttons\">\n",
       "\n",
       "  <div class=\"colab-df-container\">\n",
       "    <button class=\"colab-df-convert\" onclick=\"convertToInteractive('df-6626417d-07cc-4823-93b8-ad8086be188b')\"\n",
       "            title=\"Convert this dataframe to an interactive table.\"\n",
       "            style=\"display:none;\">\n",
       "\n",
       "  <svg xmlns=\"http://www.w3.org/2000/svg\" height=\"24px\" viewBox=\"0 -960 960 960\">\n",
       "    <path d=\"M120-120v-720h720v720H120Zm60-500h600v-160H180v160Zm220 220h160v-160H400v160Zm0 220h160v-160H400v160ZM180-400h160v-160H180v160Zm440 0h160v-160H620v160ZM180-180h160v-160H180v160Zm440 0h160v-160H620v160Z\"/>\n",
       "  </svg>\n",
       "    </button>\n",
       "\n",
       "  <style>\n",
       "    .colab-df-container {\n",
       "      display:flex;\n",
       "      gap: 12px;\n",
       "    }\n",
       "\n",
       "    .colab-df-convert {\n",
       "      background-color: #E8F0FE;\n",
       "      border: none;\n",
       "      border-radius: 50%;\n",
       "      cursor: pointer;\n",
       "      display: none;\n",
       "      fill: #1967D2;\n",
       "      height: 32px;\n",
       "      padding: 0 0 0 0;\n",
       "      width: 32px;\n",
       "    }\n",
       "\n",
       "    .colab-df-convert:hover {\n",
       "      background-color: #E2EBFA;\n",
       "      box-shadow: 0px 1px 2px rgba(60, 64, 67, 0.3), 0px 1px 3px 1px rgba(60, 64, 67, 0.15);\n",
       "      fill: #174EA6;\n",
       "    }\n",
       "\n",
       "    .colab-df-buttons div {\n",
       "      margin-bottom: 4px;\n",
       "    }\n",
       "\n",
       "    [theme=dark] .colab-df-convert {\n",
       "      background-color: #3B4455;\n",
       "      fill: #D2E3FC;\n",
       "    }\n",
       "\n",
       "    [theme=dark] .colab-df-convert:hover {\n",
       "      background-color: #434B5C;\n",
       "      box-shadow: 0px 1px 3px 1px rgba(0, 0, 0, 0.15);\n",
       "      filter: drop-shadow(0px 1px 2px rgba(0, 0, 0, 0.3));\n",
       "      fill: #FFFFFF;\n",
       "    }\n",
       "  </style>\n",
       "\n",
       "    <script>\n",
       "      const buttonEl =\n",
       "        document.querySelector('#df-6626417d-07cc-4823-93b8-ad8086be188b button.colab-df-convert');\n",
       "      buttonEl.style.display =\n",
       "        google.colab.kernel.accessAllowed ? 'block' : 'none';\n",
       "\n",
       "      async function convertToInteractive(key) {\n",
       "        const element = document.querySelector('#df-6626417d-07cc-4823-93b8-ad8086be188b');\n",
       "        const dataTable =\n",
       "          await google.colab.kernel.invokeFunction('convertToInteractive',\n",
       "                                                    [key], {});\n",
       "        if (!dataTable) return;\n",
       "\n",
       "        const docLinkHtml = 'Like what you see? Visit the ' +\n",
       "          '<a target=\"_blank\" href=https://colab.research.google.com/notebooks/data_table.ipynb>data table notebook</a>'\n",
       "          + ' to learn more about interactive tables.';\n",
       "        element.innerHTML = '';\n",
       "        dataTable['output_type'] = 'display_data';\n",
       "        await google.colab.output.renderOutput(dataTable, element);\n",
       "        const docLink = document.createElement('div');\n",
       "        docLink.innerHTML = docLinkHtml;\n",
       "        element.appendChild(docLink);\n",
       "      }\n",
       "    </script>\n",
       "  </div>\n",
       "\n",
       "\n",
       "<div id=\"df-309f181f-8a67-45d5-838a-de3260de11a5\">\n",
       "  <button class=\"colab-df-quickchart\" onclick=\"quickchart('df-309f181f-8a67-45d5-838a-de3260de11a5')\"\n",
       "            title=\"Suggest charts\"\n",
       "            style=\"display:none;\">\n",
       "\n",
       "<svg xmlns=\"http://www.w3.org/2000/svg\" height=\"24px\"viewBox=\"0 0 24 24\"\n",
       "     width=\"24px\">\n",
       "    <g>\n",
       "        <path d=\"M19 3H5c-1.1 0-2 .9-2 2v14c0 1.1.9 2 2 2h14c1.1 0 2-.9 2-2V5c0-1.1-.9-2-2-2zM9 17H7v-7h2v7zm4 0h-2V7h2v10zm4 0h-2v-4h2v4z\"/>\n",
       "    </g>\n",
       "</svg>\n",
       "  </button>\n",
       "\n",
       "<style>\n",
       "  .colab-df-quickchart {\n",
       "      --bg-color: #E8F0FE;\n",
       "      --fill-color: #1967D2;\n",
       "      --hover-bg-color: #E2EBFA;\n",
       "      --hover-fill-color: #174EA6;\n",
       "      --disabled-fill-color: #AAA;\n",
       "      --disabled-bg-color: #DDD;\n",
       "  }\n",
       "\n",
       "  [theme=dark] .colab-df-quickchart {\n",
       "      --bg-color: #3B4455;\n",
       "      --fill-color: #D2E3FC;\n",
       "      --hover-bg-color: #434B5C;\n",
       "      --hover-fill-color: #FFFFFF;\n",
       "      --disabled-bg-color: #3B4455;\n",
       "      --disabled-fill-color: #666;\n",
       "  }\n",
       "\n",
       "  .colab-df-quickchart {\n",
       "    background-color: var(--bg-color);\n",
       "    border: none;\n",
       "    border-radius: 50%;\n",
       "    cursor: pointer;\n",
       "    display: none;\n",
       "    fill: var(--fill-color);\n",
       "    height: 32px;\n",
       "    padding: 0;\n",
       "    width: 32px;\n",
       "  }\n",
       "\n",
       "  .colab-df-quickchart:hover {\n",
       "    background-color: var(--hover-bg-color);\n",
       "    box-shadow: 0 1px 2px rgba(60, 64, 67, 0.3), 0 1px 3px 1px rgba(60, 64, 67, 0.15);\n",
       "    fill: var(--button-hover-fill-color);\n",
       "  }\n",
       "\n",
       "  .colab-df-quickchart-complete:disabled,\n",
       "  .colab-df-quickchart-complete:disabled:hover {\n",
       "    background-color: var(--disabled-bg-color);\n",
       "    fill: var(--disabled-fill-color);\n",
       "    box-shadow: none;\n",
       "  }\n",
       "\n",
       "  .colab-df-spinner {\n",
       "    border: 2px solid var(--fill-color);\n",
       "    border-color: transparent;\n",
       "    border-bottom-color: var(--fill-color);\n",
       "    animation:\n",
       "      spin 1s steps(1) infinite;\n",
       "  }\n",
       "\n",
       "  @keyframes spin {\n",
       "    0% {\n",
       "      border-color: transparent;\n",
       "      border-bottom-color: var(--fill-color);\n",
       "      border-left-color: var(--fill-color);\n",
       "    }\n",
       "    20% {\n",
       "      border-color: transparent;\n",
       "      border-left-color: var(--fill-color);\n",
       "      border-top-color: var(--fill-color);\n",
       "    }\n",
       "    30% {\n",
       "      border-color: transparent;\n",
       "      border-left-color: var(--fill-color);\n",
       "      border-top-color: var(--fill-color);\n",
       "      border-right-color: var(--fill-color);\n",
       "    }\n",
       "    40% {\n",
       "      border-color: transparent;\n",
       "      border-right-color: var(--fill-color);\n",
       "      border-top-color: var(--fill-color);\n",
       "    }\n",
       "    60% {\n",
       "      border-color: transparent;\n",
       "      border-right-color: var(--fill-color);\n",
       "    }\n",
       "    80% {\n",
       "      border-color: transparent;\n",
       "      border-right-color: var(--fill-color);\n",
       "      border-bottom-color: var(--fill-color);\n",
       "    }\n",
       "    90% {\n",
       "      border-color: transparent;\n",
       "      border-bottom-color: var(--fill-color);\n",
       "    }\n",
       "  }\n",
       "</style>\n",
       "\n",
       "  <script>\n",
       "    async function quickchart(key) {\n",
       "      const quickchartButtonEl =\n",
       "        document.querySelector('#' + key + ' button');\n",
       "      quickchartButtonEl.disabled = true;  // To prevent multiple clicks.\n",
       "      quickchartButtonEl.classList.add('colab-df-spinner');\n",
       "      try {\n",
       "        const charts = await google.colab.kernel.invokeFunction(\n",
       "            'suggestCharts', [key], {});\n",
       "      } catch (error) {\n",
       "        console.error('Error during call to suggestCharts:', error);\n",
       "      }\n",
       "      quickchartButtonEl.classList.remove('colab-df-spinner');\n",
       "      quickchartButtonEl.classList.add('colab-df-quickchart-complete');\n",
       "    }\n",
       "    (() => {\n",
       "      let quickchartButtonEl =\n",
       "        document.querySelector('#df-309f181f-8a67-45d5-838a-de3260de11a5 button');\n",
       "      quickchartButtonEl.style.display =\n",
       "        google.colab.kernel.accessAllowed ? 'block' : 'none';\n",
       "    })();\n",
       "  </script>\n",
       "</div>\n",
       "    </div>\n",
       "  </div>\n"
      ],
      "text/plain": [
       "          Country Country Code      2006     2007      2008      2009  \\\n",
       "0   United States          USA  1.000000  1.00000  1.000000  1.000000   \n",
       "1  United Kingdom          GBR  0.543349  0.49977  0.545602  0.640837   \n",
       "\n",
       "       2010     2011      2012      2013      2014     2015      2016  \\\n",
       "0  1.000000  1.00000  1.000000  1.000000  1.000000  1.00000  1.000000   \n",
       "1  0.647392  0.62366  0.630878  0.639537  0.607349  0.65404  0.740701   \n",
       "\n",
       "      2017      2018      2019      2020      2021      2022      2023  \n",
       "0  1.00000  1.000000  1.000000  1.000000  1.000000  1.000000  1.000000  \n",
       "1  0.77623  0.749078  0.783585  0.779495  0.726696  0.811149  0.806456  "
      ]
     },
     "execution_count": 38,
     "metadata": {},
     "output_type": "execute_result"
    }
   ],
   "source": [
    "exchange_rate.head(2)"
   ]
  },
  {
   "cell_type": "code",
   "execution_count": null,
   "id": "4641a57f",
   "metadata": {
    "id": "4641a57f"
   },
   "outputs": [],
   "source": [
    "def get_exchange_rate(df):\n",
    "    index = 0\n",
    "    if df['Exchange'] == 'NYSE' or df['Exchange'] ==  'CCSE':\n",
    "        index += 0\n",
    "    elif df['Exchange'] == 'AIM' or df['Exchange'] == 'LSE' or df['Exchange'] == 'OFEX':\n",
    "        index += 1\n",
    "    elif df['Exchange'] == 'TWSE' or df['Exchange'] == 'TPEX':\n",
    "        index += 2\n",
    "    elif df['Exchange'] == 'KOSDAQ':\n",
    "        index += 3\n",
    "    elif df['Exchange'] == 'SNSE':\n",
    "        index += 4\n",
    "    elif df['Exchange'] == 'BMV':\n",
    "        index += 5\n",
    "    elif df['Exchange'] == 'BOVESPA':\n",
    "        index += 6\n",
    "    elif df['Exchange'] == 'BVC':\n",
    "        index += 7\n",
    "    elif df['Exchange'] == 'BASE':\n",
    "        index += 8\n",
    "    elif df['Exchange'] == 'SEHK':\n",
    "        index += 9\n",
    "    elif df['Exchange'] == 'ASX':\n",
    "        index += 10\n",
    "    elif df['Exchange'] == 'TTSE':\n",
    "        index += 11\n",
    "    elif df['Exchange'] == 'JMSE':\n",
    "        index += 12\n",
    "    elif df['Exchange'] == 'ENXTAM':\n",
    "        index += 13\n",
    "    return exchange_rate.loc[index,float(df['Year'])]"
   ]
  },
  {
   "cell_type": "code",
   "execution_count": null,
   "id": "93d66344",
   "metadata": {
    "id": "93d66344"
   },
   "outputs": [],
   "source": [
    "stock_price_adjusted['exchange_rate'] = stock_price_adjusted.apply(get_exchange_rate, axis = 1)"
   ]
  },
  {
   "cell_type": "code",
   "execution_count": null,
   "id": "8bdb326d",
   "metadata": {
    "id": "8bdb326d"
   },
   "outputs": [],
   "source": [
    "for column in ['Open', 'High', 'Low', 'Close', 'Adj Close']:\n",
    "    stock_price_adjusted[column] = (stock_price_adjusted[column]/stock_price_adjusted['exchange_rate'])"
   ]
  },
  {
   "cell_type": "code",
   "execution_count": null,
   "id": "R-D370-TuB5S",
   "metadata": {
    "colab": {
     "base_uri": "https://localhost:8080/"
    },
    "executionInfo": {
     "elapsed": 4,
     "status": "ok",
     "timestamp": 1708314935189,
     "user": {
      "displayName": "Lisa Chiang",
      "userId": "09169802507274919284"
     },
     "user_tz": 0
    },
    "id": "R-D370-TuB5S",
    "outputId": "228a32ca-eeb2-40f2-ec5e-27123c55e471"
   },
   "outputs": [
    {
     "data": {
      "text/plain": [
       "(1253565, 12)"
      ]
     },
     "execution_count": 48,
     "metadata": {},
     "output_type": "execute_result"
    }
   ],
   "source": [
    "stock_price_adjusted.shape"
   ]
  },
  {
   "cell_type": "code",
   "execution_count": null,
   "id": "b1lx1HLrKDnP",
   "metadata": {
    "colab": {
     "base_uri": "https://localhost:8080/",
     "height": 80
    },
    "executionInfo": {
     "elapsed": 10,
     "status": "ok",
     "timestamp": 1708314943089,
     "user": {
      "displayName": "Lisa Chiang",
      "userId": "09169802507274919284"
     },
     "user_tz": 0
    },
    "id": "b1lx1HLrKDnP",
    "outputId": "f5a1c3ac-19ac-46af-dee8-016f9b1baa7a"
   },
   "outputs": [
    {
     "data": {
      "application/vnd.google.colaboratory.intrinsic+json": {
       "type": "dataframe",
       "variable_name": "stock_price_adjusted"
      },
      "text/html": [
       "\n",
       "  <div id=\"df-60f0d3c0-b6fb-457f-b1ae-a5f81fcf74ba\" class=\"colab-df-container\">\n",
       "    <div>\n",
       "<style scoped>\n",
       "    .dataframe tbody tr th:only-of-type {\n",
       "        vertical-align: middle;\n",
       "    }\n",
       "\n",
       "    .dataframe tbody tr th {\n",
       "        vertical-align: top;\n",
       "    }\n",
       "\n",
       "    .dataframe thead th {\n",
       "        text-align: right;\n",
       "    }\n",
       "</style>\n",
       "<table border=\"1\" class=\"dataframe\">\n",
       "  <thead>\n",
       "    <tr style=\"text-align: right;\">\n",
       "      <th></th>\n",
       "      <th>Date</th>\n",
       "      <th>Open</th>\n",
       "      <th>High</th>\n",
       "      <th>Low</th>\n",
       "      <th>Close</th>\n",
       "      <th>Adj Close</th>\n",
       "      <th>Volume</th>\n",
       "      <th>Ticker</th>\n",
       "      <th>Exchange</th>\n",
       "      <th>ISIN</th>\n",
       "      <th>Year</th>\n",
       "      <th>exchange_rate</th>\n",
       "    </tr>\n",
       "  </thead>\n",
       "  <tbody>\n",
       "    <tr>\n",
       "      <th>0</th>\n",
       "      <td>2006-01-02</td>\n",
       "      <td>0.171269</td>\n",
       "      <td>0.171269</td>\n",
       "      <td>0.171269</td>\n",
       "      <td>0.171269</td>\n",
       "      <td>0.171269</td>\n",
       "      <td>10172.0</td>\n",
       "      <td>ACCELSAB.MX</td>\n",
       "      <td>BMV</td>\n",
       "      <td>MXP000171316</td>\n",
       "      <td>2006</td>\n",
       "      <td>10.905087</td>\n",
       "    </tr>\n",
       "  </tbody>\n",
       "</table>\n",
       "</div>\n",
       "    <div class=\"colab-df-buttons\">\n",
       "\n",
       "  <div class=\"colab-df-container\">\n",
       "    <button class=\"colab-df-convert\" onclick=\"convertToInteractive('df-60f0d3c0-b6fb-457f-b1ae-a5f81fcf74ba')\"\n",
       "            title=\"Convert this dataframe to an interactive table.\"\n",
       "            style=\"display:none;\">\n",
       "\n",
       "  <svg xmlns=\"http://www.w3.org/2000/svg\" height=\"24px\" viewBox=\"0 -960 960 960\">\n",
       "    <path d=\"M120-120v-720h720v720H120Zm60-500h600v-160H180v160Zm220 220h160v-160H400v160Zm0 220h160v-160H400v160ZM180-400h160v-160H180v160Zm440 0h160v-160H620v160ZM180-180h160v-160H180v160Zm440 0h160v-160H620v160Z\"/>\n",
       "  </svg>\n",
       "    </button>\n",
       "\n",
       "  <style>\n",
       "    .colab-df-container {\n",
       "      display:flex;\n",
       "      gap: 12px;\n",
       "    }\n",
       "\n",
       "    .colab-df-convert {\n",
       "      background-color: #E8F0FE;\n",
       "      border: none;\n",
       "      border-radius: 50%;\n",
       "      cursor: pointer;\n",
       "      display: none;\n",
       "      fill: #1967D2;\n",
       "      height: 32px;\n",
       "      padding: 0 0 0 0;\n",
       "      width: 32px;\n",
       "    }\n",
       "\n",
       "    .colab-df-convert:hover {\n",
       "      background-color: #E2EBFA;\n",
       "      box-shadow: 0px 1px 2px rgba(60, 64, 67, 0.3), 0px 1px 3px 1px rgba(60, 64, 67, 0.15);\n",
       "      fill: #174EA6;\n",
       "    }\n",
       "\n",
       "    .colab-df-buttons div {\n",
       "      margin-bottom: 4px;\n",
       "    }\n",
       "\n",
       "    [theme=dark] .colab-df-convert {\n",
       "      background-color: #3B4455;\n",
       "      fill: #D2E3FC;\n",
       "    }\n",
       "\n",
       "    [theme=dark] .colab-df-convert:hover {\n",
       "      background-color: #434B5C;\n",
       "      box-shadow: 0px 1px 3px 1px rgba(0, 0, 0, 0.15);\n",
       "      filter: drop-shadow(0px 1px 2px rgba(0, 0, 0, 0.3));\n",
       "      fill: #FFFFFF;\n",
       "    }\n",
       "  </style>\n",
       "\n",
       "    <script>\n",
       "      const buttonEl =\n",
       "        document.querySelector('#df-60f0d3c0-b6fb-457f-b1ae-a5f81fcf74ba button.colab-df-convert');\n",
       "      buttonEl.style.display =\n",
       "        google.colab.kernel.accessAllowed ? 'block' : 'none';\n",
       "\n",
       "      async function convertToInteractive(key) {\n",
       "        const element = document.querySelector('#df-60f0d3c0-b6fb-457f-b1ae-a5f81fcf74ba');\n",
       "        const dataTable =\n",
       "          await google.colab.kernel.invokeFunction('convertToInteractive',\n",
       "                                                    [key], {});\n",
       "        if (!dataTable) return;\n",
       "\n",
       "        const docLinkHtml = 'Like what you see? Visit the ' +\n",
       "          '<a target=\"_blank\" href=https://colab.research.google.com/notebooks/data_table.ipynb>data table notebook</a>'\n",
       "          + ' to learn more about interactive tables.';\n",
       "        element.innerHTML = '';\n",
       "        dataTable['output_type'] = 'display_data';\n",
       "        await google.colab.output.renderOutput(dataTable, element);\n",
       "        const docLink = document.createElement('div');\n",
       "        docLink.innerHTML = docLinkHtml;\n",
       "        element.appendChild(docLink);\n",
       "      }\n",
       "    </script>\n",
       "  </div>\n",
       "\n",
       "    </div>\n",
       "  </div>\n"
      ],
      "text/plain": [
       "        Date      Open      High       Low     Close  Adj Close   Volume  \\\n",
       "0 2006-01-02  0.171269  0.171269  0.171269  0.171269   0.171269  10172.0   \n",
       "\n",
       "        Ticker Exchange          ISIN  Year  exchange_rate  \n",
       "0  ACCELSAB.MX      BMV  MXP000171316  2006      10.905087  "
      ]
     },
     "execution_count": 49,
     "metadata": {},
     "output_type": "execute_result"
    }
   ],
   "source": [
    "stock_price_adjusted.head(1)"
   ]
  },
  {
   "cell_type": "markdown",
   "id": "NDPjhUPVKyVq",
   "metadata": {
    "id": "NDPjhUPVKyVq"
   },
   "source": [
    "# Check how many of the 2006 companies are in financial industry"
   ]
  },
  {
   "cell_type": "code",
   "execution_count": null,
   "id": "4QrQTV_DKPNc",
   "metadata": {
    "colab": {
     "base_uri": "https://localhost:8080/",
     "height": 118
    },
    "executionInfo": {
     "elapsed": 615,
     "status": "ok",
     "timestamp": 1708314965757,
     "user": {
      "displayName": "Lisa Chiang",
      "userId": "09169802507274919284"
     },
     "user_tz": 0
    },
    "id": "4QrQTV_DKPNc",
    "outputId": "814f8112-aa5f-43f2-b190-bd4f2932268c"
   },
   "outputs": [
    {
     "data": {
      "application/vnd.google.colaboratory.intrinsic+json": {
       "summary": "{\n  \"name\": \"balance_sheet_df\",\n  \"rows\": 48960,\n  \"fields\": [\n    {\n      \"column\": \"datadate\",\n      \"properties\": {\n        \"dtype\": \"object\",\n        \"min\": \"2006-03-31\",\n        \"max\": \"2023-12-31\",\n        \"samples\": [\n          \"2007-03-31\",\n          \"2021-09-30\",\n          \"2010-09-30\"\n        ],\n        \"num_unique_values\": 72,\n        \"semantic_type\": \"\",\n        \"description\": \"\"\n      }\n    },\n    {\n      \"column\": \"key\",\n      \"properties\": {\n        \"dtype\": \"number\",\n        \"std\": 75787.34104846836,\n        \"min\": 18075.0,\n        \"max\": 358497.0,\n        \"samples\": [\n          349584.0,\n          339388.0,\n          176152.0\n        ],\n        \"num_unique_values\": 680,\n        \"semantic_type\": \"\",\n        \"description\": \"\"\n      }\n    },\n    {\n      \"column\": \"fiscal_quarter\",\n      \"properties\": {\n        \"dtype\": \"number\",\n        \"std\": 1,\n        \"min\": 1,\n        \"max\": 4,\n        \"samples\": [\n          2,\n          4,\n          1\n        ],\n        \"num_unique_values\": 4,\n        \"semantic_type\": \"\",\n        \"description\": \"\"\n      }\n    },\n    {\n      \"column\": \"fiscal_year\",\n      \"properties\": {\n        \"dtype\": \"number\",\n        \"std\": 5,\n        \"min\": 2006,\n        \"max\": 2023,\n        \"samples\": [\n          2006,\n          2007,\n          2014\n        ],\n        \"num_unique_values\": 18,\n        \"semantic_type\": \"\",\n        \"description\": \"\"\n      }\n    },\n    {\n      \"column\": \"total_assets\",\n      \"properties\": {\n        \"dtype\": \"number\",\n        \"std\": 38738032.14556274,\n        \"min\": 0.0,\n        \"max\": 4516330552.0,\n        \"samples\": [\n          1179.8925,\n          32440.68,\n          581.221\n        ],\n        \"num_unique_values\": 39451,\n        \"semantic_type\": \"\",\n        \"description\": \"\"\n      }\n    },\n    {\n      \"column\": \"total_liabilities\",\n      \"properties\": {\n        \"dtype\": \"number\",\n        \"std\": 14576555.315671042,\n        \"min\": -14.718,\n        \"max\": 1362226000.0,\n        \"samples\": [\n          1335.019,\n          21.85,\n          2266.497\n        ],\n        \"num_unique_values\": 39296,\n        \"semantic_type\": \"\",\n        \"description\": \"\"\n      }\n    },\n    {\n      \"column\": \"isin\",\n      \"properties\": {\n        \"dtype\": \"category\",\n        \"samples\": [\n          \"BRTTENACNOR0\",\n          \"BRLJQQACNOR5\",\n          \"MX01OM000018\"\n        ],\n        \"num_unique_values\": 680,\n        \"semantic_type\": \"\",\n        \"description\": \"\"\n      }\n    },\n    {\n      \"column\": \"company_name\",\n      \"properties\": {\n        \"dtype\": \"category\",\n        \"samples\": [\n          \"TRES TENTOS AGROINDUSTRIAL\",\n          \"SUPREME VENTURES LTD\",\n          \"GRUPO AEROPORTUARIO DEL CENT\"\n        ],\n        \"num_unique_values\": 678,\n        \"semantic_type\": \"\",\n        \"description\": \"\"\n      }\n    },\n    {\n      \"column\": \"gic_industries\",\n      \"properties\": {\n        \"dtype\": \"number\",\n        \"std\": 139062.009583231,\n        \"min\": 101010.0,\n        \"max\": 602010.0,\n        \"samples\": [\n          201030.0,\n          551050.0,\n          151040.0\n        ],\n        \"num_unique_values\": 67,\n        \"semantic_type\": \"\",\n        \"description\": \"\"\n      }\n    },\n    {\n      \"column\": \"iso_country_code\",\n      \"properties\": {\n        \"dtype\": \"category\",\n        \"samples\": [\n          \"BRA\",\n          \"CHL\",\n          \"VGB\"\n        ],\n        \"num_unique_values\": 19,\n        \"semantic_type\": \"\",\n        \"description\": \"\"\n      }\n    },\n    {\n      \"column\": \"industry_name\",\n      \"properties\": {\n        \"dtype\": \"category\",\n        \"samples\": [\n          \"Construction & Engineering\",\n          \"Independent Power and Renewable Electricity Producers\",\n          \"Metals & Mining\"\n        ],\n        \"num_unique_values\": 67,\n        \"semantic_type\": \"\",\n        \"description\": \"\"\n      }\n    },\n    {\n      \"column\": \"is_finance\",\n      \"properties\": {\n        \"dtype\": \"boolean\",\n        \"samples\": [\n          true,\n          false\n        ],\n        \"num_unique_values\": 2,\n        \"semantic_type\": \"\",\n        \"description\": \"\"\n      }\n    }\n  ]\n}",
       "type": "dataframe",
       "variable_name": "balance_sheet_df"
      },
      "text/html": [
       "\n",
       "  <div id=\"df-6800ba80-51d7-49a3-9818-41dd881abf0c\" class=\"colab-df-container\">\n",
       "    <div>\n",
       "<style scoped>\n",
       "    .dataframe tbody tr th:only-of-type {\n",
       "        vertical-align: middle;\n",
       "    }\n",
       "\n",
       "    .dataframe tbody tr th {\n",
       "        vertical-align: top;\n",
       "    }\n",
       "\n",
       "    .dataframe thead th {\n",
       "        text-align: right;\n",
       "    }\n",
       "</style>\n",
       "<table border=\"1\" class=\"dataframe\">\n",
       "  <thead>\n",
       "    <tr style=\"text-align: right;\">\n",
       "      <th></th>\n",
       "      <th>datadate</th>\n",
       "      <th>key</th>\n",
       "      <th>fiscal_quarter</th>\n",
       "      <th>fiscal_year</th>\n",
       "      <th>total_assets</th>\n",
       "      <th>total_liabilities</th>\n",
       "      <th>isin</th>\n",
       "      <th>company_name</th>\n",
       "      <th>gic_industries</th>\n",
       "      <th>iso_country_code</th>\n",
       "      <th>industry_name</th>\n",
       "      <th>is_finance</th>\n",
       "    </tr>\n",
       "  </thead>\n",
       "  <tbody>\n",
       "    <tr>\n",
       "      <th>0</th>\n",
       "      <td>2006-03-31</td>\n",
       "      <td>18075.0</td>\n",
       "      <td>1</td>\n",
       "      <td>2006</td>\n",
       "      <td>1223.955</td>\n",
       "      <td>1044.091</td>\n",
       "      <td>BRAZULACNPR4</td>\n",
       "      <td>AZUL SA</td>\n",
       "      <td>203020.0</td>\n",
       "      <td>BRA</td>\n",
       "      <td>Passenger Airlines</td>\n",
       "      <td>False</td>\n",
       "    </tr>\n",
       "  </tbody>\n",
       "</table>\n",
       "</div>\n",
       "    <div class=\"colab-df-buttons\">\n",
       "\n",
       "  <div class=\"colab-df-container\">\n",
       "    <button class=\"colab-df-convert\" onclick=\"convertToInteractive('df-6800ba80-51d7-49a3-9818-41dd881abf0c')\"\n",
       "            title=\"Convert this dataframe to an interactive table.\"\n",
       "            style=\"display:none;\">\n",
       "\n",
       "  <svg xmlns=\"http://www.w3.org/2000/svg\" height=\"24px\" viewBox=\"0 -960 960 960\">\n",
       "    <path d=\"M120-120v-720h720v720H120Zm60-500h600v-160H180v160Zm220 220h160v-160H400v160Zm0 220h160v-160H400v160ZM180-400h160v-160H180v160Zm440 0h160v-160H620v160ZM180-180h160v-160H180v160Zm440 0h160v-160H620v160Z\"/>\n",
       "  </svg>\n",
       "    </button>\n",
       "\n",
       "  <style>\n",
       "    .colab-df-container {\n",
       "      display:flex;\n",
       "      gap: 12px;\n",
       "    }\n",
       "\n",
       "    .colab-df-convert {\n",
       "      background-color: #E8F0FE;\n",
       "      border: none;\n",
       "      border-radius: 50%;\n",
       "      cursor: pointer;\n",
       "      display: none;\n",
       "      fill: #1967D2;\n",
       "      height: 32px;\n",
       "      padding: 0 0 0 0;\n",
       "      width: 32px;\n",
       "    }\n",
       "\n",
       "    .colab-df-convert:hover {\n",
       "      background-color: #E2EBFA;\n",
       "      box-shadow: 0px 1px 2px rgba(60, 64, 67, 0.3), 0px 1px 3px 1px rgba(60, 64, 67, 0.15);\n",
       "      fill: #174EA6;\n",
       "    }\n",
       "\n",
       "    .colab-df-buttons div {\n",
       "      margin-bottom: 4px;\n",
       "    }\n",
       "\n",
       "    [theme=dark] .colab-df-convert {\n",
       "      background-color: #3B4455;\n",
       "      fill: #D2E3FC;\n",
       "    }\n",
       "\n",
       "    [theme=dark] .colab-df-convert:hover {\n",
       "      background-color: #434B5C;\n",
       "      box-shadow: 0px 1px 3px 1px rgba(0, 0, 0, 0.15);\n",
       "      filter: drop-shadow(0px 1px 2px rgba(0, 0, 0, 0.3));\n",
       "      fill: #FFFFFF;\n",
       "    }\n",
       "  </style>\n",
       "\n",
       "    <script>\n",
       "      const buttonEl =\n",
       "        document.querySelector('#df-6800ba80-51d7-49a3-9818-41dd881abf0c button.colab-df-convert');\n",
       "      buttonEl.style.display =\n",
       "        google.colab.kernel.accessAllowed ? 'block' : 'none';\n",
       "\n",
       "      async function convertToInteractive(key) {\n",
       "        const element = document.querySelector('#df-6800ba80-51d7-49a3-9818-41dd881abf0c');\n",
       "        const dataTable =\n",
       "          await google.colab.kernel.invokeFunction('convertToInteractive',\n",
       "                                                    [key], {});\n",
       "        if (!dataTable) return;\n",
       "\n",
       "        const docLinkHtml = 'Like what you see? Visit the ' +\n",
       "          '<a target=\"_blank\" href=https://colab.research.google.com/notebooks/data_table.ipynb>data table notebook</a>'\n",
       "          + ' to learn more about interactive tables.';\n",
       "        element.innerHTML = '';\n",
       "        dataTable['output_type'] = 'display_data';\n",
       "        await google.colab.output.renderOutput(dataTable, element);\n",
       "        const docLink = document.createElement('div');\n",
       "        docLink.innerHTML = docLinkHtml;\n",
       "        element.appendChild(docLink);\n",
       "      }\n",
       "    </script>\n",
       "  </div>\n",
       "\n",
       "    </div>\n",
       "  </div>\n"
      ],
      "text/plain": [
       "     datadate      key  fiscal_quarter  fiscal_year  total_assets  \\\n",
       "0  2006-03-31  18075.0               1         2006      1223.955   \n",
       "\n",
       "   total_liabilities          isin company_name  gic_industries  \\\n",
       "0           1044.091  BRAZULACNPR4      AZUL SA        203020.0   \n",
       "\n",
       "  iso_country_code       industry_name  is_finance  \n",
       "0              BRA  Passenger Airlines       False  "
      ]
     },
     "execution_count": 51,
     "metadata": {},
     "output_type": "execute_result"
    }
   ],
   "source": [
    "balance_sheet_df = pd.read_csv('2.18 interpolated balance sheet.csv')\n",
    "balance_sheet_df.head(1)"
   ]
  },
  {
   "cell_type": "code",
   "execution_count": null,
   "id": "yX28t0bKLZZk",
   "metadata": {
    "id": "yX28t0bKLZZk"
   },
   "outputs": [],
   "source": [
    "temp = balance_sheet_df[balance_sheet_df['isin'].isin(isin_2006)]"
   ]
  },
  {
   "cell_type": "code",
   "execution_count": null,
   "id": "eMQKH7c_LmZd",
   "metadata": {
    "colab": {
     "base_uri": "https://localhost:8080/"
    },
    "executionInfo": {
     "elapsed": 232,
     "status": "ok",
     "timestamp": 1708314967780,
     "user": {
      "displayName": "Lisa Chiang",
      "userId": "09169802507274919284"
     },
     "user_tz": 0
    },
    "id": "eMQKH7c_LmZd",
    "outputId": "a8c35606-5a44-490a-ff0c-34d7ced2a02f"
   },
   "outputs": [
    {
     "data": {
      "text/plain": [
       "43"
      ]
     },
     "execution_count": 53,
     "metadata": {},
     "output_type": "execute_result"
    }
   ],
   "source": [
    "def get_num_finance(df):\n",
    "  return df[['isin', 'is_finance']].drop_duplicates()['is_finance'].sum()\n",
    "\n",
    "get_num_finance(temp)"
   ]
  },
  {
   "cell_type": "markdown",
   "id": "1adf9424",
   "metadata": {
    "id": "1adf9424"
   },
   "source": [
    "# Get quarterly stock price data"
   ]
  },
  {
   "cell_type": "code",
   "execution_count": null,
   "id": "c83b2920",
   "metadata": {
    "id": "c83b2920"
   },
   "outputs": [],
   "source": [
    "q_stock_price = stock_price_adjusted[stock_price_adjusted['ISIN']==isin_2006[0]]"
   ]
  },
  {
   "cell_type": "code",
   "execution_count": null,
   "id": "rtmzHVeJhOft",
   "metadata": {
    "colab": {
     "base_uri": "https://localhost:8080/",
     "height": 80
    },
    "executionInfo": {
     "elapsed": 528,
     "status": "ok",
     "timestamp": 1708315200230,
     "user": {
      "displayName": "Lisa Chiang",
      "userId": "09169802507274919284"
     },
     "user_tz": 0
    },
    "id": "rtmzHVeJhOft",
    "outputId": "860e25ca-2981-42b4-b6e3-dd1e27992c97"
   },
   "outputs": [
    {
     "data": {
      "application/vnd.google.colaboratory.intrinsic+json": {
       "summary": "{\n  \"name\": \"q_stock_price\",\n  \"rows\": 4695,\n  \"fields\": [\n    {\n      \"column\": \"Date\",\n      \"properties\": {\n        \"dtype\": \"date\",\n        \"min\": \"2006-01-02 00:00:00\",\n        \"max\": \"2023-12-29 00:00:00\",\n        \"samples\": [\n          \"2011-12-12 00:00:00\",\n          \"2018-03-19 00:00:00\",\n          \"2020-04-15 00:00:00\"\n        ],\n        \"num_unique_values\": 4695,\n        \"semantic_type\": \"\",\n        \"description\": \"\"\n      }\n    },\n    {\n      \"column\": \"Open\",\n      \"properties\": {\n        \"dtype\": \"number\",\n        \"std\": 0.2610757787068033,\n        \"min\": 0.17126915295346845,\n        \"max\": 1.2636010618423614,\n        \"samples\": [\n          0.6227944146747482,\n          0.33727064818871516,\n          0.22490347211347886\n        ],\n        \"num_unique_values\": 361,\n        \"semantic_type\": \"\",\n        \"description\": \"\"\n      }\n    },\n    {\n      \"column\": \"High\",\n      \"properties\": {\n        \"dtype\": \"number\",\n        \"std\": 0.2609825289682875,\n        \"min\": 0.17126915295346845,\n        \"max\": 1.2636010618423614,\n        \"samples\": [\n          0.449379705981909,\n          1.0957701534554014,\n          0.29679817913161655\n        ],\n        \"num_unique_values\": 317,\n        \"semantic_type\": \"\",\n        \"description\": \"\"\n      }\n    },\n    {\n      \"column\": \"Low\",\n      \"properties\": {\n        \"dtype\": \"number\",\n        \"std\": 0.26123207017760613,\n        \"min\": 0.17126915295346845,\n        \"max\": 1.2636010618423614,\n        \"samples\": [\n          0.5761032169828727,\n          0.32827679041365765,\n          0.22490347211347886\n        ],\n        \"num_unique_values\": 367,\n        \"semantic_type\": \"\",\n        \"description\": \"\"\n      }\n    },\n    {\n      \"column\": \"Close\",\n      \"properties\": {\n        \"dtype\": \"number\",\n        \"std\": 0.26097232862634223,\n        \"min\": 0.17126915295346845,\n        \"max\": 1.2636010618423614,\n        \"samples\": [\n          0.5899741678573223,\n          0.22084710908897529,\n          0.9252290419651431\n        ],\n        \"num_unique_values\": 238,\n        \"semantic_type\": \"\",\n        \"description\": \"\"\n      }\n    },\n    {\n      \"column\": \"Adj Close\",\n      \"properties\": {\n        \"dtype\": \"number\",\n        \"std\": 0.26097232862634223,\n        \"min\": 0.17126915295346845,\n        \"max\": 1.2636010618423614,\n        \"samples\": [\n          0.5899741678573223,\n          0.22084710908897529,\n          0.9252290419651431\n        ],\n        \"num_unique_values\": 238,\n        \"semantic_type\": \"\",\n        \"description\": \"\"\n      }\n    },\n    {\n      \"column\": \"Volume\",\n      \"properties\": {\n        \"dtype\": \"number\",\n        \"std\": 1530426.0679668079,\n        \"min\": 1.0,\n        \"max\": 30052500.0,\n        \"samples\": [\n          235.76923076923077,\n          1574.0555555555547,\n          21875.125\n        ],\n        \"num_unique_values\": 4038,\n        \"semantic_type\": \"\",\n        \"description\": \"\"\n      }\n    },\n    {\n      \"column\": \"Ticker\",\n      \"properties\": {\n        \"dtype\": \"category\",\n        \"samples\": [\n          \"ACCELSAB.MX\"\n        ],\n        \"num_unique_values\": 1,\n        \"semantic_type\": \"\",\n        \"description\": \"\"\n      }\n    },\n    {\n      \"column\": \"Exchange\",\n      \"properties\": {\n        \"dtype\": \"category\",\n        \"samples\": [\n          \"BMV\"\n        ],\n        \"num_unique_values\": 1,\n        \"semantic_type\": \"\",\n        \"description\": \"\"\n      }\n    },\n    {\n      \"column\": \"ISIN\",\n      \"properties\": {\n        \"dtype\": \"category\",\n        \"samples\": [\n          \"MXP000171316\"\n        ],\n        \"num_unique_values\": 1,\n        \"semantic_type\": \"\",\n        \"description\": \"\"\n      }\n    },\n    {\n      \"column\": \"Year\",\n      \"properties\": {\n        \"dtype\": \"object\",\n        \"min\": \"2006\",\n        \"max\": \"2023\",\n        \"samples\": [\n          \"2006\"\n        ],\n        \"num_unique_values\": 18,\n        \"semantic_type\": \"\",\n        \"description\": \"\"\n      }\n    },\n    {\n      \"column\": \"exchange_rate\",\n      \"properties\": {\n        \"dtype\": \"number\",\n        \"std\": 3.6141007056000594,\n        \"min\": 10.90508684908,\n        \"max\": 21.5081873957,\n        \"samples\": [\n          10.90508684908\n        ],\n        \"num_unique_values\": 18,\n        \"semantic_type\": \"\",\n        \"description\": \"\"\n      }\n    }\n  ]\n}",
       "type": "dataframe",
       "variable_name": "q_stock_price"
      },
      "text/html": [
       "\n",
       "  <div id=\"df-39ee88d6-d505-4217-b334-7a836747d107\" class=\"colab-df-container\">\n",
       "    <div>\n",
       "<style scoped>\n",
       "    .dataframe tbody tr th:only-of-type {\n",
       "        vertical-align: middle;\n",
       "    }\n",
       "\n",
       "    .dataframe tbody tr th {\n",
       "        vertical-align: top;\n",
       "    }\n",
       "\n",
       "    .dataframe thead th {\n",
       "        text-align: right;\n",
       "    }\n",
       "</style>\n",
       "<table border=\"1\" class=\"dataframe\">\n",
       "  <thead>\n",
       "    <tr style=\"text-align: right;\">\n",
       "      <th></th>\n",
       "      <th>Date</th>\n",
       "      <th>Open</th>\n",
       "      <th>High</th>\n",
       "      <th>Low</th>\n",
       "      <th>Close</th>\n",
       "      <th>Adj Close</th>\n",
       "      <th>Volume</th>\n",
       "      <th>Ticker</th>\n",
       "      <th>Exchange</th>\n",
       "      <th>ISIN</th>\n",
       "      <th>Year</th>\n",
       "      <th>exchange_rate</th>\n",
       "    </tr>\n",
       "  </thead>\n",
       "  <tbody>\n",
       "    <tr>\n",
       "      <th>0</th>\n",
       "      <td>2006-01-02</td>\n",
       "      <td>0.171269</td>\n",
       "      <td>0.171269</td>\n",
       "      <td>0.171269</td>\n",
       "      <td>0.171269</td>\n",
       "      <td>0.171269</td>\n",
       "      <td>10172.0</td>\n",
       "      <td>ACCELSAB.MX</td>\n",
       "      <td>BMV</td>\n",
       "      <td>MXP000171316</td>\n",
       "      <td>2006</td>\n",
       "      <td>10.905087</td>\n",
       "    </tr>\n",
       "  </tbody>\n",
       "</table>\n",
       "</div>\n",
       "    <div class=\"colab-df-buttons\">\n",
       "\n",
       "  <div class=\"colab-df-container\">\n",
       "    <button class=\"colab-df-convert\" onclick=\"convertToInteractive('df-39ee88d6-d505-4217-b334-7a836747d107')\"\n",
       "            title=\"Convert this dataframe to an interactive table.\"\n",
       "            style=\"display:none;\">\n",
       "\n",
       "  <svg xmlns=\"http://www.w3.org/2000/svg\" height=\"24px\" viewBox=\"0 -960 960 960\">\n",
       "    <path d=\"M120-120v-720h720v720H120Zm60-500h600v-160H180v160Zm220 220h160v-160H400v160Zm0 220h160v-160H400v160ZM180-400h160v-160H180v160Zm440 0h160v-160H620v160ZM180-180h160v-160H180v160Zm440 0h160v-160H620v160Z\"/>\n",
       "  </svg>\n",
       "    </button>\n",
       "\n",
       "  <style>\n",
       "    .colab-df-container {\n",
       "      display:flex;\n",
       "      gap: 12px;\n",
       "    }\n",
       "\n",
       "    .colab-df-convert {\n",
       "      background-color: #E8F0FE;\n",
       "      border: none;\n",
       "      border-radius: 50%;\n",
       "      cursor: pointer;\n",
       "      display: none;\n",
       "      fill: #1967D2;\n",
       "      height: 32px;\n",
       "      padding: 0 0 0 0;\n",
       "      width: 32px;\n",
       "    }\n",
       "\n",
       "    .colab-df-convert:hover {\n",
       "      background-color: #E2EBFA;\n",
       "      box-shadow: 0px 1px 2px rgba(60, 64, 67, 0.3), 0px 1px 3px 1px rgba(60, 64, 67, 0.15);\n",
       "      fill: #174EA6;\n",
       "    }\n",
       "\n",
       "    .colab-df-buttons div {\n",
       "      margin-bottom: 4px;\n",
       "    }\n",
       "\n",
       "    [theme=dark] .colab-df-convert {\n",
       "      background-color: #3B4455;\n",
       "      fill: #D2E3FC;\n",
       "    }\n",
       "\n",
       "    [theme=dark] .colab-df-convert:hover {\n",
       "      background-color: #434B5C;\n",
       "      box-shadow: 0px 1px 3px 1px rgba(0, 0, 0, 0.15);\n",
       "      filter: drop-shadow(0px 1px 2px rgba(0, 0, 0, 0.3));\n",
       "      fill: #FFFFFF;\n",
       "    }\n",
       "  </style>\n",
       "\n",
       "    <script>\n",
       "      const buttonEl =\n",
       "        document.querySelector('#df-39ee88d6-d505-4217-b334-7a836747d107 button.colab-df-convert');\n",
       "      buttonEl.style.display =\n",
       "        google.colab.kernel.accessAllowed ? 'block' : 'none';\n",
       "\n",
       "      async function convertToInteractive(key) {\n",
       "        const element = document.querySelector('#df-39ee88d6-d505-4217-b334-7a836747d107');\n",
       "        const dataTable =\n",
       "          await google.colab.kernel.invokeFunction('convertToInteractive',\n",
       "                                                    [key], {});\n",
       "        if (!dataTable) return;\n",
       "\n",
       "        const docLinkHtml = 'Like what you see? Visit the ' +\n",
       "          '<a target=\"_blank\" href=https://colab.research.google.com/notebooks/data_table.ipynb>data table notebook</a>'\n",
       "          + ' to learn more about interactive tables.';\n",
       "        element.innerHTML = '';\n",
       "        dataTable['output_type'] = 'display_data';\n",
       "        await google.colab.output.renderOutput(dataTable, element);\n",
       "        const docLink = document.createElement('div');\n",
       "        docLink.innerHTML = docLinkHtml;\n",
       "        element.appendChild(docLink);\n",
       "      }\n",
       "    </script>\n",
       "  </div>\n",
       "\n",
       "    </div>\n",
       "  </div>\n"
      ],
      "text/plain": [
       "        Date      Open      High       Low     Close  Adj Close   Volume  \\\n",
       "0 2006-01-02  0.171269  0.171269  0.171269  0.171269   0.171269  10172.0   \n",
       "\n",
       "        Ticker Exchange          ISIN  Year  exchange_rate  \n",
       "0  ACCELSAB.MX      BMV  MXP000171316  2006      10.905087  "
      ]
     },
     "execution_count": 64,
     "metadata": {},
     "output_type": "execute_result"
    }
   ],
   "source": [
    "q_stock_price.head(1)"
   ]
  },
  {
   "cell_type": "code",
   "execution_count": null,
   "id": "b25f9098",
   "metadata": {
    "id": "b25f9098"
   },
   "outputs": [],
   "source": [
    "logic = {'Open'  : 'first',\n",
    "         'High'  : 'max',\n",
    "         'Low'   : 'min',\n",
    "         'Close' : 'last',\n",
    "         'Volume': 'sum'}\n",
    "\n",
    "q_stock_price = q_stock_price.iloc[:,:9].resample('Q', on='Date').apply(logic)\n",
    "q_stock_price.reset_index(inplace = True)\n",
    "q_stock_price = pd.concat([q_stock_price, pd.DataFrame({'ISIN': [isin_2006[0]]*q_stock_price.shape[0]})], axis = 1)"
   ]
  },
  {
   "cell_type": "code",
   "execution_count": null,
   "id": "ffd59753",
   "metadata": {
    "colab": {
     "base_uri": "https://localhost:8080/",
     "height": 206
    },
    "executionInfo": {
     "elapsed": 284,
     "status": "ok",
     "timestamp": 1708315220184,
     "user": {
      "displayName": "Lisa Chiang",
      "userId": "09169802507274919284"
     },
     "user_tz": 0
    },
    "id": "ffd59753",
    "outputId": "100261c4-21a3-4a02-a544-7a1bb7d1bad4",
    "scrolled": true
   },
   "outputs": [
    {
     "data": {
      "application/vnd.google.colaboratory.intrinsic+json": {
       "summary": "{\n  \"name\": \"q_stock_price\",\n  \"rows\": 72,\n  \"fields\": [\n    {\n      \"column\": \"Date\",\n      \"properties\": {\n        \"dtype\": \"date\",\n        \"min\": \"2006-03-31 00:00:00\",\n        \"max\": \"2023-12-31 00:00:00\",\n        \"samples\": [\n          \"2007-03-31 00:00:00\",\n          \"2021-09-30 00:00:00\",\n          \"2010-09-30 00:00:00\"\n        ],\n        \"num_unique_values\": 72,\n        \"semantic_type\": \"\",\n        \"description\": \"\"\n      }\n    },\n    {\n      \"column\": \"Open\",\n      \"properties\": {\n        \"dtype\": \"number\",\n        \"std\": 0.26365314672488344,\n        \"min\": 0.17126915295346845,\n        \"max\": 1.2636010618423614,\n        \"samples\": [\n          0.17126915295346845,\n          0.2653195896634434,\n          0.7062242051674633\n        ],\n        \"num_unique_values\": 57,\n        \"semantic_type\": \"\",\n        \"description\": \"\"\n      }\n    },\n    {\n      \"column\": \"High\",\n      \"properties\": {\n        \"dtype\": \"number\",\n        \"std\": 0.2608848109605929,\n        \"min\": 0.22490347211347886,\n        \"max\": 1.2636010618423614,\n        \"samples\": [\n          0.5930152688254294,\n          0.8879663337546956,\n          0.8368906067648746\n        ],\n        \"num_unique_values\": 54,\n        \"semantic_type\": \"\",\n        \"description\": \"\"\n      }\n    },\n    {\n      \"column\": \"Low\",\n      \"properties\": {\n        \"dtype\": \"number\",\n        \"std\": 0.2638751954336956,\n        \"min\": 0.17126915295346845,\n        \"max\": 1.2636010618423614,\n        \"samples\": [\n          0.8113189848079958,\n          1.043601170577656,\n          0.17126915295346845\n        ],\n        \"num_unique_values\": 66,\n        \"semantic_type\": \"\",\n        \"description\": \"\"\n      }\n    },\n    {\n      \"column\": \"Close\",\n      \"properties\": {\n        \"dtype\": \"number\",\n        \"std\": 0.26148337522537424,\n        \"min\": 0.22084710908897529,\n        \"max\": 1.2636010618423614,\n        \"samples\": [\n          0.6431061376846084,\n          0.8879663337546956,\n          0.8368906067648746\n        ],\n        \"num_unique_values\": 54,\n        \"semantic_type\": \"\",\n        \"description\": \"\"\n      }\n    },\n    {\n      \"column\": \"Volume\",\n      \"properties\": {\n        \"dtype\": \"number\",\n        \"std\": 49679390.948802926,\n        \"min\": 1764.375,\n        \"max\": 403678395.6452381,\n        \"samples\": [\n          2747719.592042042,\n          8588899.211560145,\n          20157.281553398057\n        ],\n        \"num_unique_values\": 72,\n        \"semantic_type\": \"\",\n        \"description\": \"\"\n      }\n    },\n    {\n      \"column\": \"ISIN\",\n      \"properties\": {\n        \"dtype\": \"category\",\n        \"samples\": [\n          \"MXP000171316\"\n        ],\n        \"num_unique_values\": 1,\n        \"semantic_type\": \"\",\n        \"description\": \"\"\n      }\n    }\n  ]\n}",
       "type": "dataframe",
       "variable_name": "q_stock_price"
      },
      "text/html": [
       "\n",
       "  <div id=\"df-704cdcf0-aca8-4987-8ae0-30370800fcc9\" class=\"colab-df-container\">\n",
       "    <div>\n",
       "<style scoped>\n",
       "    .dataframe tbody tr th:only-of-type {\n",
       "        vertical-align: middle;\n",
       "    }\n",
       "\n",
       "    .dataframe tbody tr th {\n",
       "        vertical-align: top;\n",
       "    }\n",
       "\n",
       "    .dataframe thead th {\n",
       "        text-align: right;\n",
       "    }\n",
       "</style>\n",
       "<table border=\"1\" class=\"dataframe\">\n",
       "  <thead>\n",
       "    <tr style=\"text-align: right;\">\n",
       "      <th></th>\n",
       "      <th>Date</th>\n",
       "      <th>Open</th>\n",
       "      <th>High</th>\n",
       "      <th>Low</th>\n",
       "      <th>Close</th>\n",
       "      <th>Volume</th>\n",
       "      <th>ISIN</th>\n",
       "    </tr>\n",
       "  </thead>\n",
       "  <tbody>\n",
       "    <tr>\n",
       "      <th>0</th>\n",
       "      <td>2006-03-31</td>\n",
       "      <td>0.171269</td>\n",
       "      <td>0.234368</td>\n",
       "      <td>0.171269</td>\n",
       "      <td>0.234368</td>\n",
       "      <td>1.416258e+06</td>\n",
       "      <td>MXP000171316</td>\n",
       "    </tr>\n",
       "    <tr>\n",
       "      <th>1</th>\n",
       "      <td>2006-06-30</td>\n",
       "      <td>0.234368</td>\n",
       "      <td>0.252397</td>\n",
       "      <td>0.234368</td>\n",
       "      <td>0.252397</td>\n",
       "      <td>1.444249e+06</td>\n",
       "      <td>MXP000171316</td>\n",
       "    </tr>\n",
       "    <tr>\n",
       "      <th>2</th>\n",
       "      <td>2006-09-30</td>\n",
       "      <td>0.252397</td>\n",
       "      <td>0.252397</td>\n",
       "      <td>0.224903</td>\n",
       "      <td>0.224903</td>\n",
       "      <td>2.003274e+05</td>\n",
       "      <td>MXP000171316</td>\n",
       "    </tr>\n",
       "    <tr>\n",
       "      <th>3</th>\n",
       "      <td>2006-12-31</td>\n",
       "      <td>0.224903</td>\n",
       "      <td>0.224903</td>\n",
       "      <td>0.220847</td>\n",
       "      <td>0.220847</td>\n",
       "      <td>4.744978e+04</td>\n",
       "      <td>MXP000171316</td>\n",
       "    </tr>\n",
       "    <tr>\n",
       "      <th>4</th>\n",
       "      <td>2007-03-31</td>\n",
       "      <td>0.220350</td>\n",
       "      <td>0.265320</td>\n",
       "      <td>0.206859</td>\n",
       "      <td>0.265320</td>\n",
       "      <td>2.747720e+06</td>\n",
       "      <td>MXP000171316</td>\n",
       "    </tr>\n",
       "  </tbody>\n",
       "</table>\n",
       "</div>\n",
       "    <div class=\"colab-df-buttons\">\n",
       "\n",
       "  <div class=\"colab-df-container\">\n",
       "    <button class=\"colab-df-convert\" onclick=\"convertToInteractive('df-704cdcf0-aca8-4987-8ae0-30370800fcc9')\"\n",
       "            title=\"Convert this dataframe to an interactive table.\"\n",
       "            style=\"display:none;\">\n",
       "\n",
       "  <svg xmlns=\"http://www.w3.org/2000/svg\" height=\"24px\" viewBox=\"0 -960 960 960\">\n",
       "    <path d=\"M120-120v-720h720v720H120Zm60-500h600v-160H180v160Zm220 220h160v-160H400v160Zm0 220h160v-160H400v160ZM180-400h160v-160H180v160Zm440 0h160v-160H620v160ZM180-180h160v-160H180v160Zm440 0h160v-160H620v160Z\"/>\n",
       "  </svg>\n",
       "    </button>\n",
       "\n",
       "  <style>\n",
       "    .colab-df-container {\n",
       "      display:flex;\n",
       "      gap: 12px;\n",
       "    }\n",
       "\n",
       "    .colab-df-convert {\n",
       "      background-color: #E8F0FE;\n",
       "      border: none;\n",
       "      border-radius: 50%;\n",
       "      cursor: pointer;\n",
       "      display: none;\n",
       "      fill: #1967D2;\n",
       "      height: 32px;\n",
       "      padding: 0 0 0 0;\n",
       "      width: 32px;\n",
       "    }\n",
       "\n",
       "    .colab-df-convert:hover {\n",
       "      background-color: #E2EBFA;\n",
       "      box-shadow: 0px 1px 2px rgba(60, 64, 67, 0.3), 0px 1px 3px 1px rgba(60, 64, 67, 0.15);\n",
       "      fill: #174EA6;\n",
       "    }\n",
       "\n",
       "    .colab-df-buttons div {\n",
       "      margin-bottom: 4px;\n",
       "    }\n",
       "\n",
       "    [theme=dark] .colab-df-convert {\n",
       "      background-color: #3B4455;\n",
       "      fill: #D2E3FC;\n",
       "    }\n",
       "\n",
       "    [theme=dark] .colab-df-convert:hover {\n",
       "      background-color: #434B5C;\n",
       "      box-shadow: 0px 1px 3px 1px rgba(0, 0, 0, 0.15);\n",
       "      filter: drop-shadow(0px 1px 2px rgba(0, 0, 0, 0.3));\n",
       "      fill: #FFFFFF;\n",
       "    }\n",
       "  </style>\n",
       "\n",
       "    <script>\n",
       "      const buttonEl =\n",
       "        document.querySelector('#df-704cdcf0-aca8-4987-8ae0-30370800fcc9 button.colab-df-convert');\n",
       "      buttonEl.style.display =\n",
       "        google.colab.kernel.accessAllowed ? 'block' : 'none';\n",
       "\n",
       "      async function convertToInteractive(key) {\n",
       "        const element = document.querySelector('#df-704cdcf0-aca8-4987-8ae0-30370800fcc9');\n",
       "        const dataTable =\n",
       "          await google.colab.kernel.invokeFunction('convertToInteractive',\n",
       "                                                    [key], {});\n",
       "        if (!dataTable) return;\n",
       "\n",
       "        const docLinkHtml = 'Like what you see? Visit the ' +\n",
       "          '<a target=\"_blank\" href=https://colab.research.google.com/notebooks/data_table.ipynb>data table notebook</a>'\n",
       "          + ' to learn more about interactive tables.';\n",
       "        element.innerHTML = '';\n",
       "        dataTable['output_type'] = 'display_data';\n",
       "        await google.colab.output.renderOutput(dataTable, element);\n",
       "        const docLink = document.createElement('div');\n",
       "        docLink.innerHTML = docLinkHtml;\n",
       "        element.appendChild(docLink);\n",
       "      }\n",
       "    </script>\n",
       "  </div>\n",
       "\n",
       "\n",
       "<div id=\"df-117a40ea-2234-456f-a161-3f804fda45de\">\n",
       "  <button class=\"colab-df-quickchart\" onclick=\"quickchart('df-117a40ea-2234-456f-a161-3f804fda45de')\"\n",
       "            title=\"Suggest charts\"\n",
       "            style=\"display:none;\">\n",
       "\n",
       "<svg xmlns=\"http://www.w3.org/2000/svg\" height=\"24px\"viewBox=\"0 0 24 24\"\n",
       "     width=\"24px\">\n",
       "    <g>\n",
       "        <path d=\"M19 3H5c-1.1 0-2 .9-2 2v14c0 1.1.9 2 2 2h14c1.1 0 2-.9 2-2V5c0-1.1-.9-2-2-2zM9 17H7v-7h2v7zm4 0h-2V7h2v10zm4 0h-2v-4h2v4z\"/>\n",
       "    </g>\n",
       "</svg>\n",
       "  </button>\n",
       "\n",
       "<style>\n",
       "  .colab-df-quickchart {\n",
       "      --bg-color: #E8F0FE;\n",
       "      --fill-color: #1967D2;\n",
       "      --hover-bg-color: #E2EBFA;\n",
       "      --hover-fill-color: #174EA6;\n",
       "      --disabled-fill-color: #AAA;\n",
       "      --disabled-bg-color: #DDD;\n",
       "  }\n",
       "\n",
       "  [theme=dark] .colab-df-quickchart {\n",
       "      --bg-color: #3B4455;\n",
       "      --fill-color: #D2E3FC;\n",
       "      --hover-bg-color: #434B5C;\n",
       "      --hover-fill-color: #FFFFFF;\n",
       "      --disabled-bg-color: #3B4455;\n",
       "      --disabled-fill-color: #666;\n",
       "  }\n",
       "\n",
       "  .colab-df-quickchart {\n",
       "    background-color: var(--bg-color);\n",
       "    border: none;\n",
       "    border-radius: 50%;\n",
       "    cursor: pointer;\n",
       "    display: none;\n",
       "    fill: var(--fill-color);\n",
       "    height: 32px;\n",
       "    padding: 0;\n",
       "    width: 32px;\n",
       "  }\n",
       "\n",
       "  .colab-df-quickchart:hover {\n",
       "    background-color: var(--hover-bg-color);\n",
       "    box-shadow: 0 1px 2px rgba(60, 64, 67, 0.3), 0 1px 3px 1px rgba(60, 64, 67, 0.15);\n",
       "    fill: var(--button-hover-fill-color);\n",
       "  }\n",
       "\n",
       "  .colab-df-quickchart-complete:disabled,\n",
       "  .colab-df-quickchart-complete:disabled:hover {\n",
       "    background-color: var(--disabled-bg-color);\n",
       "    fill: var(--disabled-fill-color);\n",
       "    box-shadow: none;\n",
       "  }\n",
       "\n",
       "  .colab-df-spinner {\n",
       "    border: 2px solid var(--fill-color);\n",
       "    border-color: transparent;\n",
       "    border-bottom-color: var(--fill-color);\n",
       "    animation:\n",
       "      spin 1s steps(1) infinite;\n",
       "  }\n",
       "\n",
       "  @keyframes spin {\n",
       "    0% {\n",
       "      border-color: transparent;\n",
       "      border-bottom-color: var(--fill-color);\n",
       "      border-left-color: var(--fill-color);\n",
       "    }\n",
       "    20% {\n",
       "      border-color: transparent;\n",
       "      border-left-color: var(--fill-color);\n",
       "      border-top-color: var(--fill-color);\n",
       "    }\n",
       "    30% {\n",
       "      border-color: transparent;\n",
       "      border-left-color: var(--fill-color);\n",
       "      border-top-color: var(--fill-color);\n",
       "      border-right-color: var(--fill-color);\n",
       "    }\n",
       "    40% {\n",
       "      border-color: transparent;\n",
       "      border-right-color: var(--fill-color);\n",
       "      border-top-color: var(--fill-color);\n",
       "    }\n",
       "    60% {\n",
       "      border-color: transparent;\n",
       "      border-right-color: var(--fill-color);\n",
       "    }\n",
       "    80% {\n",
       "      border-color: transparent;\n",
       "      border-right-color: var(--fill-color);\n",
       "      border-bottom-color: var(--fill-color);\n",
       "    }\n",
       "    90% {\n",
       "      border-color: transparent;\n",
       "      border-bottom-color: var(--fill-color);\n",
       "    }\n",
       "  }\n",
       "</style>\n",
       "\n",
       "  <script>\n",
       "    async function quickchart(key) {\n",
       "      const quickchartButtonEl =\n",
       "        document.querySelector('#' + key + ' button');\n",
       "      quickchartButtonEl.disabled = true;  // To prevent multiple clicks.\n",
       "      quickchartButtonEl.classList.add('colab-df-spinner');\n",
       "      try {\n",
       "        const charts = await google.colab.kernel.invokeFunction(\n",
       "            'suggestCharts', [key], {});\n",
       "      } catch (error) {\n",
       "        console.error('Error during call to suggestCharts:', error);\n",
       "      }\n",
       "      quickchartButtonEl.classList.remove('colab-df-spinner');\n",
       "      quickchartButtonEl.classList.add('colab-df-quickchart-complete');\n",
       "    }\n",
       "    (() => {\n",
       "      let quickchartButtonEl =\n",
       "        document.querySelector('#df-117a40ea-2234-456f-a161-3f804fda45de button');\n",
       "      quickchartButtonEl.style.display =\n",
       "        google.colab.kernel.accessAllowed ? 'block' : 'none';\n",
       "    })();\n",
       "  </script>\n",
       "</div>\n",
       "    </div>\n",
       "  </div>\n"
      ],
      "text/plain": [
       "        Date      Open      High       Low     Close        Volume  \\\n",
       "0 2006-03-31  0.171269  0.234368  0.171269  0.234368  1.416258e+06   \n",
       "1 2006-06-30  0.234368  0.252397  0.234368  0.252397  1.444249e+06   \n",
       "2 2006-09-30  0.252397  0.252397  0.224903  0.224903  2.003274e+05   \n",
       "3 2006-12-31  0.224903  0.224903  0.220847  0.220847  4.744978e+04   \n",
       "4 2007-03-31  0.220350  0.265320  0.206859  0.265320  2.747720e+06   \n",
       "\n",
       "           ISIN  \n",
       "0  MXP000171316  \n",
       "1  MXP000171316  \n",
       "2  MXP000171316  \n",
       "3  MXP000171316  \n",
       "4  MXP000171316  "
      ]
     },
     "execution_count": 66,
     "metadata": {},
     "output_type": "execute_result"
    }
   ],
   "source": [
    "q_stock_price.head()"
   ]
  },
  {
   "cell_type": "code",
   "execution_count": null,
   "id": "b15ab4a9",
   "metadata": {
    "colab": {
     "base_uri": "https://localhost:8080/"
    },
    "executionInfo": {
     "elapsed": 233,
     "status": "ok",
     "timestamp": 1708315253459,
     "user": {
      "displayName": "Lisa Chiang",
      "userId": "09169802507274919284"
     },
     "user_tz": 0
    },
    "id": "b15ab4a9",
    "outputId": "a872cf5f-dc0d-4639-e20b-6ae097820494"
   },
   "outputs": [
    {
     "data": {
      "text/plain": [
       "(72, 7)"
      ]
     },
     "execution_count": 67,
     "metadata": {},
     "output_type": "execute_result"
    }
   ],
   "source": [
    "q_stock_price.shape"
   ]
  },
  {
   "cell_type": "code",
   "execution_count": null,
   "id": "768f0a92",
   "metadata": {
    "id": "768f0a92"
   },
   "outputs": [],
   "source": [
    "for isin in isin_2006[1:]:\n",
    "  temp = stock_price_adjusted[stock_price_adjusted['ISIN']==isin]\n",
    "  temp = temp.iloc[:,:9].resample('Q', on='Date').apply(logic)\n",
    "  temp.reset_index(inplace = True)\n",
    "  isin_column = pd.DataFrame({'ISIN': [isin]*temp.shape[0]})\n",
    "  temp = pd.concat([temp, isin_column], axis = 1)\n",
    "  q_stock_price = pd.concat([q_stock_price, temp], axis = 0)"
   ]
  },
  {
   "cell_type": "code",
   "execution_count": null,
   "id": "a9d1565e",
   "metadata": {
    "colab": {
     "base_uri": "https://localhost:8080/"
    },
    "executionInfo": {
     "elapsed": 197,
     "status": "ok",
     "timestamp": 1708315327972,
     "user": {
      "displayName": "Lisa Chiang",
      "userId": "09169802507274919284"
     },
     "user_tz": 0
    },
    "id": "a9d1565e",
    "outputId": "3b5ff1dd-f184-4e5a-c29c-0368d1fed415"
   },
   "outputs": [
    {
     "data": {
      "text/plain": [
       "(19224, 7)"
      ]
     },
     "execution_count": 69,
     "metadata": {},
     "output_type": "execute_result"
    }
   ],
   "source": [
    "q_stock_price.shape"
   ]
  },
  {
   "cell_type": "code",
   "execution_count": null,
   "id": "63336f9a",
   "metadata": {
    "colab": {
     "base_uri": "https://localhost:8080/",
     "height": 206
    },
    "executionInfo": {
     "elapsed": 297,
     "status": "ok",
     "timestamp": 1708315339264,
     "user": {
      "displayName": "Lisa Chiang",
      "userId": "09169802507274919284"
     },
     "user_tz": 0
    },
    "id": "63336f9a",
    "outputId": "7f32218f-e177-45dd-e916-3598640b4a18",
    "scrolled": false
   },
   "outputs": [
    {
     "data": {
      "application/vnd.google.colaboratory.intrinsic+json": {
       "summary": "{\n  \"name\": \"q_stock_price\",\n  \"rows\": 19224,\n  \"fields\": [\n    {\n      \"column\": \"Date\",\n      \"properties\": {\n        \"dtype\": \"date\",\n        \"min\": \"2006-03-31 00:00:00\",\n        \"max\": \"2023-12-31 00:00:00\",\n        \"samples\": [\n          \"2007-03-31 00:00:00\",\n          \"2021-09-30 00:00:00\",\n          \"2010-09-30 00:00:00\"\n        ],\n        \"num_unique_values\": 72,\n        \"semantic_type\": \"\",\n        \"description\": \"\"\n      }\n    },\n    {\n      \"column\": \"Open\",\n      \"properties\": {\n        \"dtype\": \"number\",\n        \"std\": 51351.00798082916,\n        \"min\": 9.999999974752427e-07,\n        \"max\": 3115895.356947568,\n        \"samples\": [\n          0.05465817405379502,\n          1.7210138315130423,\n          0.5312426702648888\n        ],\n        \"num_unique_values\": 17200,\n        \"semantic_type\": \"\",\n        \"description\": \"\"\n      }\n    },\n    {\n      \"column\": \"High\",\n      \"properties\": {\n        \"dtype\": \"number\",\n        \"std\": 51363.42446413616,\n        \"min\": 9.999999974752427e-07,\n        \"max\": 3115895.356947568,\n        \"samples\": [\n          2.707409508223133,\n          3.5347802464304108,\n          18.381851621585866\n        ],\n        \"num_unique_values\": 17081,\n        \"semantic_type\": \"\",\n        \"description\": \"\"\n      }\n    },\n    {\n      \"column\": \"Low\",\n      \"properties\": {\n        \"dtype\": \"number\",\n        \"std\": 46161.9864430555,\n        \"min\": 9.999999974752427e-07,\n        \"max\": 3115895.356947568,\n        \"samples\": [\n          32.79070153219511,\n          3.441378418672585,\n          4.787056216415827\n        ],\n        \"num_unique_values\": 17022,\n        \"semantic_type\": \"\",\n        \"description\": \"\"\n      }\n    },\n    {\n      \"column\": \"Close\",\n      \"properties\": {\n        \"dtype\": \"number\",\n        \"std\": 46176.06645349828,\n        \"min\": 9.999999974752427e-07,\n        \"max\": 3115895.356947568,\n        \"samples\": [\n          0.3201858778145799,\n          0.053391496363236604,\n          0.6431061376846084\n        ],\n        \"num_unique_values\": 17248,\n        \"semantic_type\": \"\",\n        \"description\": \"\"\n      }\n    },\n    {\n      \"column\": \"Volume\",\n      \"properties\": {\n        \"dtype\": \"number\",\n        \"std\": 863161992.199828,\n        \"min\": 64.0,\n        \"max\": 38398865088.0,\n        \"samples\": [\n          6716329.5,\n          36663.48484848485,\n          740122950.0\n        ],\n        \"num_unique_values\": 18664,\n        \"semantic_type\": \"\",\n        \"description\": \"\"\n      }\n    },\n    {\n      \"column\": \"ISIN\",\n      \"properties\": {\n        \"dtype\": \"category\",\n        \"samples\": [\n          \"BRPNVLACNOR9\",\n          \"CL0000000100\",\n          \"BRMGELACNPR3\"\n        ],\n        \"num_unique_values\": 267,\n        \"semantic_type\": \"\",\n        \"description\": \"\"\n      }\n    }\n  ]\n}",
       "type": "dataframe",
       "variable_name": "q_stock_price"
      },
      "text/html": [
       "\n",
       "  <div id=\"df-8b5d621c-5ddd-479d-9357-e87fb9312825\" class=\"colab-df-container\">\n",
       "    <div>\n",
       "<style scoped>\n",
       "    .dataframe tbody tr th:only-of-type {\n",
       "        vertical-align: middle;\n",
       "    }\n",
       "\n",
       "    .dataframe tbody tr th {\n",
       "        vertical-align: top;\n",
       "    }\n",
       "\n",
       "    .dataframe thead th {\n",
       "        text-align: right;\n",
       "    }\n",
       "</style>\n",
       "<table border=\"1\" class=\"dataframe\">\n",
       "  <thead>\n",
       "    <tr style=\"text-align: right;\">\n",
       "      <th></th>\n",
       "      <th>Date</th>\n",
       "      <th>Open</th>\n",
       "      <th>High</th>\n",
       "      <th>Low</th>\n",
       "      <th>Close</th>\n",
       "      <th>Volume</th>\n",
       "      <th>ISIN</th>\n",
       "    </tr>\n",
       "  </thead>\n",
       "  <tbody>\n",
       "    <tr>\n",
       "      <th>0</th>\n",
       "      <td>2006-03-31</td>\n",
       "      <td>0.171269</td>\n",
       "      <td>0.234368</td>\n",
       "      <td>0.171269</td>\n",
       "      <td>0.234368</td>\n",
       "      <td>1.416258e+06</td>\n",
       "      <td>MXP000171316</td>\n",
       "    </tr>\n",
       "    <tr>\n",
       "      <th>1</th>\n",
       "      <td>2006-06-30</td>\n",
       "      <td>0.234368</td>\n",
       "      <td>0.252397</td>\n",
       "      <td>0.234368</td>\n",
       "      <td>0.252397</td>\n",
       "      <td>1.444249e+06</td>\n",
       "      <td>MXP000171316</td>\n",
       "    </tr>\n",
       "    <tr>\n",
       "      <th>2</th>\n",
       "      <td>2006-09-30</td>\n",
       "      <td>0.252397</td>\n",
       "      <td>0.252397</td>\n",
       "      <td>0.224903</td>\n",
       "      <td>0.224903</td>\n",
       "      <td>2.003274e+05</td>\n",
       "      <td>MXP000171316</td>\n",
       "    </tr>\n",
       "    <tr>\n",
       "      <th>3</th>\n",
       "      <td>2006-12-31</td>\n",
       "      <td>0.224903</td>\n",
       "      <td>0.224903</td>\n",
       "      <td>0.220847</td>\n",
       "      <td>0.220847</td>\n",
       "      <td>4.744978e+04</td>\n",
       "      <td>MXP000171316</td>\n",
       "    </tr>\n",
       "    <tr>\n",
       "      <th>4</th>\n",
       "      <td>2007-03-31</td>\n",
       "      <td>0.220350</td>\n",
       "      <td>0.265320</td>\n",
       "      <td>0.206859</td>\n",
       "      <td>0.265320</td>\n",
       "      <td>2.747720e+06</td>\n",
       "      <td>MXP000171316</td>\n",
       "    </tr>\n",
       "  </tbody>\n",
       "</table>\n",
       "</div>\n",
       "    <div class=\"colab-df-buttons\">\n",
       "\n",
       "  <div class=\"colab-df-container\">\n",
       "    <button class=\"colab-df-convert\" onclick=\"convertToInteractive('df-8b5d621c-5ddd-479d-9357-e87fb9312825')\"\n",
       "            title=\"Convert this dataframe to an interactive table.\"\n",
       "            style=\"display:none;\">\n",
       "\n",
       "  <svg xmlns=\"http://www.w3.org/2000/svg\" height=\"24px\" viewBox=\"0 -960 960 960\">\n",
       "    <path d=\"M120-120v-720h720v720H120Zm60-500h600v-160H180v160Zm220 220h160v-160H400v160Zm0 220h160v-160H400v160ZM180-400h160v-160H180v160Zm440 0h160v-160H620v160ZM180-180h160v-160H180v160Zm440 0h160v-160H620v160Z\"/>\n",
       "  </svg>\n",
       "    </button>\n",
       "\n",
       "  <style>\n",
       "    .colab-df-container {\n",
       "      display:flex;\n",
       "      gap: 12px;\n",
       "    }\n",
       "\n",
       "    .colab-df-convert {\n",
       "      background-color: #E8F0FE;\n",
       "      border: none;\n",
       "      border-radius: 50%;\n",
       "      cursor: pointer;\n",
       "      display: none;\n",
       "      fill: #1967D2;\n",
       "      height: 32px;\n",
       "      padding: 0 0 0 0;\n",
       "      width: 32px;\n",
       "    }\n",
       "\n",
       "    .colab-df-convert:hover {\n",
       "      background-color: #E2EBFA;\n",
       "      box-shadow: 0px 1px 2px rgba(60, 64, 67, 0.3), 0px 1px 3px 1px rgba(60, 64, 67, 0.15);\n",
       "      fill: #174EA6;\n",
       "    }\n",
       "\n",
       "    .colab-df-buttons div {\n",
       "      margin-bottom: 4px;\n",
       "    }\n",
       "\n",
       "    [theme=dark] .colab-df-convert {\n",
       "      background-color: #3B4455;\n",
       "      fill: #D2E3FC;\n",
       "    }\n",
       "\n",
       "    [theme=dark] .colab-df-convert:hover {\n",
       "      background-color: #434B5C;\n",
       "      box-shadow: 0px 1px 3px 1px rgba(0, 0, 0, 0.15);\n",
       "      filter: drop-shadow(0px 1px 2px rgba(0, 0, 0, 0.3));\n",
       "      fill: #FFFFFF;\n",
       "    }\n",
       "  </style>\n",
       "\n",
       "    <script>\n",
       "      const buttonEl =\n",
       "        document.querySelector('#df-8b5d621c-5ddd-479d-9357-e87fb9312825 button.colab-df-convert');\n",
       "      buttonEl.style.display =\n",
       "        google.colab.kernel.accessAllowed ? 'block' : 'none';\n",
       "\n",
       "      async function convertToInteractive(key) {\n",
       "        const element = document.querySelector('#df-8b5d621c-5ddd-479d-9357-e87fb9312825');\n",
       "        const dataTable =\n",
       "          await google.colab.kernel.invokeFunction('convertToInteractive',\n",
       "                                                    [key], {});\n",
       "        if (!dataTable) return;\n",
       "\n",
       "        const docLinkHtml = 'Like what you see? Visit the ' +\n",
       "          '<a target=\"_blank\" href=https://colab.research.google.com/notebooks/data_table.ipynb>data table notebook</a>'\n",
       "          + ' to learn more about interactive tables.';\n",
       "        element.innerHTML = '';\n",
       "        dataTable['output_type'] = 'display_data';\n",
       "        await google.colab.output.renderOutput(dataTable, element);\n",
       "        const docLink = document.createElement('div');\n",
       "        docLink.innerHTML = docLinkHtml;\n",
       "        element.appendChild(docLink);\n",
       "      }\n",
       "    </script>\n",
       "  </div>\n",
       "\n",
       "\n",
       "<div id=\"df-62e18176-2f29-4419-9131-aefd8263d7eb\">\n",
       "  <button class=\"colab-df-quickchart\" onclick=\"quickchart('df-62e18176-2f29-4419-9131-aefd8263d7eb')\"\n",
       "            title=\"Suggest charts\"\n",
       "            style=\"display:none;\">\n",
       "\n",
       "<svg xmlns=\"http://www.w3.org/2000/svg\" height=\"24px\"viewBox=\"0 0 24 24\"\n",
       "     width=\"24px\">\n",
       "    <g>\n",
       "        <path d=\"M19 3H5c-1.1 0-2 .9-2 2v14c0 1.1.9 2 2 2h14c1.1 0 2-.9 2-2V5c0-1.1-.9-2-2-2zM9 17H7v-7h2v7zm4 0h-2V7h2v10zm4 0h-2v-4h2v4z\"/>\n",
       "    </g>\n",
       "</svg>\n",
       "  </button>\n",
       "\n",
       "<style>\n",
       "  .colab-df-quickchart {\n",
       "      --bg-color: #E8F0FE;\n",
       "      --fill-color: #1967D2;\n",
       "      --hover-bg-color: #E2EBFA;\n",
       "      --hover-fill-color: #174EA6;\n",
       "      --disabled-fill-color: #AAA;\n",
       "      --disabled-bg-color: #DDD;\n",
       "  }\n",
       "\n",
       "  [theme=dark] .colab-df-quickchart {\n",
       "      --bg-color: #3B4455;\n",
       "      --fill-color: #D2E3FC;\n",
       "      --hover-bg-color: #434B5C;\n",
       "      --hover-fill-color: #FFFFFF;\n",
       "      --disabled-bg-color: #3B4455;\n",
       "      --disabled-fill-color: #666;\n",
       "  }\n",
       "\n",
       "  .colab-df-quickchart {\n",
       "    background-color: var(--bg-color);\n",
       "    border: none;\n",
       "    border-radius: 50%;\n",
       "    cursor: pointer;\n",
       "    display: none;\n",
       "    fill: var(--fill-color);\n",
       "    height: 32px;\n",
       "    padding: 0;\n",
       "    width: 32px;\n",
       "  }\n",
       "\n",
       "  .colab-df-quickchart:hover {\n",
       "    background-color: var(--hover-bg-color);\n",
       "    box-shadow: 0 1px 2px rgba(60, 64, 67, 0.3), 0 1px 3px 1px rgba(60, 64, 67, 0.15);\n",
       "    fill: var(--button-hover-fill-color);\n",
       "  }\n",
       "\n",
       "  .colab-df-quickchart-complete:disabled,\n",
       "  .colab-df-quickchart-complete:disabled:hover {\n",
       "    background-color: var(--disabled-bg-color);\n",
       "    fill: var(--disabled-fill-color);\n",
       "    box-shadow: none;\n",
       "  }\n",
       "\n",
       "  .colab-df-spinner {\n",
       "    border: 2px solid var(--fill-color);\n",
       "    border-color: transparent;\n",
       "    border-bottom-color: var(--fill-color);\n",
       "    animation:\n",
       "      spin 1s steps(1) infinite;\n",
       "  }\n",
       "\n",
       "  @keyframes spin {\n",
       "    0% {\n",
       "      border-color: transparent;\n",
       "      border-bottom-color: var(--fill-color);\n",
       "      border-left-color: var(--fill-color);\n",
       "    }\n",
       "    20% {\n",
       "      border-color: transparent;\n",
       "      border-left-color: var(--fill-color);\n",
       "      border-top-color: var(--fill-color);\n",
       "    }\n",
       "    30% {\n",
       "      border-color: transparent;\n",
       "      border-left-color: var(--fill-color);\n",
       "      border-top-color: var(--fill-color);\n",
       "      border-right-color: var(--fill-color);\n",
       "    }\n",
       "    40% {\n",
       "      border-color: transparent;\n",
       "      border-right-color: var(--fill-color);\n",
       "      border-top-color: var(--fill-color);\n",
       "    }\n",
       "    60% {\n",
       "      border-color: transparent;\n",
       "      border-right-color: var(--fill-color);\n",
       "    }\n",
       "    80% {\n",
       "      border-color: transparent;\n",
       "      border-right-color: var(--fill-color);\n",
       "      border-bottom-color: var(--fill-color);\n",
       "    }\n",
       "    90% {\n",
       "      border-color: transparent;\n",
       "      border-bottom-color: var(--fill-color);\n",
       "    }\n",
       "  }\n",
       "</style>\n",
       "\n",
       "  <script>\n",
       "    async function quickchart(key) {\n",
       "      const quickchartButtonEl =\n",
       "        document.querySelector('#' + key + ' button');\n",
       "      quickchartButtonEl.disabled = true;  // To prevent multiple clicks.\n",
       "      quickchartButtonEl.classList.add('colab-df-spinner');\n",
       "      try {\n",
       "        const charts = await google.colab.kernel.invokeFunction(\n",
       "            'suggestCharts', [key], {});\n",
       "      } catch (error) {\n",
       "        console.error('Error during call to suggestCharts:', error);\n",
       "      }\n",
       "      quickchartButtonEl.classList.remove('colab-df-spinner');\n",
       "      quickchartButtonEl.classList.add('colab-df-quickchart-complete');\n",
       "    }\n",
       "    (() => {\n",
       "      let quickchartButtonEl =\n",
       "        document.querySelector('#df-62e18176-2f29-4419-9131-aefd8263d7eb button');\n",
       "      quickchartButtonEl.style.display =\n",
       "        google.colab.kernel.accessAllowed ? 'block' : 'none';\n",
       "    })();\n",
       "  </script>\n",
       "</div>\n",
       "    </div>\n",
       "  </div>\n"
      ],
      "text/plain": [
       "        Date      Open      High       Low     Close        Volume  \\\n",
       "0 2006-03-31  0.171269  0.234368  0.171269  0.234368  1.416258e+06   \n",
       "1 2006-06-30  0.234368  0.252397  0.234368  0.252397  1.444249e+06   \n",
       "2 2006-09-30  0.252397  0.252397  0.224903  0.224903  2.003274e+05   \n",
       "3 2006-12-31  0.224903  0.224903  0.220847  0.220847  4.744978e+04   \n",
       "4 2007-03-31  0.220350  0.265320  0.206859  0.265320  2.747720e+06   \n",
       "\n",
       "           ISIN  \n",
       "0  MXP000171316  \n",
       "1  MXP000171316  \n",
       "2  MXP000171316  \n",
       "3  MXP000171316  \n",
       "4  MXP000171316  "
      ]
     },
     "execution_count": 70,
     "metadata": {},
     "output_type": "execute_result"
    }
   ],
   "source": [
    "q_stock_price.head()"
   ]
  },
  {
   "cell_type": "markdown",
   "id": "c902e791",
   "metadata": {
    "id": "c902e791"
   },
   "source": [
    "# Export the stock data"
   ]
  },
  {
   "cell_type": "code",
   "execution_count": null,
   "id": "ba90fb5e",
   "metadata": {
    "id": "ba90fb5e"
   },
   "outputs": [],
   "source": [
    "#q_stock_price.to_csv('2.18 quarterly stock price.csv', index = False)"
   ]
  },
  {
   "cell_type": "code",
   "execution_count": null,
   "id": "r7dok4W6iUxc",
   "metadata": {
    "id": "r7dok4W6iUxc"
   },
   "outputs": [],
   "source": []
  }
 ],
 "metadata": {
  "colab": {
   "provenance": []
  },
  "kernelspec": {
   "display_name": "Python 3 (ipykernel)",
   "language": "python",
   "name": "python3"
  },
  "language_info": {
   "codemirror_mode": {
    "name": "ipython",
    "version": 3
   },
   "file_extension": ".py",
   "mimetype": "text/x-python",
   "name": "python",
   "nbconvert_exporter": "python",
   "pygments_lexer": "ipython3",
   "version": "3.9.16"
  }
 },
 "nbformat": 4,
 "nbformat_minor": 5
}
