{
 "cells": [
  {
   "cell_type": "code",
   "execution_count": 2,
   "id": "9f4c8cd0",
   "metadata": {
    "executionInfo": {
     "elapsed": 768,
     "status": "ok",
     "timestamp": 1708598660558,
     "user": {
      "displayName": "Lisa Chiang",
      "userId": "09169802507274919284"
     },
     "user_tz": 0
    },
    "id": "9f4c8cd0"
   },
   "outputs": [],
   "source": [
    "import numpy as np\n",
    "import pandas as pd"
   ]
  },
  {
   "cell_type": "code",
   "execution_count": 3,
   "id": "F3X2grMxoT0g",
   "metadata": {
    "executionInfo": {
     "elapsed": 175,
     "status": "ok",
     "timestamp": 1708598660559,
     "user": {
      "displayName": "Lisa Chiang",
      "userId": "09169802507274919284"
     },
     "user_tz": 0
    },
    "id": "F3X2grMxoT0g"
   },
   "outputs": [],
   "source": [
    "def check(dataframe):\n",
    "  num_company = dataframe['isin'].nunique()\n",
    "  num_rows = dataframe.shape[0]\n",
    "  print(f'Number of companies: {num_company}')\n",
    "  print(f'Number of rows: {num_rows}')\n",
    "\n",
    "def get_num_finance(dataframe):\n",
    "  return dataframe[['isin', 'is_finance']].drop_duplicates()['is_finance'].sum()"
   ]
  },
  {
   "cell_type": "markdown",
   "id": "8cZJGl921mN3",
   "metadata": {
    "id": "8cZJGl921mN3"
   },
   "source": [
    "# Import original dataset before elimination"
   ]
  },
  {
   "cell_type": "code",
   "execution_count": 4,
   "id": "t-_z_73r08hD",
   "metadata": {
    "executionInfo": {
     "elapsed": 169,
     "status": "ok",
     "timestamp": 1708598660559,
     "user": {
      "displayName": "Lisa Chiang",
      "userId": "09169802507274919284"
     },
     "user_tz": 0
    },
    "id": "t-_z_73r08hD"
   },
   "outputs": [],
   "source": [
    "df = pd.read_csv('2.18 combined dataset of stock data and balance sheet data.csv')"
   ]
  },
  {
   "cell_type": "markdown",
   "id": "tufGZZwcVSSF",
   "metadata": {
    "id": "tufGZZwcVSSF"
   },
   "source": [
    "# Change a problematic company name"
   ]
  },
  {
   "cell_type": "code",
   "execution_count": 5,
   "id": "uH9SnpQtVQIy",
   "metadata": {
    "colab": {
     "base_uri": "https://localhost:8080/"
    },
    "executionInfo": {
     "elapsed": 169,
     "status": "ok",
     "timestamp": 1708598660560,
     "user": {
      "displayName": "Lisa Chiang",
      "userId": "09169802507274919284"
     },
     "user_tz": 0
    },
    "id": "uH9SnpQtVQIy",
    "outputId": "ff4110d9-7253-4854-f190-9cd6267545a6"
   },
   "outputs": [
    {
     "data": {
      "text/plain": [
       "array(['CL0000003096', 'CLP7919K1035'], dtype=object)"
      ]
     },
     "execution_count": 5,
     "metadata": {},
     "output_type": "execute_result"
    }
   ],
   "source": [
    "df[df['company_name']=='ADMINISTRADORA DE FONDOS DE']['isin'].unique()"
   ]
  },
  {
   "cell_type": "markdown",
   "id": "xSPfBBZjV0Sw",
   "metadata": {
    "id": "xSPfBBZjV0Sw"
   },
   "source": [
    "After doing research we notice that they are two completely different companies with the same abbreviation, one is called 'Administradora de Fondos de Pensiones Capital S.A.' and the other is called 'Administradora de Fondos de Pensiones Provida S.A.'. Thus we modify the name:"
   ]
  },
  {
   "cell_type": "code",
   "execution_count": 6,
   "id": "n0s_4pNZVzKf",
   "metadata": {
    "executionInfo": {
     "elapsed": 153,
     "status": "ok",
     "timestamp": 1708598660560,
     "user": {
      "displayName": "Lisa Chiang",
      "userId": "09169802507274919284"
     },
     "user_tz": 0
    },
    "id": "n0s_4pNZVzKf"
   },
   "outputs": [],
   "source": [
    "df['company_name'] = np.where(df['isin']=='CL0000003096', 'ADMINISTRADORA DE FONDOS DE PENSIONES CAPITAL S.A.', df['company_name'])\n",
    "df['company_name'] = np.where(df['isin']=='CLP7919K1035', 'ADMINISTRADORA DE FONDOS DE PENSIONES PROVIDA S.A.', df['company_name'])"
   ]
  },
  {
   "cell_type": "markdown",
   "id": "byc8KbiOWSd2",
   "metadata": {
    "id": "byc8KbiOWSd2"
   },
   "source": [
    "# Check some basic info"
   ]
  },
  {
   "cell_type": "code",
   "execution_count": 7,
   "id": "WrGtlYE51u7v",
   "metadata": {
    "colab": {
     "base_uri": "https://localhost:8080/"
    },
    "executionInfo": {
     "elapsed": 151,
     "status": "ok",
     "timestamp": 1708598660561,
     "user": {
      "displayName": "Lisa Chiang",
      "userId": "09169802507274919284"
     },
     "user_tz": 0
    },
    "id": "WrGtlYE51u7v",
    "outputId": "2e590584-e3bf-47e2-a984-c45900884c56"
   },
   "outputs": [
    {
     "name": "stdout",
     "output_type": "stream",
     "text": [
      "Number of companies: 267\n",
      "Number of rows: 19224\n"
     ]
    }
   ],
   "source": [
    "check(df)"
   ]
  },
  {
   "cell_type": "code",
   "execution_count": 8,
   "id": "7K-csGRppD2p",
   "metadata": {
    "colab": {
     "base_uri": "https://localhost:8080/"
    },
    "executionInfo": {
     "elapsed": 140,
     "status": "ok",
     "timestamp": 1708598660561,
     "user": {
      "displayName": "Lisa Chiang",
      "userId": "09169802507274919284"
     },
     "user_tz": 0
    },
    "id": "7K-csGRppD2p",
    "outputId": "6ce5663e-dc73-4399-8453-fc68f8c07ecb"
   },
   "outputs": [
    {
     "data": {
      "text/plain": [
       "43"
      ]
     },
     "execution_count": 8,
     "metadata": {},
     "output_type": "execute_result"
    }
   ],
   "source": [
    "get_num_finance(df)"
   ]
  },
  {
   "cell_type": "code",
   "execution_count": 9,
   "id": "UKT3AQgsTMol",
   "metadata": {
    "colab": {
     "base_uri": "https://localhost:8080/"
    },
    "executionInfo": {
     "elapsed": 135,
     "status": "ok",
     "timestamp": 1708598660563,
     "user": {
      "displayName": "Lisa Chiang",
      "userId": "09169802507274919284"
     },
     "user_tz": 0
    },
    "id": "UKT3AQgsTMol",
    "outputId": "956d0f5f-6a3f-449d-de94-9797fae7ff16"
   },
   "outputs": [
    {
     "data": {
      "text/plain": [
       "0"
      ]
     },
     "execution_count": 9,
     "metadata": {},
     "output_type": "execute_result"
    }
   ],
   "source": [
    "df[df['isin']=='CL0000003096']['datadate'].duplicated().sum()"
   ]
  },
  {
   "cell_type": "code",
   "execution_count": 10,
   "id": "nErH1xbQTvml",
   "metadata": {
    "colab": {
     "base_uri": "https://localhost:8080/"
    },
    "executionInfo": {
     "elapsed": 132,
     "status": "ok",
     "timestamp": 1708598660564,
     "user": {
      "displayName": "Lisa Chiang",
      "userId": "09169802507274919284"
     },
     "user_tz": 0
    },
    "id": "nErH1xbQTvml",
    "outputId": "eff2f290-7bfc-4072-986a-68977afbb3da"
   },
   "outputs": [
    {
     "data": {
      "text/plain": [
       "9792    2006-03-31\n",
       "Name: datadate, dtype: object"
      ]
     },
     "execution_count": 10,
     "metadata": {},
     "output_type": "execute_result"
    }
   ],
   "source": [
    "temp = df[df['isin']=='CL0000003096']['datadate']\n",
    "temp.iloc[0]\n",
    "temp[temp == '2006-03-31']"
   ]
  },
  {
   "cell_type": "markdown",
   "id": "JoUISVhvmEnx",
   "metadata": {
    "id": "JoUISVhvmEnx"
   },
   "source": [
    "# 1. Eliminate based on the 0.9 criteria"
   ]
  },
  {
   "cell_type": "code",
   "execution_count": 11,
   "id": "86DzB5g9lwGr",
   "metadata": {
    "colab": {
     "base_uri": "https://localhost:8080/",
     "height": 704
    },
    "executionInfo": {
     "elapsed": 119,
     "status": "ok",
     "timestamp": 1708598660564,
     "user": {
      "displayName": "Lisa Chiang",
      "userId": "09169802507274919284"
     },
     "user_tz": 0
    },
    "id": "86DzB5g9lwGr",
    "outputId": "c38a7117-a06b-4b9e-e003-64955293fe03"
   },
   "outputs": [
    {
     "data": {
      "application/vnd.google.colaboratory.intrinsic+json": {
       "repr_error": "'str' object has no attribute 'empty'",
       "type": "dataframe"
      },
      "text/html": [
       "\n",
       "  <div id=\"df-96edfdfa-42db-4581-955a-0e5bc2226475\" class=\"colab-df-container\">\n",
       "    <div>\n",
       "<style scoped>\n",
       "    .dataframe tbody tr th:only-of-type {\n",
       "        vertical-align: middle;\n",
       "    }\n",
       "\n",
       "    .dataframe tbody tr th {\n",
       "        vertical-align: top;\n",
       "    }\n",
       "\n",
       "    .dataframe thead th {\n",
       "        text-align: right;\n",
       "    }\n",
       "</style>\n",
       "<table border=\"1\" class=\"dataframe\">\n",
       "  <thead>\n",
       "    <tr style=\"text-align: right;\">\n",
       "      <th></th>\n",
       "      <th>datadate</th>\n",
       "      <th>key</th>\n",
       "      <th>fiscal_quarter</th>\n",
       "      <th>fiscal_year</th>\n",
       "      <th>total_assets</th>\n",
       "      <th>total_liabilities</th>\n",
       "      <th>isin</th>\n",
       "      <th>company_name</th>\n",
       "      <th>gic_industries</th>\n",
       "      <th>iso_country_code</th>\n",
       "      <th>industry_name</th>\n",
       "      <th>is_finance</th>\n",
       "      <th>Open</th>\n",
       "      <th>High</th>\n",
       "      <th>Low</th>\n",
       "      <th>Close</th>\n",
       "      <th>Volume</th>\n",
       "    </tr>\n",
       "  </thead>\n",
       "  <tbody>\n",
       "    <tr>\n",
       "      <th>576</th>\n",
       "      <td>2006-03-31</td>\n",
       "      <td>349889.0</td>\n",
       "      <td>1</td>\n",
       "      <td>2006</td>\n",
       "      <td>5.22010</td>\n",
       "      <td>19.246000</td>\n",
       "      <td>ARHULI010014</td>\n",
       "      <td>HULYTEGO S.A.I.C.</td>\n",
       "      <td>151010.0</td>\n",
       "      <td>ARG</td>\n",
       "      <td>Chemicals</td>\n",
       "      <td>False</td>\n",
       "      <td>0.097576</td>\n",
       "      <td>0.097576</td>\n",
       "      <td>0.097576</td>\n",
       "      <td>0.097576</td>\n",
       "      <td>1.950000e+05</td>\n",
       "    </tr>\n",
       "    <tr>\n",
       "      <th>577</th>\n",
       "      <td>2006-06-30</td>\n",
       "      <td>349889.0</td>\n",
       "      <td>2</td>\n",
       "      <td>2006</td>\n",
       "      <td>5.22010</td>\n",
       "      <td>19.246000</td>\n",
       "      <td>ARHULI010014</td>\n",
       "      <td>HULYTEGO S.A.I.C.</td>\n",
       "      <td>151010.0</td>\n",
       "      <td>ARG</td>\n",
       "      <td>Chemicals</td>\n",
       "      <td>False</td>\n",
       "      <td>0.097576</td>\n",
       "      <td>0.097576</td>\n",
       "      <td>0.097576</td>\n",
       "      <td>0.097576</td>\n",
       "      <td>1.950000e+05</td>\n",
       "    </tr>\n",
       "    <tr>\n",
       "      <th>578</th>\n",
       "      <td>2006-09-30</td>\n",
       "      <td>349889.0</td>\n",
       "      <td>3</td>\n",
       "      <td>2006</td>\n",
       "      <td>5.22010</td>\n",
       "      <td>19.246000</td>\n",
       "      <td>ARHULI010014</td>\n",
       "      <td>HULYTEGO S.A.I.C.</td>\n",
       "      <td>151010.0</td>\n",
       "      <td>ARG</td>\n",
       "      <td>Chemicals</td>\n",
       "      <td>False</td>\n",
       "      <td>0.097576</td>\n",
       "      <td>0.097576</td>\n",
       "      <td>0.097576</td>\n",
       "      <td>0.097576</td>\n",
       "      <td>1.950000e+05</td>\n",
       "    </tr>\n",
       "    <tr>\n",
       "      <th>579</th>\n",
       "      <td>2006-12-31</td>\n",
       "      <td>349889.0</td>\n",
       "      <td>4</td>\n",
       "      <td>2006</td>\n",
       "      <td>5.22010</td>\n",
       "      <td>19.246000</td>\n",
       "      <td>ARHULI010014</td>\n",
       "      <td>HULYTEGO S.A.I.C.</td>\n",
       "      <td>151010.0</td>\n",
       "      <td>ARG</td>\n",
       "      <td>Chemicals</td>\n",
       "      <td>False</td>\n",
       "      <td>0.097576</td>\n",
       "      <td>0.097576</td>\n",
       "      <td>0.097576</td>\n",
       "      <td>0.097576</td>\n",
       "      <td>1.950000e+05</td>\n",
       "    </tr>\n",
       "    <tr>\n",
       "      <th>580</th>\n",
       "      <td>2007-03-31</td>\n",
       "      <td>349889.0</td>\n",
       "      <td>1</td>\n",
       "      <td>2007</td>\n",
       "      <td>5.34647</td>\n",
       "      <td>18.729918</td>\n",
       "      <td>ARHULI010014</td>\n",
       "      <td>HULYTEGO S.A.I.C.</td>\n",
       "      <td>151010.0</td>\n",
       "      <td>ARG</td>\n",
       "      <td>Chemicals</td>\n",
       "      <td>False</td>\n",
       "      <td>0.096288</td>\n",
       "      <td>0.096288</td>\n",
       "      <td>0.096288</td>\n",
       "      <td>0.096288</td>\n",
       "      <td>1.950000e+05</td>\n",
       "    </tr>\n",
       "    <tr>\n",
       "      <th>...</th>\n",
       "      <td>...</td>\n",
       "      <td>...</td>\n",
       "      <td>...</td>\n",
       "      <td>...</td>\n",
       "      <td>...</td>\n",
       "      <td>...</td>\n",
       "      <td>...</td>\n",
       "      <td>...</td>\n",
       "      <td>...</td>\n",
       "      <td>...</td>\n",
       "      <td>...</td>\n",
       "      <td>...</td>\n",
       "      <td>...</td>\n",
       "      <td>...</td>\n",
       "      <td>...</td>\n",
       "      <td>...</td>\n",
       "      <td>...</td>\n",
       "    </tr>\n",
       "    <tr>\n",
       "      <th>16308</th>\n",
       "      <td>2015-03-31</td>\n",
       "      <td>268567.0</td>\n",
       "      <td>1</td>\n",
       "      <td>2015</td>\n",
       "      <td>9322.76000</td>\n",
       "      <td>44900.472000</td>\n",
       "      <td>MX01UR000007</td>\n",
       "      <td>URBI DESARROLLOS URBANOS SA</td>\n",
       "      <td>252010.0</td>\n",
       "      <td>MEX</td>\n",
       "      <td>Household Durables</td>\n",
       "      <td>False</td>\n",
       "      <td>1884.532227</td>\n",
       "      <td>1884.532227</td>\n",
       "      <td>1884.532227</td>\n",
       "      <td>1884.532227</td>\n",
       "      <td>8.790134e+05</td>\n",
       "    </tr>\n",
       "    <tr>\n",
       "      <th>16309</th>\n",
       "      <td>2015-06-30</td>\n",
       "      <td>268567.0</td>\n",
       "      <td>2</td>\n",
       "      <td>2015</td>\n",
       "      <td>8540.12900</td>\n",
       "      <td>43951.996000</td>\n",
       "      <td>MX01UR000007</td>\n",
       "      <td>URBI DESARROLLOS URBANOS SA</td>\n",
       "      <td>252010.0</td>\n",
       "      <td>MEX</td>\n",
       "      <td>Household Durables</td>\n",
       "      <td>False</td>\n",
       "      <td>1884.532227</td>\n",
       "      <td>1884.532227</td>\n",
       "      <td>1884.532227</td>\n",
       "      <td>1884.532227</td>\n",
       "      <td>1.032365e+06</td>\n",
       "    </tr>\n",
       "    <tr>\n",
       "      <th>16310</th>\n",
       "      <td>2015-09-30</td>\n",
       "      <td>268567.0</td>\n",
       "      <td>3</td>\n",
       "      <td>2015</td>\n",
       "      <td>8470.32400</td>\n",
       "      <td>44264.144000</td>\n",
       "      <td>MX01UR000007</td>\n",
       "      <td>URBI DESARROLLOS URBANOS SA</td>\n",
       "      <td>252010.0</td>\n",
       "      <td>MEX</td>\n",
       "      <td>Household Durables</td>\n",
       "      <td>False</td>\n",
       "      <td>1884.532227</td>\n",
       "      <td>1884.532227</td>\n",
       "      <td>1884.532227</td>\n",
       "      <td>1884.532227</td>\n",
       "      <td>1.192210e+06</td>\n",
       "    </tr>\n",
       "    <tr>\n",
       "      <th>16311</th>\n",
       "      <td>2015-12-31</td>\n",
       "      <td>268567.0</td>\n",
       "      <td>4</td>\n",
       "      <td>2015</td>\n",
       "      <td>5613.41100</td>\n",
       "      <td>42636.795000</td>\n",
       "      <td>MX01UR000007</td>\n",
       "      <td>URBI DESARROLLOS URBANOS SA</td>\n",
       "      <td>252010.0</td>\n",
       "      <td>MEX</td>\n",
       "      <td>Household Durables</td>\n",
       "      <td>False</td>\n",
       "      <td>1884.532227</td>\n",
       "      <td>1884.532227</td>\n",
       "      <td>1884.528661</td>\n",
       "      <td>1884.528661</td>\n",
       "      <td>1.337262e+06</td>\n",
       "    </tr>\n",
       "    <tr>\n",
       "      <th>16312</th>\n",
       "      <td>2016-03-31</td>\n",
       "      <td>268567.0</td>\n",
       "      <td>1</td>\n",
       "      <td>2016</td>\n",
       "      <td>5607.25600</td>\n",
       "      <td>42802.594000</td>\n",
       "      <td>MX01UR000007</td>\n",
       "      <td>URBI DESARROLLOS URBANOS SA</td>\n",
       "      <td>252010.0</td>\n",
       "      <td>MEX</td>\n",
       "      <td>Household Durables</td>\n",
       "      <td>False</td>\n",
       "      <td>1600.325208</td>\n",
       "      <td>1600.325208</td>\n",
       "      <td>1600.325208</td>\n",
       "      <td>1600.325208</td>\n",
       "      <td>1.458791e+06</td>\n",
       "    </tr>\n",
       "  </tbody>\n",
       "</table>\n",
       "<p>1027 rows × 17 columns</p>\n",
       "</div>\n",
       "    <div class=\"colab-df-buttons\">\n",
       "\n",
       "  <div class=\"colab-df-container\">\n",
       "    <button class=\"colab-df-convert\" onclick=\"convertToInteractive('df-96edfdfa-42db-4581-955a-0e5bc2226475')\"\n",
       "            title=\"Convert this dataframe to an interactive table.\"\n",
       "            style=\"display:none;\">\n",
       "\n",
       "  <svg xmlns=\"http://www.w3.org/2000/svg\" height=\"24px\" viewBox=\"0 -960 960 960\">\n",
       "    <path d=\"M120-120v-720h720v720H120Zm60-500h600v-160H180v160Zm220 220h160v-160H400v160Zm0 220h160v-160H400v160ZM180-400h160v-160H180v160Zm440 0h160v-160H620v160ZM180-180h160v-160H180v160Zm440 0h160v-160H620v160Z\"/>\n",
       "  </svg>\n",
       "    </button>\n",
       "\n",
       "  <style>\n",
       "    .colab-df-container {\n",
       "      display:flex;\n",
       "      gap: 12px;\n",
       "    }\n",
       "\n",
       "    .colab-df-convert {\n",
       "      background-color: #E8F0FE;\n",
       "      border: none;\n",
       "      border-radius: 50%;\n",
       "      cursor: pointer;\n",
       "      display: none;\n",
       "      fill: #1967D2;\n",
       "      height: 32px;\n",
       "      padding: 0 0 0 0;\n",
       "      width: 32px;\n",
       "    }\n",
       "\n",
       "    .colab-df-convert:hover {\n",
       "      background-color: #E2EBFA;\n",
       "      box-shadow: 0px 1px 2px rgba(60, 64, 67, 0.3), 0px 1px 3px 1px rgba(60, 64, 67, 0.15);\n",
       "      fill: #174EA6;\n",
       "    }\n",
       "\n",
       "    .colab-df-buttons div {\n",
       "      margin-bottom: 4px;\n",
       "    }\n",
       "\n",
       "    [theme=dark] .colab-df-convert {\n",
       "      background-color: #3B4455;\n",
       "      fill: #D2E3FC;\n",
       "    }\n",
       "\n",
       "    [theme=dark] .colab-df-convert:hover {\n",
       "      background-color: #434B5C;\n",
       "      box-shadow: 0px 1px 3px 1px rgba(0, 0, 0, 0.15);\n",
       "      filter: drop-shadow(0px 1px 2px rgba(0, 0, 0, 0.3));\n",
       "      fill: #FFFFFF;\n",
       "    }\n",
       "  </style>\n",
       "\n",
       "    <script>\n",
       "      const buttonEl =\n",
       "        document.querySelector('#df-96edfdfa-42db-4581-955a-0e5bc2226475 button.colab-df-convert');\n",
       "      buttonEl.style.display =\n",
       "        google.colab.kernel.accessAllowed ? 'block' : 'none';\n",
       "\n",
       "      async function convertToInteractive(key) {\n",
       "        const element = document.querySelector('#df-96edfdfa-42db-4581-955a-0e5bc2226475');\n",
       "        const dataTable =\n",
       "          await google.colab.kernel.invokeFunction('convertToInteractive',\n",
       "                                                    [key], {});\n",
       "        if (!dataTable) return;\n",
       "\n",
       "        const docLinkHtml = 'Like what you see? Visit the ' +\n",
       "          '<a target=\"_blank\" href=https://colab.research.google.com/notebooks/data_table.ipynb>data table notebook</a>'\n",
       "          + ' to learn more about interactive tables.';\n",
       "        element.innerHTML = '';\n",
       "        dataTable['output_type'] = 'display_data';\n",
       "        await google.colab.output.renderOutput(dataTable, element);\n",
       "        const docLink = document.createElement('div');\n",
       "        docLink.innerHTML = docLinkHtml;\n",
       "        element.appendChild(docLink);\n",
       "      }\n",
       "    </script>\n",
       "  </div>\n",
       "\n",
       "\n",
       "<div id=\"df-6b649c77-e3bd-4b3f-ac36-fa25cd0a4899\">\n",
       "  <button class=\"colab-df-quickchart\" onclick=\"quickchart('df-6b649c77-e3bd-4b3f-ac36-fa25cd0a4899')\"\n",
       "            title=\"Suggest charts\"\n",
       "            style=\"display:none;\">\n",
       "\n",
       "<svg xmlns=\"http://www.w3.org/2000/svg\" height=\"24px\"viewBox=\"0 0 24 24\"\n",
       "     width=\"24px\">\n",
       "    <g>\n",
       "        <path d=\"M19 3H5c-1.1 0-2 .9-2 2v14c0 1.1.9 2 2 2h14c1.1 0 2-.9 2-2V5c0-1.1-.9-2-2-2zM9 17H7v-7h2v7zm4 0h-2V7h2v10zm4 0h-2v-4h2v4z\"/>\n",
       "    </g>\n",
       "</svg>\n",
       "  </button>\n",
       "\n",
       "<style>\n",
       "  .colab-df-quickchart {\n",
       "      --bg-color: #E8F0FE;\n",
       "      --fill-color: #1967D2;\n",
       "      --hover-bg-color: #E2EBFA;\n",
       "      --hover-fill-color: #174EA6;\n",
       "      --disabled-fill-color: #AAA;\n",
       "      --disabled-bg-color: #DDD;\n",
       "  }\n",
       "\n",
       "  [theme=dark] .colab-df-quickchart {\n",
       "      --bg-color: #3B4455;\n",
       "      --fill-color: #D2E3FC;\n",
       "      --hover-bg-color: #434B5C;\n",
       "      --hover-fill-color: #FFFFFF;\n",
       "      --disabled-bg-color: #3B4455;\n",
       "      --disabled-fill-color: #666;\n",
       "  }\n",
       "\n",
       "  .colab-df-quickchart {\n",
       "    background-color: var(--bg-color);\n",
       "    border: none;\n",
       "    border-radius: 50%;\n",
       "    cursor: pointer;\n",
       "    display: none;\n",
       "    fill: var(--fill-color);\n",
       "    height: 32px;\n",
       "    padding: 0;\n",
       "    width: 32px;\n",
       "  }\n",
       "\n",
       "  .colab-df-quickchart:hover {\n",
       "    background-color: var(--hover-bg-color);\n",
       "    box-shadow: 0 1px 2px rgba(60, 64, 67, 0.3), 0 1px 3px 1px rgba(60, 64, 67, 0.15);\n",
       "    fill: var(--button-hover-fill-color);\n",
       "  }\n",
       "\n",
       "  .colab-df-quickchart-complete:disabled,\n",
       "  .colab-df-quickchart-complete:disabled:hover {\n",
       "    background-color: var(--disabled-bg-color);\n",
       "    fill: var(--disabled-fill-color);\n",
       "    box-shadow: none;\n",
       "  }\n",
       "\n",
       "  .colab-df-spinner {\n",
       "    border: 2px solid var(--fill-color);\n",
       "    border-color: transparent;\n",
       "    border-bottom-color: var(--fill-color);\n",
       "    animation:\n",
       "      spin 1s steps(1) infinite;\n",
       "  }\n",
       "\n",
       "  @keyframes spin {\n",
       "    0% {\n",
       "      border-color: transparent;\n",
       "      border-bottom-color: var(--fill-color);\n",
       "      border-left-color: var(--fill-color);\n",
       "    }\n",
       "    20% {\n",
       "      border-color: transparent;\n",
       "      border-left-color: var(--fill-color);\n",
       "      border-top-color: var(--fill-color);\n",
       "    }\n",
       "    30% {\n",
       "      border-color: transparent;\n",
       "      border-left-color: var(--fill-color);\n",
       "      border-top-color: var(--fill-color);\n",
       "      border-right-color: var(--fill-color);\n",
       "    }\n",
       "    40% {\n",
       "      border-color: transparent;\n",
       "      border-right-color: var(--fill-color);\n",
       "      border-top-color: var(--fill-color);\n",
       "    }\n",
       "    60% {\n",
       "      border-color: transparent;\n",
       "      border-right-color: var(--fill-color);\n",
       "    }\n",
       "    80% {\n",
       "      border-color: transparent;\n",
       "      border-right-color: var(--fill-color);\n",
       "      border-bottom-color: var(--fill-color);\n",
       "    }\n",
       "    90% {\n",
       "      border-color: transparent;\n",
       "      border-bottom-color: var(--fill-color);\n",
       "    }\n",
       "  }\n",
       "</style>\n",
       "\n",
       "  <script>\n",
       "    async function quickchart(key) {\n",
       "      const quickchartButtonEl =\n",
       "        document.querySelector('#' + key + ' button');\n",
       "      quickchartButtonEl.disabled = true;  // To prevent multiple clicks.\n",
       "      quickchartButtonEl.classList.add('colab-df-spinner');\n",
       "      try {\n",
       "        const charts = await google.colab.kernel.invokeFunction(\n",
       "            'suggestCharts', [key], {});\n",
       "      } catch (error) {\n",
       "        console.error('Error during call to suggestCharts:', error);\n",
       "      }\n",
       "      quickchartButtonEl.classList.remove('colab-df-spinner');\n",
       "      quickchartButtonEl.classList.add('colab-df-quickchart-complete');\n",
       "    }\n",
       "    (() => {\n",
       "      let quickchartButtonEl =\n",
       "        document.querySelector('#df-6b649c77-e3bd-4b3f-ac36-fa25cd0a4899 button');\n",
       "      quickchartButtonEl.style.display =\n",
       "        google.colab.kernel.accessAllowed ? 'block' : 'none';\n",
       "    })();\n",
       "  </script>\n",
       "</div>\n",
       "    </div>\n",
       "  </div>\n"
      ],
      "text/plain": [
       "         datadate       key  fiscal_quarter  fiscal_year  total_assets  \\\n",
       "576    2006-03-31  349889.0               1         2006       5.22010   \n",
       "577    2006-06-30  349889.0               2         2006       5.22010   \n",
       "578    2006-09-30  349889.0               3         2006       5.22010   \n",
       "579    2006-12-31  349889.0               4         2006       5.22010   \n",
       "580    2007-03-31  349889.0               1         2007       5.34647   \n",
       "...           ...       ...             ...          ...           ...   \n",
       "16308  2015-03-31  268567.0               1         2015    9322.76000   \n",
       "16309  2015-06-30  268567.0               2         2015    8540.12900   \n",
       "16310  2015-09-30  268567.0               3         2015    8470.32400   \n",
       "16311  2015-12-31  268567.0               4         2015    5613.41100   \n",
       "16312  2016-03-31  268567.0               1         2016    5607.25600   \n",
       "\n",
       "       total_liabilities          isin                 company_name  \\\n",
       "576            19.246000  ARHULI010014            HULYTEGO S.A.I.C.   \n",
       "577            19.246000  ARHULI010014            HULYTEGO S.A.I.C.   \n",
       "578            19.246000  ARHULI010014            HULYTEGO S.A.I.C.   \n",
       "579            19.246000  ARHULI010014            HULYTEGO S.A.I.C.   \n",
       "580            18.729918  ARHULI010014            HULYTEGO S.A.I.C.   \n",
       "...                  ...           ...                          ...   \n",
       "16308       44900.472000  MX01UR000007  URBI DESARROLLOS URBANOS SA   \n",
       "16309       43951.996000  MX01UR000007  URBI DESARROLLOS URBANOS SA   \n",
       "16310       44264.144000  MX01UR000007  URBI DESARROLLOS URBANOS SA   \n",
       "16311       42636.795000  MX01UR000007  URBI DESARROLLOS URBANOS SA   \n",
       "16312       42802.594000  MX01UR000007  URBI DESARROLLOS URBANOS SA   \n",
       "\n",
       "       gic_industries iso_country_code       industry_name  is_finance  \\\n",
       "576          151010.0              ARG           Chemicals       False   \n",
       "577          151010.0              ARG           Chemicals       False   \n",
       "578          151010.0              ARG           Chemicals       False   \n",
       "579          151010.0              ARG           Chemicals       False   \n",
       "580          151010.0              ARG           Chemicals       False   \n",
       "...               ...              ...                 ...         ...   \n",
       "16308        252010.0              MEX  Household Durables       False   \n",
       "16309        252010.0              MEX  Household Durables       False   \n",
       "16310        252010.0              MEX  Household Durables       False   \n",
       "16311        252010.0              MEX  Household Durables       False   \n",
       "16312        252010.0              MEX  Household Durables       False   \n",
       "\n",
       "              Open         High          Low        Close        Volume  \n",
       "576       0.097576     0.097576     0.097576     0.097576  1.950000e+05  \n",
       "577       0.097576     0.097576     0.097576     0.097576  1.950000e+05  \n",
       "578       0.097576     0.097576     0.097576     0.097576  1.950000e+05  \n",
       "579       0.097576     0.097576     0.097576     0.097576  1.950000e+05  \n",
       "580       0.096288     0.096288     0.096288     0.096288  1.950000e+05  \n",
       "...            ...          ...          ...          ...           ...  \n",
       "16308  1884.532227  1884.532227  1884.532227  1884.532227  8.790134e+05  \n",
       "16309  1884.532227  1884.532227  1884.532227  1884.532227  1.032365e+06  \n",
       "16310  1884.532227  1884.532227  1884.532227  1884.532227  1.192210e+06  \n",
       "16311  1884.532227  1884.532227  1884.528661  1884.528661  1.337262e+06  \n",
       "16312  1600.325208  1600.325208  1600.325208  1600.325208  1.458791e+06  \n",
       "\n",
       "[1027 rows x 17 columns]"
      ]
     },
     "execution_count": 11,
     "metadata": {},
     "output_type": "execute_result"
    }
   ],
   "source": [
    "df[df['total_assets']/df['total_liabilities'] <= 0.9]"
   ]
  },
  {
   "cell_type": "code",
   "execution_count": 12,
   "id": "XDiABcPfl6KC",
   "metadata": {
    "executionInfo": {
     "elapsed": 107,
     "status": "ok",
     "timestamp": 1708598660565,
     "user": {
      "displayName": "Lisa Chiang",
      "userId": "09169802507274919284"
     },
     "user_tz": 0
    },
    "id": "XDiABcPfl6KC"
   },
   "outputs": [],
   "source": [
    "isin_to_be_dropped = list(df[df['total_assets']/df['total_liabilities'] <= 0.9]['isin'].unique())"
   ]
  },
  {
   "cell_type": "code",
   "execution_count": 13,
   "id": "yN7MbtUKmJeD",
   "metadata": {
    "executionInfo": {
     "elapsed": 106,
     "status": "ok",
     "timestamp": 1708598660565,
     "user": {
      "displayName": "Lisa Chiang",
      "userId": "09169802507274919284"
     },
     "user_tz": 0
    },
    "id": "yN7MbtUKmJeD"
   },
   "outputs": [],
   "source": [
    "df = df[~df['isin'].isin(isin_to_be_dropped)]"
   ]
  },
  {
   "cell_type": "code",
   "execution_count": 14,
   "id": "88Cjp0lrmTec",
   "metadata": {
    "colab": {
     "base_uri": "https://localhost:8080/"
    },
    "executionInfo": {
     "elapsed": 100,
     "status": "ok",
     "timestamp": 1708598660565,
     "user": {
      "displayName": "Lisa Chiang",
      "userId": "09169802507274919284"
     },
     "user_tz": 0
    },
    "id": "88Cjp0lrmTec",
    "outputId": "484dc9d9-561f-46fc-fa22-3299fbf2ed3e"
   },
   "outputs": [
    {
     "name": "stdout",
     "output_type": "stream",
     "text": [
      "Number of companies: 232\n",
      "Number of rows: 16704\n"
     ]
    }
   ],
   "source": [
    "check(df)"
   ]
  },
  {
   "cell_type": "code",
   "execution_count": 15,
   "id": "tlQTaHwOoqWF",
   "metadata": {
    "colab": {
     "base_uri": "https://localhost:8080/"
    },
    "executionInfo": {
     "elapsed": 97,
     "status": "ok",
     "timestamp": 1708598660566,
     "user": {
      "displayName": "Lisa Chiang",
      "userId": "09169802507274919284"
     },
     "user_tz": 0
    },
    "id": "tlQTaHwOoqWF",
    "outputId": "4393413a-5f52-4573-f2fd-93d654be3d3e"
   },
   "outputs": [
    {
     "data": {
      "text/plain": [
       "43"
      ]
     },
     "execution_count": 15,
     "metadata": {},
     "output_type": "execute_result"
    }
   ],
   "source": [
    "get_num_finance(df)"
   ]
  },
  {
   "cell_type": "markdown",
   "id": "L3r1938Vp4yI",
   "metadata": {
    "id": "L3r1938Vp4yI"
   },
   "source": [
    "# 2. Eliminate the companies with correlation equal to -1, 1, or 0"
   ]
  },
  {
   "cell_type": "markdown",
   "id": "KSXbK_BPt3Qv",
   "metadata": {
    "id": "KSXbK_BPt3Qv"
   },
   "source": [
    "## Functions from model"
   ]
  },
  {
   "cell_type": "code",
   "execution_count": 16,
   "id": "8F3w41O8EBp6",
   "metadata": {
    "colab": {
     "base_uri": "https://localhost:8080/"
    },
    "executionInfo": {
     "elapsed": 89,
     "status": "ok",
     "timestamp": 1708598660566,
     "user": {
      "displayName": "Lisa Chiang",
      "userId": "09169802507274919284"
     },
     "user_tz": 0
    },
    "id": "8F3w41O8EBp6",
    "outputId": "f76e04cf-ca41-4e99-fb21-62aa1caf7b7c"
   },
   "outputs": [
    {
     "name": "stderr",
     "output_type": "stream",
     "text": [
      "<ipython-input-16-96de117e03f6>:1: SettingWithCopyWarning: \n",
      "A value is trying to be set on a copy of a slice from a DataFrame\n",
      "\n",
      "See the caveats in the documentation: https://pandas.pydata.org/pandas-docs/stable/user_guide/indexing.html#returning-a-view-versus-a-copy\n",
      "  df['total_assets'].replace(0,0.01,inplace = True)\n"
     ]
    }
   ],
   "source": [
    "df['total_assets'].replace(0,0.01,inplace = True)"
   ]
  },
  {
   "cell_type": "code",
   "execution_count": 17,
   "id": "pku0YQ-wcKj6",
   "metadata": {
    "colab": {
     "base_uri": "https://localhost:8080/"
    },
    "executionInfo": {
     "elapsed": 86,
     "status": "ok",
     "timestamp": 1708598660567,
     "user": {
      "displayName": "Lisa Chiang",
      "userId": "09169802507274919284"
     },
     "user_tz": 0
    },
    "id": "pku0YQ-wcKj6",
    "outputId": "2ffe23b2-6094-45df-be2c-459f1b97d697"
   },
   "outputs": [
    {
     "data": {
      "text/plain": [
       "73"
      ]
     },
     "execution_count": 17,
     "metadata": {},
     "output_type": "execute_result"
    }
   ],
   "source": [
    "(df[df['company_name'] == df['company_name'].unique()[0]].shape[0])+1"
   ]
  },
  {
   "cell_type": "code",
   "execution_count": 18,
   "id": "xHnEof_AcmJq",
   "metadata": {
    "colab": {
     "base_uri": "https://localhost:8080/"
    },
    "executionInfo": {
     "elapsed": 75,
     "status": "ok",
     "timestamp": 1708598660567,
     "user": {
      "displayName": "Lisa Chiang",
      "userId": "09169802507274919284"
     },
     "user_tz": 0
    },
    "id": "xHnEof_AcmJq",
    "outputId": "63eed061-4217-49d5-9d07-ad758322df97"
   },
   "outputs": [
    {
     "data": {
      "text/plain": [
       "232"
      ]
     },
     "execution_count": 18,
     "metadata": {},
     "output_type": "execute_result"
    }
   ],
   "source": [
    "len(df['company_name'].unique())"
   ]
  },
  {
   "cell_type": "markdown",
   "id": "z4x8i4VCmEpd",
   "metadata": {
    "id": "z4x8i4VCmEpd"
   },
   "source": [
    "### Change fiscal_quarter"
   ]
  },
  {
   "cell_type": "code",
   "execution_count": 19,
   "id": "LZUN1m9Lmg6b",
   "metadata": {
    "executionInfo": {
     "elapsed": 72,
     "status": "ok",
     "timestamp": 1708598660567,
     "user": {
      "displayName": "Lisa Chiang",
      "userId": "09169802507274919284"
     },
     "user_tz": 0
    },
    "id": "LZUN1m9Lmg6b"
   },
   "outputs": [],
   "source": [
    "series_list = []\n",
    "for i in range(1,(df[df['company_name'] == df['company_name'].unique()[0]].shape[0])+1):\n",
    "  series_list.append(i)"
   ]
  },
  {
   "cell_type": "code",
   "execution_count": 20,
   "id": "r0QxHARVmD8I",
   "metadata": {
    "colab": {
     "base_uri": "https://localhost:8080/"
    },
    "executionInfo": {
     "elapsed": 67,
     "status": "ok",
     "timestamp": 1708598660568,
     "user": {
      "displayName": "Lisa Chiang",
      "userId": "09169802507274919284"
     },
     "user_tz": 0
    },
    "id": "r0QxHARVmD8I",
    "outputId": "cc50ab0a-5dfc-415b-a7c5-a3ed331bf772"
   },
   "outputs": [
    {
     "name": "stderr",
     "output_type": "stream",
     "text": [
      "<ipython-input-20-c0b840474913>:2: SettingWithCopyWarning: \n",
      "A value is trying to be set on a copy of a slice from a DataFrame.\n",
      "Try using .loc[row_indexer,col_indexer] = value instead\n",
      "\n",
      "See the caveats in the documentation: https://pandas.pydata.org/pandas-docs/stable/user_guide/indexing.html#returning-a-view-versus-a-copy\n",
      "  df['fiscal_quarter'] = temp['fiscal_quarter']\n"
     ]
    }
   ],
   "source": [
    "temp = pd.DataFrame({'fiscal_quarter': series_list * (len(df['company_name'].unique()))})\n",
    "df['fiscal_quarter'] = temp['fiscal_quarter']"
   ]
  },
  {
   "cell_type": "code",
   "execution_count": 21,
   "id": "G5JjBz2jadR3",
   "metadata": {
    "colab": {
     "base_uri": "https://localhost:8080/"
    },
    "executionInfo": {
     "elapsed": 63,
     "status": "ok",
     "timestamp": 1708598660568,
     "user": {
      "displayName": "Lisa Chiang",
      "userId": "09169802507274919284"
     },
     "user_tz": 0
    },
    "id": "G5JjBz2jadR3",
    "outputId": "423cd2d9-eb8b-408e-cd7d-72130671b093"
   },
   "outputs": [
    {
     "data": {
      "text/plain": [
       "232"
      ]
     },
     "execution_count": 21,
     "metadata": {},
     "output_type": "execute_result"
    }
   ],
   "source": [
    "len(df['company_name'].unique())"
   ]
  },
  {
   "cell_type": "code",
   "execution_count": 22,
   "id": "MTGpfCu8A0kC",
   "metadata": {
    "colab": {
     "base_uri": "https://localhost:8080/"
    },
    "executionInfo": {
     "elapsed": 53,
     "status": "ok",
     "timestamp": 1708598660569,
     "user": {
      "displayName": "Lisa Chiang",
      "userId": "09169802507274919284"
     },
     "user_tz": 0
    },
    "id": "MTGpfCu8A0kC",
    "outputId": "daa0fd47-1e16-4f37-f4ab-fcfd7ca7ef2a"
   },
   "outputs": [
    {
     "data": {
      "text/plain": [
       "(16704,)"
      ]
     },
     "execution_count": 22,
     "metadata": {},
     "output_type": "execute_result"
    }
   ],
   "source": [
    "temp['fiscal_quarter'].shape"
   ]
  },
  {
   "cell_type": "code",
   "execution_count": 23,
   "id": "ZUNNZAo-DVGI",
   "metadata": {
    "colab": {
     "base_uri": "https://localhost:8080/"
    },
    "executionInfo": {
     "elapsed": 49,
     "status": "ok",
     "timestamp": 1708598660569,
     "user": {
      "displayName": "Lisa Chiang",
      "userId": "09169802507274919284"
     },
     "user_tz": 0
    },
    "id": "ZUNNZAo-DVGI",
    "outputId": "396be3d3-4236-4409-df39-18738091da67"
   },
   "outputs": [
    {
     "name": "stderr",
     "output_type": "stream",
     "text": [
      "<ipython-input-23-897ae6d0254b>:1: SettingWithCopyWarning: \n",
      "A value is trying to be set on a copy of a slice from a DataFrame.\n",
      "Try using .loc[row_indexer,col_indexer] = value instead\n",
      "\n",
      "See the caveats in the documentation: https://pandas.pydata.org/pandas-docs/stable/user_guide/indexing.html#returning-a-view-versus-a-copy\n",
      "  df[\"datadate\"] = pd.to_datetime(df[\"datadate\"])\n"
     ]
    }
   ],
   "source": [
    "df[\"datadate\"] = pd.to_datetime(df[\"datadate\"])"
   ]
  },
  {
   "cell_type": "code",
   "execution_count": 24,
   "id": "Zzq3JF0LF8f0",
   "metadata": {
    "colab": {
     "base_uri": "https://localhost:8080/",
     "height": 313
    },
    "executionInfo": {
     "elapsed": 42,
     "status": "ok",
     "timestamp": 1708598660569,
     "user": {
      "displayName": "Lisa Chiang",
      "userId": "09169802507274919284"
     },
     "user_tz": 0
    },
    "id": "Zzq3JF0LF8f0",
    "outputId": "b88907ac-32f8-41ec-c5eb-a3535ad13925"
   },
   "outputs": [
    {
     "data": {
      "application/vnd.google.colaboratory.intrinsic+json": {
       "summary": "{\n  \"name\": \"df\",\n  \"rows\": 16704,\n  \"fields\": [\n    {\n      \"column\": \"datadate\",\n      \"properties\": {\n        \"dtype\": \"date\",\n        \"min\": \"2006-03-31 00:00:00\",\n        \"max\": \"2023-12-31 00:00:00\",\n        \"num_unique_values\": 72,\n        \"samples\": [\n          \"2007-03-31 00:00:00\",\n          \"2021-09-30 00:00:00\",\n          \"2010-09-30 00:00:00\"\n        ],\n        \"semantic_type\": \"\",\n        \"description\": \"\"\n      }\n    },\n    {\n      \"column\": \"key\",\n      \"properties\": {\n        \"dtype\": \"number\",\n        \"std\": 71353.71879790358,\n        \"min\": 23483.0,\n        \"max\": 324542.0,\n        \"num_unique_values\": 232,\n        \"samples\": [\n          28541.0,\n          202696.0,\n          29286.0\n        ],\n        \"semantic_type\": \"\",\n        \"description\": \"\"\n      }\n    },\n    {\n      \"column\": \"fiscal_quarter\",\n      \"properties\": {\n        \"dtype\": \"number\",\n        \"std\": 20.783337551781703,\n        \"min\": 1.0,\n        \"max\": 72.0,\n        \"num_unique_values\": 72,\n        \"samples\": [\n          5.0,\n          63.0,\n          19.0\n        ],\n        \"semantic_type\": \"\",\n        \"description\": \"\"\n      }\n    },\n    {\n      \"column\": \"fiscal_year\",\n      \"properties\": {\n        \"dtype\": \"number\",\n        \"std\": 5,\n        \"min\": 2006,\n        \"max\": 2023,\n        \"num_unique_values\": 18,\n        \"samples\": [\n          2006,\n          2007,\n          2014\n        ],\n        \"semantic_type\": \"\",\n        \"description\": \"\"\n      }\n    },\n    {\n      \"column\": \"total_assets\",\n      \"properties\": {\n        \"dtype\": \"number\",\n        \"std\": 17923836.756240293,\n        \"min\": 0.14,\n        \"max\": 693498779.472,\n        \"num_unique_values\": 15975,\n        \"samples\": [\n          46589.0,\n          8745.7951,\n          67726.462\n        ],\n        \"semantic_type\": \"\",\n        \"description\": \"\"\n      }\n    },\n    {\n      \"column\": \"total_liabilities\",\n      \"properties\": {\n        \"dtype\": \"number\",\n        \"std\": 15286877.459415436,\n        \"min\": 0.015,\n        \"max\": 533804188.0808,\n        \"num_unique_values\": 15940,\n        \"samples\": [\n          1515.244,\n          832999.898,\n          13885.552\n        ],\n        \"semantic_type\": \"\",\n        \"description\": \"\"\n      }\n    },\n    {\n      \"column\": \"isin\",\n      \"properties\": {\n        \"dtype\": \"category\",\n        \"num_unique_values\": 232,\n        \"samples\": [\n          \"MXP680051218\",\n          \"BRMYPKACNOR7\",\n          \"ARP125991090\"\n        ],\n        \"semantic_type\": \"\",\n        \"description\": \"\"\n      }\n    },\n    {\n      \"column\": \"company_name\",\n      \"properties\": {\n        \"dtype\": \"category\",\n        \"num_unique_values\": 232,\n        \"samples\": [\n          \"GRUPO RADIO CENTRO SA DE CV\",\n          \"IOCHPE MAXION SA\",\n          \"BANCO BBVA ARGENTINA SA\"\n        ],\n        \"semantic_type\": \"\",\n        \"description\": \"\"\n      }\n    },\n    {\n      \"column\": \"gic_industries\",\n      \"properties\": {\n        \"dtype\": \"number\",\n        \"std\": 132785.83008899208,\n        \"min\": 101020.0,\n        \"max\": 602010.0,\n        \"num_unique_values\": 48,\n        \"samples\": [\n          602010.0,\n          253010.0,\n          151020.0\n        ],\n        \"semantic_type\": \"\",\n        \"description\": \"\"\n      }\n    },\n    {\n      \"column\": \"iso_country_code\",\n      \"properties\": {\n        \"dtype\": \"category\",\n        \"num_unique_values\": 13,\n        \"samples\": [\n          \"VEN\",\n          \"PAN\",\n          \"ARG\"\n        ],\n        \"semantic_type\": \"\",\n        \"description\": \"\"\n      }\n    },\n    {\n      \"column\": \"industry_name\",\n      \"properties\": {\n        \"dtype\": \"category\",\n        \"num_unique_values\": 48,\n        \"samples\": [\n          \"Real Estate Management & Development\",\n          \"Hotels, Restaurants & Leisure\",\n          \"Construction Materials\"\n        ],\n        \"semantic_type\": \"\",\n        \"description\": \"\"\n      }\n    },\n    {\n      \"column\": \"is_finance\",\n      \"properties\": {\n        \"dtype\": \"boolean\",\n        \"num_unique_values\": 2,\n        \"samples\": [\n          true,\n          false\n        ],\n        \"semantic_type\": \"\",\n        \"description\": \"\"\n      }\n    },\n    {\n      \"column\": \"Open\",\n      \"properties\": {\n        \"dtype\": \"number\",\n        \"std\": 55052.74979558667,\n        \"min\": 9.999999974752427e-07,\n        \"max\": 3115895.356947568,\n        \"num_unique_values\": 14939,\n        \"samples\": [\n          5.216564944203831,\n          1.0470013438921295\n        ],\n        \"semantic_type\": \"\",\n        \"description\": \"\"\n      }\n    },\n    {\n      \"column\": \"High\",\n      \"properties\": {\n        \"dtype\": \"number\",\n        \"std\": 55056.02671880086,\n        \"min\": 9.999999974752427e-07,\n        \"max\": 3115895.356947568,\n        \"num_unique_values\": 14824,\n        \"samples\": [\n          0.2239096555514888,\n          3.269553409887684\n        ],\n        \"semantic_type\": \"\",\n        \"description\": \"\"\n      }\n    },\n    {\n      \"column\": \"Low\",\n      \"properties\": {\n        \"dtype\": \"number\",\n        \"std\": 49493.91109636972,\n        \"min\": 9.999999974752427e-07,\n        \"max\": 3115895.356947568,\n        \"num_unique_values\": 14814,\n        \"samples\": [\n          1.7279954657478316,\n          2.6818989561949658\n        ],\n        \"semantic_type\": \"\",\n        \"description\": \"\"\n      }\n    },\n    {\n      \"column\": \"Close\",\n      \"properties\": {\n        \"dtype\": \"number\",\n        \"std\": 49498.44452496859,\n        \"min\": 9.999999974752427e-07,\n        \"max\": 3115895.356947568,\n        \"num_unique_values\": 14950,\n        \"samples\": [\n          0.1972431473311237,\n          3.063059823024028\n        ],\n        \"semantic_type\": \"\",\n        \"description\": \"\"\n      }\n    },\n    {\n      \"column\": \"Volume\",\n      \"properties\": {\n        \"dtype\": \"number\",\n        \"std\": 861728621.7053956,\n        \"min\": 64.0,\n        \"max\": 22002006282.0,\n        \"num_unique_values\": 16218,\n        \"samples\": [\n          41307.75136778116,\n          132821483.5\n        ],\n        \"semantic_type\": \"\",\n        \"description\": \"\"\n      }\n    }\n  ]\n}",
       "type": "dataframe",
       "variable_name": "df"
      },
      "text/html": [
       "\n",
       "  <div id=\"df-76b50420-8830-4125-93aa-fbbd237d7c99\" class=\"colab-df-container\">\n",
       "    <div>\n",
       "<style scoped>\n",
       "    .dataframe tbody tr th:only-of-type {\n",
       "        vertical-align: middle;\n",
       "    }\n",
       "\n",
       "    .dataframe tbody tr th {\n",
       "        vertical-align: top;\n",
       "    }\n",
       "\n",
       "    .dataframe thead th {\n",
       "        text-align: right;\n",
       "    }\n",
       "</style>\n",
       "<table border=\"1\" class=\"dataframe\">\n",
       "  <thead>\n",
       "    <tr style=\"text-align: right;\">\n",
       "      <th></th>\n",
       "      <th>datadate</th>\n",
       "      <th>key</th>\n",
       "      <th>fiscal_quarter</th>\n",
       "      <th>fiscal_year</th>\n",
       "      <th>total_assets</th>\n",
       "      <th>total_liabilities</th>\n",
       "      <th>isin</th>\n",
       "      <th>company_name</th>\n",
       "      <th>gic_industries</th>\n",
       "      <th>iso_country_code</th>\n",
       "      <th>industry_name</th>\n",
       "      <th>is_finance</th>\n",
       "      <th>Open</th>\n",
       "      <th>High</th>\n",
       "      <th>Low</th>\n",
       "      <th>Close</th>\n",
       "      <th>Volume</th>\n",
       "    </tr>\n",
       "  </thead>\n",
       "  <tbody>\n",
       "    <tr>\n",
       "      <th>0</th>\n",
       "      <td>2006-03-31</td>\n",
       "      <td>212935.0</td>\n",
       "      <td>1.0</td>\n",
       "      <td>2006</td>\n",
       "      <td>74.4419</td>\n",
       "      <td>27.4910</td>\n",
       "      <td>ARAGRO010015</td>\n",
       "      <td>AGROMETAL SA</td>\n",
       "      <td>201060.0</td>\n",
       "      <td>ARG</td>\n",
       "      <td>Machinery</td>\n",
       "      <td>False</td>\n",
       "      <td>0.185858</td>\n",
       "      <td>0.202586</td>\n",
       "      <td>0.170246</td>\n",
       "      <td>0.185858</td>\n",
       "      <td>8522223.00</td>\n",
       "    </tr>\n",
       "    <tr>\n",
       "      <th>1</th>\n",
       "      <td>2006-06-30</td>\n",
       "      <td>212935.0</td>\n",
       "      <td>2.0</td>\n",
       "      <td>2006</td>\n",
       "      <td>77.1485</td>\n",
       "      <td>32.3303</td>\n",
       "      <td>ARAGRO010015</td>\n",
       "      <td>AGROMETAL SA</td>\n",
       "      <td>201060.0</td>\n",
       "      <td>ARG</td>\n",
       "      <td>Machinery</td>\n",
       "      <td>False</td>\n",
       "      <td>0.185858</td>\n",
       "      <td>0.187717</td>\n",
       "      <td>0.131959</td>\n",
       "      <td>0.141996</td>\n",
       "      <td>8754235.25</td>\n",
       "    </tr>\n",
       "    <tr>\n",
       "      <th>2</th>\n",
       "      <td>2006-09-30</td>\n",
       "      <td>212935.0</td>\n",
       "      <td>3.0</td>\n",
       "      <td>2006</td>\n",
       "      <td>89.3972</td>\n",
       "      <td>36.4684</td>\n",
       "      <td>ARAGRO010015</td>\n",
       "      <td>AGROMETAL SA</td>\n",
       "      <td>201060.0</td>\n",
       "      <td>ARG</td>\n",
       "      <td>Machinery</td>\n",
       "      <td>False</td>\n",
       "      <td>0.142368</td>\n",
       "      <td>0.148687</td>\n",
       "      <td>0.133818</td>\n",
       "      <td>0.146456</td>\n",
       "      <td>6738297.00</td>\n",
       "    </tr>\n",
       "    <tr>\n",
       "      <th>3</th>\n",
       "      <td>2006-12-31</td>\n",
       "      <td>212935.0</td>\n",
       "      <td>4.0</td>\n",
       "      <td>2006</td>\n",
       "      <td>77.2313</td>\n",
       "      <td>23.2864</td>\n",
       "      <td>ARAGRO010015</td>\n",
       "      <td>AGROMETAL SA</td>\n",
       "      <td>201060.0</td>\n",
       "      <td>ARG</td>\n",
       "      <td>Machinery</td>\n",
       "      <td>False</td>\n",
       "      <td>0.147943</td>\n",
       "      <td>0.174707</td>\n",
       "      <td>0.144970</td>\n",
       "      <td>0.162440</td>\n",
       "      <td>8879853.35</td>\n",
       "    </tr>\n",
       "    <tr>\n",
       "      <th>4</th>\n",
       "      <td>2007-03-31</td>\n",
       "      <td>212935.0</td>\n",
       "      <td>5.0</td>\n",
       "      <td>2007</td>\n",
       "      <td>83.2715</td>\n",
       "      <td>29.5663</td>\n",
       "      <td>ARAGRO010015</td>\n",
       "      <td>AGROMETAL SA</td>\n",
       "      <td>201060.0</td>\n",
       "      <td>ARG</td>\n",
       "      <td>Machinery</td>\n",
       "      <td>False</td>\n",
       "      <td>0.160571</td>\n",
       "      <td>0.179738</td>\n",
       "      <td>0.152226</td>\n",
       "      <td>0.158462</td>\n",
       "      <td>8679271.40</td>\n",
       "    </tr>\n",
       "  </tbody>\n",
       "</table>\n",
       "</div>\n",
       "    <div class=\"colab-df-buttons\">\n",
       "\n",
       "  <div class=\"colab-df-container\">\n",
       "    <button class=\"colab-df-convert\" onclick=\"convertToInteractive('df-76b50420-8830-4125-93aa-fbbd237d7c99')\"\n",
       "            title=\"Convert this dataframe to an interactive table.\"\n",
       "            style=\"display:none;\">\n",
       "\n",
       "  <svg xmlns=\"http://www.w3.org/2000/svg\" height=\"24px\" viewBox=\"0 -960 960 960\">\n",
       "    <path d=\"M120-120v-720h720v720H120Zm60-500h600v-160H180v160Zm220 220h160v-160H400v160Zm0 220h160v-160H400v160ZM180-400h160v-160H180v160Zm440 0h160v-160H620v160ZM180-180h160v-160H180v160Zm440 0h160v-160H620v160Z\"/>\n",
       "  </svg>\n",
       "    </button>\n",
       "\n",
       "  <style>\n",
       "    .colab-df-container {\n",
       "      display:flex;\n",
       "      gap: 12px;\n",
       "    }\n",
       "\n",
       "    .colab-df-convert {\n",
       "      background-color: #E8F0FE;\n",
       "      border: none;\n",
       "      border-radius: 50%;\n",
       "      cursor: pointer;\n",
       "      display: none;\n",
       "      fill: #1967D2;\n",
       "      height: 32px;\n",
       "      padding: 0 0 0 0;\n",
       "      width: 32px;\n",
       "    }\n",
       "\n",
       "    .colab-df-convert:hover {\n",
       "      background-color: #E2EBFA;\n",
       "      box-shadow: 0px 1px 2px rgba(60, 64, 67, 0.3), 0px 1px 3px 1px rgba(60, 64, 67, 0.15);\n",
       "      fill: #174EA6;\n",
       "    }\n",
       "\n",
       "    .colab-df-buttons div {\n",
       "      margin-bottom: 4px;\n",
       "    }\n",
       "\n",
       "    [theme=dark] .colab-df-convert {\n",
       "      background-color: #3B4455;\n",
       "      fill: #D2E3FC;\n",
       "    }\n",
       "\n",
       "    [theme=dark] .colab-df-convert:hover {\n",
       "      background-color: #434B5C;\n",
       "      box-shadow: 0px 1px 3px 1px rgba(0, 0, 0, 0.15);\n",
       "      filter: drop-shadow(0px 1px 2px rgba(0, 0, 0, 0.3));\n",
       "      fill: #FFFFFF;\n",
       "    }\n",
       "  </style>\n",
       "\n",
       "    <script>\n",
       "      const buttonEl =\n",
       "        document.querySelector('#df-76b50420-8830-4125-93aa-fbbd237d7c99 button.colab-df-convert');\n",
       "      buttonEl.style.display =\n",
       "        google.colab.kernel.accessAllowed ? 'block' : 'none';\n",
       "\n",
       "      async function convertToInteractive(key) {\n",
       "        const element = document.querySelector('#df-76b50420-8830-4125-93aa-fbbd237d7c99');\n",
       "        const dataTable =\n",
       "          await google.colab.kernel.invokeFunction('convertToInteractive',\n",
       "                                                    [key], {});\n",
       "        if (!dataTable) return;\n",
       "\n",
       "        const docLinkHtml = 'Like what you see? Visit the ' +\n",
       "          '<a target=\"_blank\" href=https://colab.research.google.com/notebooks/data_table.ipynb>data table notebook</a>'\n",
       "          + ' to learn more about interactive tables.';\n",
       "        element.innerHTML = '';\n",
       "        dataTable['output_type'] = 'display_data';\n",
       "        await google.colab.output.renderOutput(dataTable, element);\n",
       "        const docLink = document.createElement('div');\n",
       "        docLink.innerHTML = docLinkHtml;\n",
       "        element.appendChild(docLink);\n",
       "      }\n",
       "    </script>\n",
       "  </div>\n",
       "\n",
       "\n",
       "<div id=\"df-38d8d20e-7f78-4d58-80c6-acd011e5cd6a\">\n",
       "  <button class=\"colab-df-quickchart\" onclick=\"quickchart('df-38d8d20e-7f78-4d58-80c6-acd011e5cd6a')\"\n",
       "            title=\"Suggest charts\"\n",
       "            style=\"display:none;\">\n",
       "\n",
       "<svg xmlns=\"http://www.w3.org/2000/svg\" height=\"24px\"viewBox=\"0 0 24 24\"\n",
       "     width=\"24px\">\n",
       "    <g>\n",
       "        <path d=\"M19 3H5c-1.1 0-2 .9-2 2v14c0 1.1.9 2 2 2h14c1.1 0 2-.9 2-2V5c0-1.1-.9-2-2-2zM9 17H7v-7h2v7zm4 0h-2V7h2v10zm4 0h-2v-4h2v4z\"/>\n",
       "    </g>\n",
       "</svg>\n",
       "  </button>\n",
       "\n",
       "<style>\n",
       "  .colab-df-quickchart {\n",
       "      --bg-color: #E8F0FE;\n",
       "      --fill-color: #1967D2;\n",
       "      --hover-bg-color: #E2EBFA;\n",
       "      --hover-fill-color: #174EA6;\n",
       "      --disabled-fill-color: #AAA;\n",
       "      --disabled-bg-color: #DDD;\n",
       "  }\n",
       "\n",
       "  [theme=dark] .colab-df-quickchart {\n",
       "      --bg-color: #3B4455;\n",
       "      --fill-color: #D2E3FC;\n",
       "      --hover-bg-color: #434B5C;\n",
       "      --hover-fill-color: #FFFFFF;\n",
       "      --disabled-bg-color: #3B4455;\n",
       "      --disabled-fill-color: #666;\n",
       "  }\n",
       "\n",
       "  .colab-df-quickchart {\n",
       "    background-color: var(--bg-color);\n",
       "    border: none;\n",
       "    border-radius: 50%;\n",
       "    cursor: pointer;\n",
       "    display: none;\n",
       "    fill: var(--fill-color);\n",
       "    height: 32px;\n",
       "    padding: 0;\n",
       "    width: 32px;\n",
       "  }\n",
       "\n",
       "  .colab-df-quickchart:hover {\n",
       "    background-color: var(--hover-bg-color);\n",
       "    box-shadow: 0 1px 2px rgba(60, 64, 67, 0.3), 0 1px 3px 1px rgba(60, 64, 67, 0.15);\n",
       "    fill: var(--button-hover-fill-color);\n",
       "  }\n",
       "\n",
       "  .colab-df-quickchart-complete:disabled,\n",
       "  .colab-df-quickchart-complete:disabled:hover {\n",
       "    background-color: var(--disabled-bg-color);\n",
       "    fill: var(--disabled-fill-color);\n",
       "    box-shadow: none;\n",
       "  }\n",
       "\n",
       "  .colab-df-spinner {\n",
       "    border: 2px solid var(--fill-color);\n",
       "    border-color: transparent;\n",
       "    border-bottom-color: var(--fill-color);\n",
       "    animation:\n",
       "      spin 1s steps(1) infinite;\n",
       "  }\n",
       "\n",
       "  @keyframes spin {\n",
       "    0% {\n",
       "      border-color: transparent;\n",
       "      border-bottom-color: var(--fill-color);\n",
       "      border-left-color: var(--fill-color);\n",
       "    }\n",
       "    20% {\n",
       "      border-color: transparent;\n",
       "      border-left-color: var(--fill-color);\n",
       "      border-top-color: var(--fill-color);\n",
       "    }\n",
       "    30% {\n",
       "      border-color: transparent;\n",
       "      border-left-color: var(--fill-color);\n",
       "      border-top-color: var(--fill-color);\n",
       "      border-right-color: var(--fill-color);\n",
       "    }\n",
       "    40% {\n",
       "      border-color: transparent;\n",
       "      border-right-color: var(--fill-color);\n",
       "      border-top-color: var(--fill-color);\n",
       "    }\n",
       "    60% {\n",
       "      border-color: transparent;\n",
       "      border-right-color: var(--fill-color);\n",
       "    }\n",
       "    80% {\n",
       "      border-color: transparent;\n",
       "      border-right-color: var(--fill-color);\n",
       "      border-bottom-color: var(--fill-color);\n",
       "    }\n",
       "    90% {\n",
       "      border-color: transparent;\n",
       "      border-bottom-color: var(--fill-color);\n",
       "    }\n",
       "  }\n",
       "</style>\n",
       "\n",
       "  <script>\n",
       "    async function quickchart(key) {\n",
       "      const quickchartButtonEl =\n",
       "        document.querySelector('#' + key + ' button');\n",
       "      quickchartButtonEl.disabled = true;  // To prevent multiple clicks.\n",
       "      quickchartButtonEl.classList.add('colab-df-spinner');\n",
       "      try {\n",
       "        const charts = await google.colab.kernel.invokeFunction(\n",
       "            'suggestCharts', [key], {});\n",
       "      } catch (error) {\n",
       "        console.error('Error during call to suggestCharts:', error);\n",
       "      }\n",
       "      quickchartButtonEl.classList.remove('colab-df-spinner');\n",
       "      quickchartButtonEl.classList.add('colab-df-quickchart-complete');\n",
       "    }\n",
       "    (() => {\n",
       "      let quickchartButtonEl =\n",
       "        document.querySelector('#df-38d8d20e-7f78-4d58-80c6-acd011e5cd6a button');\n",
       "      quickchartButtonEl.style.display =\n",
       "        google.colab.kernel.accessAllowed ? 'block' : 'none';\n",
       "    })();\n",
       "  </script>\n",
       "</div>\n",
       "    </div>\n",
       "  </div>\n"
      ],
      "text/plain": [
       "    datadate       key  fiscal_quarter  fiscal_year  total_assets  \\\n",
       "0 2006-03-31  212935.0             1.0         2006       74.4419   \n",
       "1 2006-06-30  212935.0             2.0         2006       77.1485   \n",
       "2 2006-09-30  212935.0             3.0         2006       89.3972   \n",
       "3 2006-12-31  212935.0             4.0         2006       77.2313   \n",
       "4 2007-03-31  212935.0             5.0         2007       83.2715   \n",
       "\n",
       "   total_liabilities          isin  company_name  gic_industries  \\\n",
       "0            27.4910  ARAGRO010015  AGROMETAL SA        201060.0   \n",
       "1            32.3303  ARAGRO010015  AGROMETAL SA        201060.0   \n",
       "2            36.4684  ARAGRO010015  AGROMETAL SA        201060.0   \n",
       "3            23.2864  ARAGRO010015  AGROMETAL SA        201060.0   \n",
       "4            29.5663  ARAGRO010015  AGROMETAL SA        201060.0   \n",
       "\n",
       "  iso_country_code industry_name  is_finance      Open      High       Low  \\\n",
       "0              ARG     Machinery       False  0.185858  0.202586  0.170246   \n",
       "1              ARG     Machinery       False  0.185858  0.187717  0.131959   \n",
       "2              ARG     Machinery       False  0.142368  0.148687  0.133818   \n",
       "3              ARG     Machinery       False  0.147943  0.174707  0.144970   \n",
       "4              ARG     Machinery       False  0.160571  0.179738  0.152226   \n",
       "\n",
       "      Close      Volume  \n",
       "0  0.185858  8522223.00  \n",
       "1  0.141996  8754235.25  \n",
       "2  0.146456  6738297.00  \n",
       "3  0.162440  8879853.35  \n",
       "4  0.158462  8679271.40  "
      ]
     },
     "execution_count": 24,
     "metadata": {},
     "output_type": "execute_result"
    }
   ],
   "source": [
    "df.head(5)"
   ]
  },
  {
   "cell_type": "code",
   "execution_count": 25,
   "id": "7dRVKXDgUYwE",
   "metadata": {
    "colab": {
     "base_uri": "https://localhost:8080/"
    },
    "executionInfo": {
     "elapsed": 40,
     "status": "ok",
     "timestamp": 1708598660570,
     "user": {
      "displayName": "Lisa Chiang",
      "userId": "09169802507274919284"
     },
     "user_tz": 0
    },
    "id": "7dRVKXDgUYwE",
    "outputId": "23629e70-51e6-4baf-d8a2-a54f79456b6c"
   },
   "outputs": [
    {
     "name": "stdout",
     "output_type": "stream",
     "text": [
      "<class 'pandas._libs.tslibs.timestamps.Timestamp'>\n"
     ]
    }
   ],
   "source": [
    "temp = df['datadate']\n",
    "print(type(temp.iloc[0]))"
   ]
  },
  {
   "cell_type": "code",
   "execution_count": 26,
   "id": "AzeUl9S9ldbV",
   "metadata": {
    "executionInfo": {
     "elapsed": 36,
     "status": "ok",
     "timestamp": 1708598660570,
     "user": {
      "displayName": "Lisa Chiang",
      "userId": "09169802507274919284"
     },
     "user_tz": 0
    },
    "id": "AzeUl9S9ldbV"
   },
   "outputs": [],
   "source": [
    "### These are function producing the estimated parameters used in the Zhou(2001) model\n",
    "def get_companies():\n",
    "  return df['company_name'].unique()\n",
    "\n",
    "def get_industries():\n",
    "  return df['industry_name'].unique()\n",
    "\n",
    "def get_date():\n",
    "  return df['datadate'].unique()\n",
    "\n",
    "def get_num_quarter():\n",
    "  return len(df['fiscal_quarter'].value_counts())\n",
    "\n",
    "def get_companies_from_industry(industry):\n",
    "  return df[df['industry_name'] == industry]['company_name'].unique()\n",
    "\n",
    "def get_companies_from_country(country):\n",
    "  return df[df['iso_country_code'] == country]['company_name'].unique()\n",
    "\n",
    "def get_Vi0(start,company1,company2):\n",
    "  '''\n",
    "  This function takes the a start date and two company names to return the starting value of assets\n",
    "  Output: [v_company1_0,v_company_2_0]\n",
    "  '''\n",
    "  v_10 = df[(df['company_name'] == company1)&(df['datadate'] == start)]['total_assets'].item()\n",
    "  v_20 = df[(df['company_name'] == company2)&(df['datadate'] == start)]['total_assets'].item()\n",
    "  return v_10,v_20\n",
    "\n",
    "def get_Ki(start,company1,company2):\n",
    "  '''\n",
    "  This function takes the a start date and two company names to return the starting value of Ki := short-term liability + 50% long-term liability\n",
    "                                                                                                 = total liability -50% long-term liability\n",
    "  Output: k_company1,k_company_2\n",
    "  '''\n",
    "  total_liability_1 = df.loc[(df['company_name'] == company1)&(df['datadate'] == start),['total_liabilities']].iloc[0,0]\n",
    "  total_liability_2 = df.loc[(df['company_name'] == company2)&(df['datadate'] == start),['total_liabilities']].iloc[0,0]\n",
    "  # long_term_liability_1 = df.loc[(df['company_name'] == company1)&(df['datadate'] == start),['long_term_liabilities']].iloc[0,0]\n",
    "  # long_term_liability_2 = df.loc[(df['company_name'] == company2)&(df['datadate'] == start),['long_term_liabilities']].iloc[0,0]\n",
    "  return  0.75*total_liability_1,0.75*total_liability_2\n",
    "\n",
    "def get_t(start,end):\n",
    "  '''\n",
    "  This function takes the start date and end date of a time horizon and return t\n",
    "  in Zhou(2001) formula\n",
    "  Output: t(in years)\n",
    "  '''\n",
    "  start_idx = np.where(df['datadate'] == start)[0][0]\n",
    "  end_idx = np.where(df['datadate'] == end)[0][0]\n",
    "  return (end_idx - start_idx)/4\n",
    "\n",
    "def get_sigma_i(company):\n",
    "  '''\n",
    "  This function returns the estimated asset volatility of a firm\n",
    "  '''\n",
    "  return 0.4\n",
    "\n",
    "def get_rho(start,end,companies,column,company_1 = None,company_2 = None):\n",
    "  '''\n",
    "  This function takes the start date and end date of a time frame and returns the correlation matrix of asset value in a given time horizon\n",
    "  Note companies is a numpy array containing the name of companies\n",
    "  Output: A list object:[whole correlation matrix, corr(companyname1,companyname2)] if company_1 and company_2 specified\n",
    "          the whole correlation matrix otherwise\n",
    "  '''\n",
    "  diff_matrix = np.zeros((int(get_t(start,end)*4),len(companies)))\n",
    "  for i in [i for i in range(0,len(companies))]:\n",
    "    col_val = np.diff(np.log(df[(df['datadate'] >= start) & (df['datadate'] <= end)&(df['company_name'] == companies[i])][column]))\n",
    "    diff_matrix [:,i]= col_val\n",
    "  diff_matrix = pd.DataFrame(diff_matrix)\n",
    "  corr_df  = diff_matrix.corr()\n",
    "  if company_1 == None and company_2 == None:\n",
    "    return corr_df\n",
    "  else:\n",
    "    company_1_idx = companies.tolist().index(company_1)\n",
    "    company_2_idx = companies.tolist().index(company_2)\n",
    "    output = corr_df[company_1_idx][company_2_idx]\n",
    "    return output"
   ]
  },
  {
   "cell_type": "markdown",
   "id": "E5Dy_t3duKS8",
   "metadata": {
    "id": "E5Dy_t3duKS8"
   },
   "source": [
    "## Elimination: stage 1"
   ]
  },
  {
   "cell_type": "code",
   "execution_count": 29,
   "id": "DN-vplowtWD1",
   "metadata": {
    "colab": {
     "base_uri": "https://localhost:8080/",
     "height": 443
    },
    "executionInfo": {
     "elapsed": 381,
     "status": "ok",
     "timestamp": 1708598660917,
     "user": {
      "displayName": "Lisa Chiang",
      "userId": "09169802507274919284"
     },
     "user_tz": 0
    },
    "id": "DN-vplowtWD1",
    "outputId": "3b769221-b7fb-4a5b-f75d-5c7ec6dde867"
   },
   "outputs": [
    {
     "data": {
      "application/vnd.google.colaboratory.intrinsic+json": {
       "type": "dataframe"
      },
      "text/html": [
       "\n",
       "  <div id=\"df-605202ed-39d4-4672-8e8d-64f2bac9b867\" class=\"colab-df-container\">\n",
       "    <div>\n",
       "<style scoped>\n",
       "    .dataframe tbody tr th:only-of-type {\n",
       "        vertical-align: middle;\n",
       "    }\n",
       "\n",
       "    .dataframe tbody tr th {\n",
       "        vertical-align: top;\n",
       "    }\n",
       "\n",
       "    .dataframe thead th {\n",
       "        text-align: right;\n",
       "    }\n",
       "</style>\n",
       "<table border=\"1\" class=\"dataframe\">\n",
       "  <thead>\n",
       "    <tr style=\"text-align: right;\">\n",
       "      <th></th>\n",
       "      <th>0</th>\n",
       "      <th>1</th>\n",
       "      <th>2</th>\n",
       "      <th>3</th>\n",
       "      <th>4</th>\n",
       "      <th>5</th>\n",
       "      <th>6</th>\n",
       "      <th>7</th>\n",
       "      <th>8</th>\n",
       "      <th>9</th>\n",
       "      <th>...</th>\n",
       "      <th>222</th>\n",
       "      <th>223</th>\n",
       "      <th>224</th>\n",
       "      <th>225</th>\n",
       "      <th>226</th>\n",
       "      <th>227</th>\n",
       "      <th>228</th>\n",
       "      <th>229</th>\n",
       "      <th>230</th>\n",
       "      <th>231</th>\n",
       "    </tr>\n",
       "  </thead>\n",
       "  <tbody>\n",
       "    <tr>\n",
       "      <th>0</th>\n",
       "      <td>1.000000</td>\n",
       "      <td>-0.633200</td>\n",
       "      <td>0.677572</td>\n",
       "      <td>0.904816</td>\n",
       "      <td>0.989767</td>\n",
       "      <td>0.721817</td>\n",
       "      <td>0.835530</td>\n",
       "      <td>0.495626</td>\n",
       "      <td>-0.650678</td>\n",
       "      <td>0.901614</td>\n",
       "      <td>...</td>\n",
       "      <td>0.982783</td>\n",
       "      <td>0.674592</td>\n",
       "      <td>0.944351</td>\n",
       "      <td>0.904763</td>\n",
       "      <td>0.945420</td>\n",
       "      <td>0.183826</td>\n",
       "      <td>0.653276</td>\n",
       "      <td>NaN</td>\n",
       "      <td>0.565793</td>\n",
       "      <td>0.986711</td>\n",
       "    </tr>\n",
       "    <tr>\n",
       "      <th>1</th>\n",
       "      <td>-0.633200</td>\n",
       "      <td>1.000000</td>\n",
       "      <td>0.140197</td>\n",
       "      <td>-0.243364</td>\n",
       "      <td>-0.516281</td>\n",
       "      <td>0.078610</td>\n",
       "      <td>-0.103794</td>\n",
       "      <td>0.358406</td>\n",
       "      <td>-0.175722</td>\n",
       "      <td>-0.236120</td>\n",
       "      <td>...</td>\n",
       "      <td>-0.765304</td>\n",
       "      <td>0.144200</td>\n",
       "      <td>-0.343368</td>\n",
       "      <td>-0.902549</td>\n",
       "      <td>-0.850847</td>\n",
       "      <td>0.644400</td>\n",
       "      <td>-0.999656</td>\n",
       "      <td>NaN</td>\n",
       "      <td>-0.996450</td>\n",
       "      <td>-0.499024</td>\n",
       "    </tr>\n",
       "    <tr>\n",
       "      <th>2</th>\n",
       "      <td>0.677572</td>\n",
       "      <td>0.140197</td>\n",
       "      <td>1.000000</td>\n",
       "      <td>0.926237</td>\n",
       "      <td>0.775580</td>\n",
       "      <td>0.998081</td>\n",
       "      <td>0.970224</td>\n",
       "      <td>0.974593</td>\n",
       "      <td>-0.999353</td>\n",
       "      <td>0.929024</td>\n",
       "      <td>...</td>\n",
       "      <td>0.530020</td>\n",
       "      <td>0.999992</td>\n",
       "      <td>0.881786</td>\n",
       "      <td>0.299800</td>\n",
       "      <td>0.400939</td>\n",
       "      <td>0.847479</td>\n",
       "      <td>-0.114188</td>\n",
       "      <td>NaN</td>\n",
       "      <td>-0.223054</td>\n",
       "      <td>0.788068</td>\n",
       "    </tr>\n",
       "    <tr>\n",
       "      <th>3</th>\n",
       "      <td>0.904816</td>\n",
       "      <td>-0.243364</td>\n",
       "      <td>0.926237</td>\n",
       "      <td>1.000000</td>\n",
       "      <td>0.956315</td>\n",
       "      <td>0.947803</td>\n",
       "      <td>0.989956</td>\n",
       "      <td>0.818275</td>\n",
       "      <td>-0.912078</td>\n",
       "      <td>0.999972</td>\n",
       "      <td>...</td>\n",
       "      <td>0.810565</td>\n",
       "      <td>0.924705</td>\n",
       "      <td>0.994527</td>\n",
       "      <td>0.637289</td>\n",
       "      <td>0.716682</td>\n",
       "      <td>0.584875</td>\n",
       "      <td>0.268711</td>\n",
       "      <td>NaN</td>\n",
       "      <td>0.160844</td>\n",
       "      <td>0.961979</td>\n",
       "    </tr>\n",
       "    <tr>\n",
       "      <th>4</th>\n",
       "      <td>0.989767</td>\n",
       "      <td>-0.516281</td>\n",
       "      <td>0.775580</td>\n",
       "      <td>0.956315</td>\n",
       "      <td>1.000000</td>\n",
       "      <td>0.813185</td>\n",
       "      <td>0.905380</td>\n",
       "      <td>0.614486</td>\n",
       "      <td>-0.752372</td>\n",
       "      <td>0.954108</td>\n",
       "      <td>...</td>\n",
       "      <td>0.946363</td>\n",
       "      <td>0.773021</td>\n",
       "      <td>0.981624</td>\n",
       "      <td>0.834731</td>\n",
       "      <td>0.889250</td>\n",
       "      <td>0.322203</td>\n",
       "      <td>0.538558</td>\n",
       "      <td>NaN</td>\n",
       "      <td>0.442349</td>\n",
       "      <td>0.999799</td>\n",
       "    </tr>\n",
       "    <tr>\n",
       "      <th>...</th>\n",
       "      <td>...</td>\n",
       "      <td>...</td>\n",
       "      <td>...</td>\n",
       "      <td>...</td>\n",
       "      <td>...</td>\n",
       "      <td>...</td>\n",
       "      <td>...</td>\n",
       "      <td>...</td>\n",
       "      <td>...</td>\n",
       "      <td>...</td>\n",
       "      <td>...</td>\n",
       "      <td>...</td>\n",
       "      <td>...</td>\n",
       "      <td>...</td>\n",
       "      <td>...</td>\n",
       "      <td>...</td>\n",
       "      <td>...</td>\n",
       "      <td>...</td>\n",
       "      <td>...</td>\n",
       "      <td>...</td>\n",
       "      <td>...</td>\n",
       "    </tr>\n",
       "    <tr>\n",
       "      <th>227</th>\n",
       "      <td>0.183826</td>\n",
       "      <td>0.644400</td>\n",
       "      <td>0.847479</td>\n",
       "      <td>0.584875</td>\n",
       "      <td>0.322203</td>\n",
       "      <td>0.812979</td>\n",
       "      <td>0.693674</td>\n",
       "      <td>0.944844</td>\n",
       "      <td>-0.866025</td>\n",
       "      <td>0.590911</td>\n",
       "      <td>...</td>\n",
       "      <td>-0.000954</td>\n",
       "      <td>0.849619</td>\n",
       "      <td>0.496930</td>\n",
       "      <td>-0.252338</td>\n",
       "      <td>-0.146508</td>\n",
       "      <td>1.000000</td>\n",
       "      <td>-0.624128</td>\n",
       "      <td>NaN</td>\n",
       "      <td>-0.706488</td>\n",
       "      <td>0.341100</td>\n",
       "    </tr>\n",
       "    <tr>\n",
       "      <th>228</th>\n",
       "      <td>0.653276</td>\n",
       "      <td>-0.999656</td>\n",
       "      <td>-0.114188</td>\n",
       "      <td>0.268711</td>\n",
       "      <td>0.538558</td>\n",
       "      <td>-0.052444</td>\n",
       "      <td>0.129836</td>\n",
       "      <td>-0.333805</td>\n",
       "      <td>0.149850</td>\n",
       "      <td>0.261517</td>\n",
       "      <td>...</td>\n",
       "      <td>0.781917</td>\n",
       "      <td>-0.118205</td>\n",
       "      <td>0.367876</td>\n",
       "      <td>0.913529</td>\n",
       "      <td>0.864331</td>\n",
       "      <td>-0.624128</td>\n",
       "      <td>1.000000</td>\n",
       "      <td>NaN</td>\n",
       "      <td>0.993900</td>\n",
       "      <td>0.521573</td>\n",
       "    </tr>\n",
       "    <tr>\n",
       "      <th>229</th>\n",
       "      <td>NaN</td>\n",
       "      <td>NaN</td>\n",
       "      <td>NaN</td>\n",
       "      <td>NaN</td>\n",
       "      <td>NaN</td>\n",
       "      <td>NaN</td>\n",
       "      <td>NaN</td>\n",
       "      <td>NaN</td>\n",
       "      <td>NaN</td>\n",
       "      <td>NaN</td>\n",
       "      <td>...</td>\n",
       "      <td>NaN</td>\n",
       "      <td>NaN</td>\n",
       "      <td>NaN</td>\n",
       "      <td>NaN</td>\n",
       "      <td>NaN</td>\n",
       "      <td>NaN</td>\n",
       "      <td>NaN</td>\n",
       "      <td>NaN</td>\n",
       "      <td>NaN</td>\n",
       "      <td>NaN</td>\n",
       "    </tr>\n",
       "    <tr>\n",
       "      <th>230</th>\n",
       "      <td>0.565793</td>\n",
       "      <td>-0.996450</td>\n",
       "      <td>-0.223054</td>\n",
       "      <td>0.160844</td>\n",
       "      <td>0.442349</td>\n",
       "      <td>-0.162256</td>\n",
       "      <td>0.019694</td>\n",
       "      <td>-0.435727</td>\n",
       "      <td>0.257975</td>\n",
       "      <td>0.153476</td>\n",
       "      <td>...</td>\n",
       "      <td>0.708399</td>\n",
       "      <td>-0.226994</td>\n",
       "      <td>0.263081</td>\n",
       "      <td>0.863096</td>\n",
       "      <td>0.803594</td>\n",
       "      <td>-0.706488</td>\n",
       "      <td>0.993900</td>\n",
       "      <td>NaN</td>\n",
       "      <td>1.000000</td>\n",
       "      <td>0.424297</td>\n",
       "    </tr>\n",
       "    <tr>\n",
       "      <th>231</th>\n",
       "      <td>0.986711</td>\n",
       "      <td>-0.499024</td>\n",
       "      <td>0.788068</td>\n",
       "      <td>0.961979</td>\n",
       "      <td>0.999799</td>\n",
       "      <td>0.824679</td>\n",
       "      <td>0.913703</td>\n",
       "      <td>0.630164</td>\n",
       "      <td>-0.765415</td>\n",
       "      <td>0.959914</td>\n",
       "      <td>...</td>\n",
       "      <td>0.939701</td>\n",
       "      <td>0.785572</td>\n",
       "      <td>0.985249</td>\n",
       "      <td>0.823535</td>\n",
       "      <td>0.879910</td>\n",
       "      <td>0.341100</td>\n",
       "      <td>0.521573</td>\n",
       "      <td>NaN</td>\n",
       "      <td>0.424297</td>\n",
       "      <td>1.000000</td>\n",
       "    </tr>\n",
       "  </tbody>\n",
       "</table>\n",
       "<p>232 rows × 232 columns</p>\n",
       "</div>\n",
       "    <div class=\"colab-df-buttons\">\n",
       "\n",
       "  <div class=\"colab-df-container\">\n",
       "    <button class=\"colab-df-convert\" onclick=\"convertToInteractive('df-605202ed-39d4-4672-8e8d-64f2bac9b867')\"\n",
       "            title=\"Convert this dataframe to an interactive table.\"\n",
       "            style=\"display:none;\">\n",
       "\n",
       "  <svg xmlns=\"http://www.w3.org/2000/svg\" height=\"24px\" viewBox=\"0 -960 960 960\">\n",
       "    <path d=\"M120-120v-720h720v720H120Zm60-500h600v-160H180v160Zm220 220h160v-160H400v160Zm0 220h160v-160H400v160ZM180-400h160v-160H180v160Zm440 0h160v-160H620v160ZM180-180h160v-160H180v160Zm440 0h160v-160H620v160Z\"/>\n",
       "  </svg>\n",
       "    </button>\n",
       "\n",
       "  <style>\n",
       "    .colab-df-container {\n",
       "      display:flex;\n",
       "      gap: 12px;\n",
       "    }\n",
       "\n",
       "    .colab-df-convert {\n",
       "      background-color: #E8F0FE;\n",
       "      border: none;\n",
       "      border-radius: 50%;\n",
       "      cursor: pointer;\n",
       "      display: none;\n",
       "      fill: #1967D2;\n",
       "      height: 32px;\n",
       "      padding: 0 0 0 0;\n",
       "      width: 32px;\n",
       "    }\n",
       "\n",
       "    .colab-df-convert:hover {\n",
       "      background-color: #E2EBFA;\n",
       "      box-shadow: 0px 1px 2px rgba(60, 64, 67, 0.3), 0px 1px 3px 1px rgba(60, 64, 67, 0.15);\n",
       "      fill: #174EA6;\n",
       "    }\n",
       "\n",
       "    .colab-df-buttons div {\n",
       "      margin-bottom: 4px;\n",
       "    }\n",
       "\n",
       "    [theme=dark] .colab-df-convert {\n",
       "      background-color: #3B4455;\n",
       "      fill: #D2E3FC;\n",
       "    }\n",
       "\n",
       "    [theme=dark] .colab-df-convert:hover {\n",
       "      background-color: #434B5C;\n",
       "      box-shadow: 0px 1px 3px 1px rgba(0, 0, 0, 0.15);\n",
       "      filter: drop-shadow(0px 1px 2px rgba(0, 0, 0, 0.3));\n",
       "      fill: #FFFFFF;\n",
       "    }\n",
       "  </style>\n",
       "\n",
       "    <script>\n",
       "      const buttonEl =\n",
       "        document.querySelector('#df-605202ed-39d4-4672-8e8d-64f2bac9b867 button.colab-df-convert');\n",
       "      buttonEl.style.display =\n",
       "        google.colab.kernel.accessAllowed ? 'block' : 'none';\n",
       "\n",
       "      async function convertToInteractive(key) {\n",
       "        const element = document.querySelector('#df-605202ed-39d4-4672-8e8d-64f2bac9b867');\n",
       "        const dataTable =\n",
       "          await google.colab.kernel.invokeFunction('convertToInteractive',\n",
       "                                                    [key], {});\n",
       "        if (!dataTable) return;\n",
       "\n",
       "        const docLinkHtml = 'Like what you see? Visit the ' +\n",
       "          '<a target=\"_blank\" href=https://colab.research.google.com/notebooks/data_table.ipynb>data table notebook</a>'\n",
       "          + ' to learn more about interactive tables.';\n",
       "        element.innerHTML = '';\n",
       "        dataTable['output_type'] = 'display_data';\n",
       "        await google.colab.output.renderOutput(dataTable, element);\n",
       "        const docLink = document.createElement('div');\n",
       "        docLink.innerHTML = docLinkHtml;\n",
       "        element.appendChild(docLink);\n",
       "      }\n",
       "    </script>\n",
       "  </div>\n",
       "\n",
       "\n",
       "<div id=\"df-d3345696-d932-4104-8c58-38d78d0baa58\">\n",
       "  <button class=\"colab-df-quickchart\" onclick=\"quickchart('df-d3345696-d932-4104-8c58-38d78d0baa58')\"\n",
       "            title=\"Suggest charts\"\n",
       "            style=\"display:none;\">\n",
       "\n",
       "<svg xmlns=\"http://www.w3.org/2000/svg\" height=\"24px\"viewBox=\"0 0 24 24\"\n",
       "     width=\"24px\">\n",
       "    <g>\n",
       "        <path d=\"M19 3H5c-1.1 0-2 .9-2 2v14c0 1.1.9 2 2 2h14c1.1 0 2-.9 2-2V5c0-1.1-.9-2-2-2zM9 17H7v-7h2v7zm4 0h-2V7h2v10zm4 0h-2v-4h2v4z\"/>\n",
       "    </g>\n",
       "</svg>\n",
       "  </button>\n",
       "\n",
       "<style>\n",
       "  .colab-df-quickchart {\n",
       "      --bg-color: #E8F0FE;\n",
       "      --fill-color: #1967D2;\n",
       "      --hover-bg-color: #E2EBFA;\n",
       "      --hover-fill-color: #174EA6;\n",
       "      --disabled-fill-color: #AAA;\n",
       "      --disabled-bg-color: #DDD;\n",
       "  }\n",
       "\n",
       "  [theme=dark] .colab-df-quickchart {\n",
       "      --bg-color: #3B4455;\n",
       "      --fill-color: #D2E3FC;\n",
       "      --hover-bg-color: #434B5C;\n",
       "      --hover-fill-color: #FFFFFF;\n",
       "      --disabled-bg-color: #3B4455;\n",
       "      --disabled-fill-color: #666;\n",
       "  }\n",
       "\n",
       "  .colab-df-quickchart {\n",
       "    background-color: var(--bg-color);\n",
       "    border: none;\n",
       "    border-radius: 50%;\n",
       "    cursor: pointer;\n",
       "    display: none;\n",
       "    fill: var(--fill-color);\n",
       "    height: 32px;\n",
       "    padding: 0;\n",
       "    width: 32px;\n",
       "  }\n",
       "\n",
       "  .colab-df-quickchart:hover {\n",
       "    background-color: var(--hover-bg-color);\n",
       "    box-shadow: 0 1px 2px rgba(60, 64, 67, 0.3), 0 1px 3px 1px rgba(60, 64, 67, 0.15);\n",
       "    fill: var(--button-hover-fill-color);\n",
       "  }\n",
       "\n",
       "  .colab-df-quickchart-complete:disabled,\n",
       "  .colab-df-quickchart-complete:disabled:hover {\n",
       "    background-color: var(--disabled-bg-color);\n",
       "    fill: var(--disabled-fill-color);\n",
       "    box-shadow: none;\n",
       "  }\n",
       "\n",
       "  .colab-df-spinner {\n",
       "    border: 2px solid var(--fill-color);\n",
       "    border-color: transparent;\n",
       "    border-bottom-color: var(--fill-color);\n",
       "    animation:\n",
       "      spin 1s steps(1) infinite;\n",
       "  }\n",
       "\n",
       "  @keyframes spin {\n",
       "    0% {\n",
       "      border-color: transparent;\n",
       "      border-bottom-color: var(--fill-color);\n",
       "      border-left-color: var(--fill-color);\n",
       "    }\n",
       "    20% {\n",
       "      border-color: transparent;\n",
       "      border-left-color: var(--fill-color);\n",
       "      border-top-color: var(--fill-color);\n",
       "    }\n",
       "    30% {\n",
       "      border-color: transparent;\n",
       "      border-left-color: var(--fill-color);\n",
       "      border-top-color: var(--fill-color);\n",
       "      border-right-color: var(--fill-color);\n",
       "    }\n",
       "    40% {\n",
       "      border-color: transparent;\n",
       "      border-right-color: var(--fill-color);\n",
       "      border-top-color: var(--fill-color);\n",
       "    }\n",
       "    60% {\n",
       "      border-color: transparent;\n",
       "      border-right-color: var(--fill-color);\n",
       "    }\n",
       "    80% {\n",
       "      border-color: transparent;\n",
       "      border-right-color: var(--fill-color);\n",
       "      border-bottom-color: var(--fill-color);\n",
       "    }\n",
       "    90% {\n",
       "      border-color: transparent;\n",
       "      border-bottom-color: var(--fill-color);\n",
       "    }\n",
       "  }\n",
       "</style>\n",
       "\n",
       "  <script>\n",
       "    async function quickchart(key) {\n",
       "      const quickchartButtonEl =\n",
       "        document.querySelector('#' + key + ' button');\n",
       "      quickchartButtonEl.disabled = true;  // To prevent multiple clicks.\n",
       "      quickchartButtonEl.classList.add('colab-df-spinner');\n",
       "      try {\n",
       "        const charts = await google.colab.kernel.invokeFunction(\n",
       "            'suggestCharts', [key], {});\n",
       "      } catch (error) {\n",
       "        console.error('Error during call to suggestCharts:', error);\n",
       "      }\n",
       "      quickchartButtonEl.classList.remove('colab-df-spinner');\n",
       "      quickchartButtonEl.classList.add('colab-df-quickchart-complete');\n",
       "    }\n",
       "    (() => {\n",
       "      let quickchartButtonEl =\n",
       "        document.querySelector('#df-d3345696-d932-4104-8c58-38d78d0baa58 button');\n",
       "      quickchartButtonEl.style.display =\n",
       "        google.colab.kernel.accessAllowed ? 'block' : 'none';\n",
       "    })();\n",
       "  </script>\n",
       "</div>\n",
       "    </div>\n",
       "  </div>\n"
      ],
      "text/plain": [
       "          0         1         2         3         4         5         6    \\\n",
       "0    1.000000 -0.633200  0.677572  0.904816  0.989767  0.721817  0.835530   \n",
       "1   -0.633200  1.000000  0.140197 -0.243364 -0.516281  0.078610 -0.103794   \n",
       "2    0.677572  0.140197  1.000000  0.926237  0.775580  0.998081  0.970224   \n",
       "3    0.904816 -0.243364  0.926237  1.000000  0.956315  0.947803  0.989956   \n",
       "4    0.989767 -0.516281  0.775580  0.956315  1.000000  0.813185  0.905380   \n",
       "..        ...       ...       ...       ...       ...       ...       ...   \n",
       "227  0.183826  0.644400  0.847479  0.584875  0.322203  0.812979  0.693674   \n",
       "228  0.653276 -0.999656 -0.114188  0.268711  0.538558 -0.052444  0.129836   \n",
       "229       NaN       NaN       NaN       NaN       NaN       NaN       NaN   \n",
       "230  0.565793 -0.996450 -0.223054  0.160844  0.442349 -0.162256  0.019694   \n",
       "231  0.986711 -0.499024  0.788068  0.961979  0.999799  0.824679  0.913703   \n",
       "\n",
       "          7         8         9    ...       222       223       224  \\\n",
       "0    0.495626 -0.650678  0.901614  ...  0.982783  0.674592  0.944351   \n",
       "1    0.358406 -0.175722 -0.236120  ... -0.765304  0.144200 -0.343368   \n",
       "2    0.974593 -0.999353  0.929024  ...  0.530020  0.999992  0.881786   \n",
       "3    0.818275 -0.912078  0.999972  ...  0.810565  0.924705  0.994527   \n",
       "4    0.614486 -0.752372  0.954108  ...  0.946363  0.773021  0.981624   \n",
       "..        ...       ...       ...  ...       ...       ...       ...   \n",
       "227  0.944844 -0.866025  0.590911  ... -0.000954  0.849619  0.496930   \n",
       "228 -0.333805  0.149850  0.261517  ...  0.781917 -0.118205  0.367876   \n",
       "229       NaN       NaN       NaN  ...       NaN       NaN       NaN   \n",
       "230 -0.435727  0.257975  0.153476  ...  0.708399 -0.226994  0.263081   \n",
       "231  0.630164 -0.765415  0.959914  ...  0.939701  0.785572  0.985249   \n",
       "\n",
       "          225       226       227       228  229       230       231  \n",
       "0    0.904763  0.945420  0.183826  0.653276  NaN  0.565793  0.986711  \n",
       "1   -0.902549 -0.850847  0.644400 -0.999656  NaN -0.996450 -0.499024  \n",
       "2    0.299800  0.400939  0.847479 -0.114188  NaN -0.223054  0.788068  \n",
       "3    0.637289  0.716682  0.584875  0.268711  NaN  0.160844  0.961979  \n",
       "4    0.834731  0.889250  0.322203  0.538558  NaN  0.442349  0.999799  \n",
       "..        ...       ...       ...       ...  ...       ...       ...  \n",
       "227 -0.252338 -0.146508  1.000000 -0.624128  NaN -0.706488  0.341100  \n",
       "228  0.913529  0.864331 -0.624128  1.000000  NaN  0.993900  0.521573  \n",
       "229       NaN       NaN       NaN       NaN  NaN       NaN       NaN  \n",
       "230  0.863096  0.803594 -0.706488  0.993900  NaN  1.000000  0.424297  \n",
       "231  0.823535  0.879910  0.341100  0.521573  NaN  0.424297  1.000000  \n",
       "\n",
       "[232 rows x 232 columns]"
      ]
     },
     "execution_count": 29,
     "metadata": {},
     "output_type": "execute_result"
    }
   ],
   "source": [
    "get_rho(get_date()[0],get_date()[3],get_companies(),'Close')"
   ]
  },
  {
   "cell_type": "code",
   "execution_count": 31,
   "id": "Zqd14XFOtp48",
   "metadata": {
    "colab": {
     "base_uri": "https://localhost:8080/"
    },
    "executionInfo": {
     "elapsed": 892,
     "status": "ok",
     "timestamp": 1708598672384,
     "user": {
      "displayName": "Lisa Chiang",
      "userId": "09169802507274919284"
     },
     "user_tz": 0
    },
    "id": "Zqd14XFOtp48",
    "outputId": "79711ca7-ba15-4951-e907-1c51654a0144"
   },
   "outputs": [
    {
     "data": {
      "text/plain": [
       "['LEYDEN ARGENTINA SA LEID',\n",
       " 'COMPANHIA CATARINENSE DE AG',\n",
       " 'COMPANHIA BRASILEIRA DE DIST',\n",
       " 'SUZANO SA',\n",
       " 'ULTRAPAR PARTICIPACOES SA',\n",
       " 'ADMINISTRADORA DE FONDOS DE PENSIONES CAPITAL S.A.',\n",
       " 'VINEDOS EMILIANA SA',\n",
       " 'CIA INVERSIONES LA ESPANOLA',\n",
       " 'FRUTICOLA VICONTO SA',\n",
       " 'ADMINISTRADORA DE FONDOS DE PENSIONES PROVIDA S.A.',\n",
       " 'QUILICURA SA',\n",
       " 'IMPULSORA DEL DESARROLLO ECO',\n",
       " 'INTERAMERICANA ENTRTENMIENTO',\n",
       " 'ARC MINERALS LTD']"
      ]
     },
     "execution_count": 31,
     "metadata": {},
     "output_type": "execute_result"
    }
   ],
   "source": [
    "temp = get_rho(get_date()[0],get_date()[3],get_companies(),'Close')\n",
    "series = np.sum(temp.isnull(), axis = 0)==232\n",
    "problematic_list = list(series.index[series])\n",
    "\n",
    "problematic_name = []\n",
    "for i in problematic_list:\n",
    "  problematic_name.append(get_companies()[i])\n",
    "problematic_name"
   ]
  },
  {
   "cell_type": "markdown",
   "id": "vdVJY0azattk",
   "metadata": {
    "id": "vdVJY0azattk"
   },
   "source": [
    "We decide to remove them all, as they have difference in stock price = 0, which makes no sense."
   ]
  },
  {
   "cell_type": "code",
   "execution_count": 32,
   "id": "1A-2aB_-Ys4N",
   "metadata": {
    "executionInfo": {
     "elapsed": 7,
     "status": "ok",
     "timestamp": 1708598795252,
     "user": {
      "displayName": "Lisa Chiang",
      "userId": "09169802507274919284"
     },
     "user_tz": 0
    },
    "id": "1A-2aB_-Ys4N"
   },
   "outputs": [],
   "source": [
    "df = df[~df['company_name'].isin(problematic_name)]"
   ]
  },
  {
   "cell_type": "code",
   "execution_count": 33,
   "id": "ncKjJeCfbJdW",
   "metadata": {
    "colab": {
     "base_uri": "https://localhost:8080/"
    },
    "executionInfo": {
     "elapsed": 3,
     "status": "ok",
     "timestamp": 1708598803030,
     "user": {
      "displayName": "Lisa Chiang",
      "userId": "09169802507274919284"
     },
     "user_tz": 0
    },
    "id": "ncKjJeCfbJdW",
    "outputId": "1f127bd8-7a67-4ac8-fae1-29d21e545124"
   },
   "outputs": [
    {
     "name": "stdout",
     "output_type": "stream",
     "text": [
      "Number of companies: 218\n",
      "Number of rows: 15696\n"
     ]
    }
   ],
   "source": [
    "check(df)"
   ]
  },
  {
   "cell_type": "code",
   "execution_count": 34,
   "id": "jqHBp_dObLOL",
   "metadata": {
    "colab": {
     "base_uri": "https://localhost:8080/"
    },
    "executionInfo": {
     "elapsed": 10,
     "status": "ok",
     "timestamp": 1708598809622,
     "user": {
      "displayName": "Lisa Chiang",
      "userId": "09169802507274919284"
     },
     "user_tz": 0
    },
    "id": "jqHBp_dObLOL",
    "outputId": "4fc7f8fb-315b-42cb-85a1-d64bffbe6f87"
   },
   "outputs": [
    {
     "data": {
      "text/plain": [
       "40"
      ]
     },
     "execution_count": 34,
     "metadata": {},
     "output_type": "execute_result"
    }
   ],
   "source": [
    "get_num_finance(df)"
   ]
  },
  {
   "cell_type": "markdown",
   "id": "Q-9A8Ar5bcMc",
   "metadata": {
    "id": "Q-9A8Ar5bcMc"
   },
   "source": [
    "## Elimination: stage 2"
   ]
  },
  {
   "cell_type": "code",
   "execution_count": 35,
   "id": "4k6_11XRbM7r",
   "metadata": {
    "colab": {
     "base_uri": "https://localhost:8080/",
     "height": 443
    },
    "executionInfo": {
     "elapsed": 553,
     "status": "ok",
     "timestamp": 1708598891788,
     "user": {
      "displayName": "Lisa Chiang",
      "userId": "09169802507274919284"
     },
     "user_tz": 0
    },
    "id": "4k6_11XRbM7r",
    "outputId": "b56b6bd9-4030-4630-d1d6-451b0fbaa022"
   },
   "outputs": [
    {
     "data": {
      "application/vnd.google.colaboratory.intrinsic+json": {
       "type": "dataframe"
      },
      "text/html": [
       "\n",
       "  <div id=\"df-30f765af-c365-40a7-85d4-ba51ded525ac\" class=\"colab-df-container\">\n",
       "    <div>\n",
       "<style scoped>\n",
       "    .dataframe tbody tr th:only-of-type {\n",
       "        vertical-align: middle;\n",
       "    }\n",
       "\n",
       "    .dataframe tbody tr th {\n",
       "        vertical-align: top;\n",
       "    }\n",
       "\n",
       "    .dataframe thead th {\n",
       "        text-align: right;\n",
       "    }\n",
       "</style>\n",
       "<table border=\"1\" class=\"dataframe\">\n",
       "  <thead>\n",
       "    <tr style=\"text-align: right;\">\n",
       "      <th></th>\n",
       "      <th>0</th>\n",
       "      <th>1</th>\n",
       "      <th>2</th>\n",
       "      <th>3</th>\n",
       "      <th>4</th>\n",
       "      <th>5</th>\n",
       "      <th>6</th>\n",
       "      <th>7</th>\n",
       "      <th>8</th>\n",
       "      <th>9</th>\n",
       "      <th>...</th>\n",
       "      <th>208</th>\n",
       "      <th>209</th>\n",
       "      <th>210</th>\n",
       "      <th>211</th>\n",
       "      <th>212</th>\n",
       "      <th>213</th>\n",
       "      <th>214</th>\n",
       "      <th>215</th>\n",
       "      <th>216</th>\n",
       "      <th>217</th>\n",
       "    </tr>\n",
       "  </thead>\n",
       "  <tbody>\n",
       "    <tr>\n",
       "      <th>0</th>\n",
       "      <td>1.000000</td>\n",
       "      <td>-0.633200</td>\n",
       "      <td>0.677572</td>\n",
       "      <td>0.904816</td>\n",
       "      <td>0.989767</td>\n",
       "      <td>0.721817</td>\n",
       "      <td>0.835530</td>\n",
       "      <td>0.495626</td>\n",
       "      <td>-0.650678</td>\n",
       "      <td>0.901614</td>\n",
       "      <td>...</td>\n",
       "      <td>-0.315740</td>\n",
       "      <td>0.982783</td>\n",
       "      <td>0.674592</td>\n",
       "      <td>0.944351</td>\n",
       "      <td>0.904763</td>\n",
       "      <td>0.945420</td>\n",
       "      <td>0.183826</td>\n",
       "      <td>0.653276</td>\n",
       "      <td>0.565793</td>\n",
       "      <td>0.986711</td>\n",
       "    </tr>\n",
       "    <tr>\n",
       "      <th>1</th>\n",
       "      <td>-0.633200</td>\n",
       "      <td>1.000000</td>\n",
       "      <td>0.140197</td>\n",
       "      <td>-0.243364</td>\n",
       "      <td>-0.516281</td>\n",
       "      <td>0.078610</td>\n",
       "      <td>-0.103794</td>\n",
       "      <td>0.358406</td>\n",
       "      <td>-0.175722</td>\n",
       "      <td>-0.236120</td>\n",
       "      <td>...</td>\n",
       "      <td>0.934322</td>\n",
       "      <td>-0.765304</td>\n",
       "      <td>0.144200</td>\n",
       "      <td>-0.343368</td>\n",
       "      <td>-0.902549</td>\n",
       "      <td>-0.850847</td>\n",
       "      <td>0.644400</td>\n",
       "      <td>-0.999656</td>\n",
       "      <td>-0.996450</td>\n",
       "      <td>-0.499024</td>\n",
       "    </tr>\n",
       "    <tr>\n",
       "      <th>2</th>\n",
       "      <td>0.677572</td>\n",
       "      <td>0.140197</td>\n",
       "      <td>1.000000</td>\n",
       "      <td>0.926237</td>\n",
       "      <td>0.775580</td>\n",
       "      <td>0.998081</td>\n",
       "      <td>0.970224</td>\n",
       "      <td>0.974593</td>\n",
       "      <td>-0.999353</td>\n",
       "      <td>0.929024</td>\n",
       "      <td>...</td>\n",
       "      <td>0.483899</td>\n",
       "      <td>0.530020</td>\n",
       "      <td>0.999992</td>\n",
       "      <td>0.881786</td>\n",
       "      <td>0.299800</td>\n",
       "      <td>0.400939</td>\n",
       "      <td>0.847479</td>\n",
       "      <td>-0.114188</td>\n",
       "      <td>-0.223054</td>\n",
       "      <td>0.788068</td>\n",
       "    </tr>\n",
       "    <tr>\n",
       "      <th>3</th>\n",
       "      <td>0.904816</td>\n",
       "      <td>-0.243364</td>\n",
       "      <td>0.926237</td>\n",
       "      <td>1.000000</td>\n",
       "      <td>0.956315</td>\n",
       "      <td>0.947803</td>\n",
       "      <td>0.989956</td>\n",
       "      <td>0.818275</td>\n",
       "      <td>-0.912078</td>\n",
       "      <td>0.999972</td>\n",
       "      <td>...</td>\n",
       "      <td>0.118335</td>\n",
       "      <td>0.810565</td>\n",
       "      <td>0.924705</td>\n",
       "      <td>0.994527</td>\n",
       "      <td>0.637289</td>\n",
       "      <td>0.716682</td>\n",
       "      <td>0.584875</td>\n",
       "      <td>0.268711</td>\n",
       "      <td>0.160844</td>\n",
       "      <td>0.961979</td>\n",
       "    </tr>\n",
       "    <tr>\n",
       "      <th>4</th>\n",
       "      <td>0.989767</td>\n",
       "      <td>-0.516281</td>\n",
       "      <td>0.775580</td>\n",
       "      <td>0.956315</td>\n",
       "      <td>1.000000</td>\n",
       "      <td>0.813185</td>\n",
       "      <td>0.905380</td>\n",
       "      <td>0.614486</td>\n",
       "      <td>-0.752372</td>\n",
       "      <td>0.954108</td>\n",
       "      <td>...</td>\n",
       "      <td>-0.177118</td>\n",
       "      <td>0.946363</td>\n",
       "      <td>0.773021</td>\n",
       "      <td>0.981624</td>\n",
       "      <td>0.834731</td>\n",
       "      <td>0.889250</td>\n",
       "      <td>0.322203</td>\n",
       "      <td>0.538558</td>\n",
       "      <td>0.442349</td>\n",
       "      <td>0.999799</td>\n",
       "    </tr>\n",
       "    <tr>\n",
       "      <th>...</th>\n",
       "      <td>...</td>\n",
       "      <td>...</td>\n",
       "      <td>...</td>\n",
       "      <td>...</td>\n",
       "      <td>...</td>\n",
       "      <td>...</td>\n",
       "      <td>...</td>\n",
       "      <td>...</td>\n",
       "      <td>...</td>\n",
       "      <td>...</td>\n",
       "      <td>...</td>\n",
       "      <td>...</td>\n",
       "      <td>...</td>\n",
       "      <td>...</td>\n",
       "      <td>...</td>\n",
       "      <td>...</td>\n",
       "      <td>...</td>\n",
       "      <td>...</td>\n",
       "      <td>...</td>\n",
       "      <td>...</td>\n",
       "      <td>...</td>\n",
       "    </tr>\n",
       "    <tr>\n",
       "      <th>213</th>\n",
       "      <td>0.945420</td>\n",
       "      <td>-0.850847</td>\n",
       "      <td>0.400939</td>\n",
       "      <td>0.716682</td>\n",
       "      <td>0.889250</td>\n",
       "      <td>0.456903</td>\n",
       "      <td>0.610888</td>\n",
       "      <td>0.185559</td>\n",
       "      <td>-0.367726</td>\n",
       "      <td>0.711459</td>\n",
       "      <td>...</td>\n",
       "      <td>-0.607691</td>\n",
       "      <td>0.989349</td>\n",
       "      <td>0.397230</td>\n",
       "      <td>0.785623</td>\n",
       "      <td>0.994167</td>\n",
       "      <td>1.000000</td>\n",
       "      <td>-0.146508</td>\n",
       "      <td>0.864331</td>\n",
       "      <td>0.803594</td>\n",
       "      <td>0.879910</td>\n",
       "    </tr>\n",
       "    <tr>\n",
       "      <th>214</th>\n",
       "      <td>0.183826</td>\n",
       "      <td>0.644400</td>\n",
       "      <td>0.847479</td>\n",
       "      <td>0.584875</td>\n",
       "      <td>0.322203</td>\n",
       "      <td>0.812979</td>\n",
       "      <td>0.693674</td>\n",
       "      <td>0.944844</td>\n",
       "      <td>-0.866025</td>\n",
       "      <td>0.590911</td>\n",
       "      <td>...</td>\n",
       "      <td>0.874635</td>\n",
       "      <td>-0.000954</td>\n",
       "      <td>0.849619</td>\n",
       "      <td>0.496930</td>\n",
       "      <td>-0.252338</td>\n",
       "      <td>-0.146508</td>\n",
       "      <td>1.000000</td>\n",
       "      <td>-0.624128</td>\n",
       "      <td>-0.706488</td>\n",
       "      <td>0.341100</td>\n",
       "    </tr>\n",
       "    <tr>\n",
       "      <th>215</th>\n",
       "      <td>0.653276</td>\n",
       "      <td>-0.999656</td>\n",
       "      <td>-0.114188</td>\n",
       "      <td>0.268711</td>\n",
       "      <td>0.538558</td>\n",
       "      <td>-0.052444</td>\n",
       "      <td>0.129836</td>\n",
       "      <td>-0.333805</td>\n",
       "      <td>0.149850</td>\n",
       "      <td>0.261517</td>\n",
       "      <td>...</td>\n",
       "      <td>-0.924655</td>\n",
       "      <td>0.781917</td>\n",
       "      <td>-0.118205</td>\n",
       "      <td>0.367876</td>\n",
       "      <td>0.913529</td>\n",
       "      <td>0.864331</td>\n",
       "      <td>-0.624128</td>\n",
       "      <td>1.000000</td>\n",
       "      <td>0.993900</td>\n",
       "      <td>0.521573</td>\n",
       "    </tr>\n",
       "    <tr>\n",
       "      <th>216</th>\n",
       "      <td>0.565793</td>\n",
       "      <td>-0.996450</td>\n",
       "      <td>-0.223054</td>\n",
       "      <td>0.160844</td>\n",
       "      <td>0.442349</td>\n",
       "      <td>-0.162256</td>\n",
       "      <td>0.019694</td>\n",
       "      <td>-0.435727</td>\n",
       "      <td>0.257975</td>\n",
       "      <td>0.153476</td>\n",
       "      <td>...</td>\n",
       "      <td>-0.961012</td>\n",
       "      <td>0.708399</td>\n",
       "      <td>-0.226994</td>\n",
       "      <td>0.263081</td>\n",
       "      <td>0.863096</td>\n",
       "      <td>0.803594</td>\n",
       "      <td>-0.706488</td>\n",
       "      <td>0.993900</td>\n",
       "      <td>1.000000</td>\n",
       "      <td>0.424297</td>\n",
       "    </tr>\n",
       "    <tr>\n",
       "      <th>217</th>\n",
       "      <td>0.986711</td>\n",
       "      <td>-0.499024</td>\n",
       "      <td>0.788068</td>\n",
       "      <td>0.961979</td>\n",
       "      <td>0.999799</td>\n",
       "      <td>0.824679</td>\n",
       "      <td>0.913703</td>\n",
       "      <td>0.630164</td>\n",
       "      <td>-0.765415</td>\n",
       "      <td>0.959914</td>\n",
       "      <td>...</td>\n",
       "      <td>-0.157370</td>\n",
       "      <td>0.939701</td>\n",
       "      <td>0.785572</td>\n",
       "      <td>0.985249</td>\n",
       "      <td>0.823535</td>\n",
       "      <td>0.879910</td>\n",
       "      <td>0.341100</td>\n",
       "      <td>0.521573</td>\n",
       "      <td>0.424297</td>\n",
       "      <td>1.000000</td>\n",
       "    </tr>\n",
       "  </tbody>\n",
       "</table>\n",
       "<p>218 rows × 218 columns</p>\n",
       "</div>\n",
       "    <div class=\"colab-df-buttons\">\n",
       "\n",
       "  <div class=\"colab-df-container\">\n",
       "    <button class=\"colab-df-convert\" onclick=\"convertToInteractive('df-30f765af-c365-40a7-85d4-ba51ded525ac')\"\n",
       "            title=\"Convert this dataframe to an interactive table.\"\n",
       "            style=\"display:none;\">\n",
       "\n",
       "  <svg xmlns=\"http://www.w3.org/2000/svg\" height=\"24px\" viewBox=\"0 -960 960 960\">\n",
       "    <path d=\"M120-120v-720h720v720H120Zm60-500h600v-160H180v160Zm220 220h160v-160H400v160Zm0 220h160v-160H400v160ZM180-400h160v-160H180v160Zm440 0h160v-160H620v160ZM180-180h160v-160H180v160Zm440 0h160v-160H620v160Z\"/>\n",
       "  </svg>\n",
       "    </button>\n",
       "\n",
       "  <style>\n",
       "    .colab-df-container {\n",
       "      display:flex;\n",
       "      gap: 12px;\n",
       "    }\n",
       "\n",
       "    .colab-df-convert {\n",
       "      background-color: #E8F0FE;\n",
       "      border: none;\n",
       "      border-radius: 50%;\n",
       "      cursor: pointer;\n",
       "      display: none;\n",
       "      fill: #1967D2;\n",
       "      height: 32px;\n",
       "      padding: 0 0 0 0;\n",
       "      width: 32px;\n",
       "    }\n",
       "\n",
       "    .colab-df-convert:hover {\n",
       "      background-color: #E2EBFA;\n",
       "      box-shadow: 0px 1px 2px rgba(60, 64, 67, 0.3), 0px 1px 3px 1px rgba(60, 64, 67, 0.15);\n",
       "      fill: #174EA6;\n",
       "    }\n",
       "\n",
       "    .colab-df-buttons div {\n",
       "      margin-bottom: 4px;\n",
       "    }\n",
       "\n",
       "    [theme=dark] .colab-df-convert {\n",
       "      background-color: #3B4455;\n",
       "      fill: #D2E3FC;\n",
       "    }\n",
       "\n",
       "    [theme=dark] .colab-df-convert:hover {\n",
       "      background-color: #434B5C;\n",
       "      box-shadow: 0px 1px 3px 1px rgba(0, 0, 0, 0.15);\n",
       "      filter: drop-shadow(0px 1px 2px rgba(0, 0, 0, 0.3));\n",
       "      fill: #FFFFFF;\n",
       "    }\n",
       "  </style>\n",
       "\n",
       "    <script>\n",
       "      const buttonEl =\n",
       "        document.querySelector('#df-30f765af-c365-40a7-85d4-ba51ded525ac button.colab-df-convert');\n",
       "      buttonEl.style.display =\n",
       "        google.colab.kernel.accessAllowed ? 'block' : 'none';\n",
       "\n",
       "      async function convertToInteractive(key) {\n",
       "        const element = document.querySelector('#df-30f765af-c365-40a7-85d4-ba51ded525ac');\n",
       "        const dataTable =\n",
       "          await google.colab.kernel.invokeFunction('convertToInteractive',\n",
       "                                                    [key], {});\n",
       "        if (!dataTable) return;\n",
       "\n",
       "        const docLinkHtml = 'Like what you see? Visit the ' +\n",
       "          '<a target=\"_blank\" href=https://colab.research.google.com/notebooks/data_table.ipynb>data table notebook</a>'\n",
       "          + ' to learn more about interactive tables.';\n",
       "        element.innerHTML = '';\n",
       "        dataTable['output_type'] = 'display_data';\n",
       "        await google.colab.output.renderOutput(dataTable, element);\n",
       "        const docLink = document.createElement('div');\n",
       "        docLink.innerHTML = docLinkHtml;\n",
       "        element.appendChild(docLink);\n",
       "      }\n",
       "    </script>\n",
       "  </div>\n",
       "\n",
       "\n",
       "<div id=\"df-a652562b-f332-42d2-b469-2a3aa40f2128\">\n",
       "  <button class=\"colab-df-quickchart\" onclick=\"quickchart('df-a652562b-f332-42d2-b469-2a3aa40f2128')\"\n",
       "            title=\"Suggest charts\"\n",
       "            style=\"display:none;\">\n",
       "\n",
       "<svg xmlns=\"http://www.w3.org/2000/svg\" height=\"24px\"viewBox=\"0 0 24 24\"\n",
       "     width=\"24px\">\n",
       "    <g>\n",
       "        <path d=\"M19 3H5c-1.1 0-2 .9-2 2v14c0 1.1.9 2 2 2h14c1.1 0 2-.9 2-2V5c0-1.1-.9-2-2-2zM9 17H7v-7h2v7zm4 0h-2V7h2v10zm4 0h-2v-4h2v4z\"/>\n",
       "    </g>\n",
       "</svg>\n",
       "  </button>\n",
       "\n",
       "<style>\n",
       "  .colab-df-quickchart {\n",
       "      --bg-color: #E8F0FE;\n",
       "      --fill-color: #1967D2;\n",
       "      --hover-bg-color: #E2EBFA;\n",
       "      --hover-fill-color: #174EA6;\n",
       "      --disabled-fill-color: #AAA;\n",
       "      --disabled-bg-color: #DDD;\n",
       "  }\n",
       "\n",
       "  [theme=dark] .colab-df-quickchart {\n",
       "      --bg-color: #3B4455;\n",
       "      --fill-color: #D2E3FC;\n",
       "      --hover-bg-color: #434B5C;\n",
       "      --hover-fill-color: #FFFFFF;\n",
       "      --disabled-bg-color: #3B4455;\n",
       "      --disabled-fill-color: #666;\n",
       "  }\n",
       "\n",
       "  .colab-df-quickchart {\n",
       "    background-color: var(--bg-color);\n",
       "    border: none;\n",
       "    border-radius: 50%;\n",
       "    cursor: pointer;\n",
       "    display: none;\n",
       "    fill: var(--fill-color);\n",
       "    height: 32px;\n",
       "    padding: 0;\n",
       "    width: 32px;\n",
       "  }\n",
       "\n",
       "  .colab-df-quickchart:hover {\n",
       "    background-color: var(--hover-bg-color);\n",
       "    box-shadow: 0 1px 2px rgba(60, 64, 67, 0.3), 0 1px 3px 1px rgba(60, 64, 67, 0.15);\n",
       "    fill: var(--button-hover-fill-color);\n",
       "  }\n",
       "\n",
       "  .colab-df-quickchart-complete:disabled,\n",
       "  .colab-df-quickchart-complete:disabled:hover {\n",
       "    background-color: var(--disabled-bg-color);\n",
       "    fill: var(--disabled-fill-color);\n",
       "    box-shadow: none;\n",
       "  }\n",
       "\n",
       "  .colab-df-spinner {\n",
       "    border: 2px solid var(--fill-color);\n",
       "    border-color: transparent;\n",
       "    border-bottom-color: var(--fill-color);\n",
       "    animation:\n",
       "      spin 1s steps(1) infinite;\n",
       "  }\n",
       "\n",
       "  @keyframes spin {\n",
       "    0% {\n",
       "      border-color: transparent;\n",
       "      border-bottom-color: var(--fill-color);\n",
       "      border-left-color: var(--fill-color);\n",
       "    }\n",
       "    20% {\n",
       "      border-color: transparent;\n",
       "      border-left-color: var(--fill-color);\n",
       "      border-top-color: var(--fill-color);\n",
       "    }\n",
       "    30% {\n",
       "      border-color: transparent;\n",
       "      border-left-color: var(--fill-color);\n",
       "      border-top-color: var(--fill-color);\n",
       "      border-right-color: var(--fill-color);\n",
       "    }\n",
       "    40% {\n",
       "      border-color: transparent;\n",
       "      border-right-color: var(--fill-color);\n",
       "      border-top-color: var(--fill-color);\n",
       "    }\n",
       "    60% {\n",
       "      border-color: transparent;\n",
       "      border-right-color: var(--fill-color);\n",
       "    }\n",
       "    80% {\n",
       "      border-color: transparent;\n",
       "      border-right-color: var(--fill-color);\n",
       "      border-bottom-color: var(--fill-color);\n",
       "    }\n",
       "    90% {\n",
       "      border-color: transparent;\n",
       "      border-bottom-color: var(--fill-color);\n",
       "    }\n",
       "  }\n",
       "</style>\n",
       "\n",
       "  <script>\n",
       "    async function quickchart(key) {\n",
       "      const quickchartButtonEl =\n",
       "        document.querySelector('#' + key + ' button');\n",
       "      quickchartButtonEl.disabled = true;  // To prevent multiple clicks.\n",
       "      quickchartButtonEl.classList.add('colab-df-spinner');\n",
       "      try {\n",
       "        const charts = await google.colab.kernel.invokeFunction(\n",
       "            'suggestCharts', [key], {});\n",
       "      } catch (error) {\n",
       "        console.error('Error during call to suggestCharts:', error);\n",
       "      }\n",
       "      quickchartButtonEl.classList.remove('colab-df-spinner');\n",
       "      quickchartButtonEl.classList.add('colab-df-quickchart-complete');\n",
       "    }\n",
       "    (() => {\n",
       "      let quickchartButtonEl =\n",
       "        document.querySelector('#df-a652562b-f332-42d2-b469-2a3aa40f2128 button');\n",
       "      quickchartButtonEl.style.display =\n",
       "        google.colab.kernel.accessAllowed ? 'block' : 'none';\n",
       "    })();\n",
       "  </script>\n",
       "</div>\n",
       "    </div>\n",
       "  </div>\n"
      ],
      "text/plain": [
       "          0         1         2         3         4         5         6    \\\n",
       "0    1.000000 -0.633200  0.677572  0.904816  0.989767  0.721817  0.835530   \n",
       "1   -0.633200  1.000000  0.140197 -0.243364 -0.516281  0.078610 -0.103794   \n",
       "2    0.677572  0.140197  1.000000  0.926237  0.775580  0.998081  0.970224   \n",
       "3    0.904816 -0.243364  0.926237  1.000000  0.956315  0.947803  0.989956   \n",
       "4    0.989767 -0.516281  0.775580  0.956315  1.000000  0.813185  0.905380   \n",
       "..        ...       ...       ...       ...       ...       ...       ...   \n",
       "213  0.945420 -0.850847  0.400939  0.716682  0.889250  0.456903  0.610888   \n",
       "214  0.183826  0.644400  0.847479  0.584875  0.322203  0.812979  0.693674   \n",
       "215  0.653276 -0.999656 -0.114188  0.268711  0.538558 -0.052444  0.129836   \n",
       "216  0.565793 -0.996450 -0.223054  0.160844  0.442349 -0.162256  0.019694   \n",
       "217  0.986711 -0.499024  0.788068  0.961979  0.999799  0.824679  0.913703   \n",
       "\n",
       "          7         8         9    ...       208       209       210  \\\n",
       "0    0.495626 -0.650678  0.901614  ... -0.315740  0.982783  0.674592   \n",
       "1    0.358406 -0.175722 -0.236120  ...  0.934322 -0.765304  0.144200   \n",
       "2    0.974593 -0.999353  0.929024  ...  0.483899  0.530020  0.999992   \n",
       "3    0.818275 -0.912078  0.999972  ...  0.118335  0.810565  0.924705   \n",
       "4    0.614486 -0.752372  0.954108  ... -0.177118  0.946363  0.773021   \n",
       "..        ...       ...       ...  ...       ...       ...       ...   \n",
       "213  0.185559 -0.367726  0.711459  ... -0.607691  0.989349  0.397230   \n",
       "214  0.944844 -0.866025  0.590911  ...  0.874635 -0.000954  0.849619   \n",
       "215 -0.333805  0.149850  0.261517  ... -0.924655  0.781917 -0.118205   \n",
       "216 -0.435727  0.257975  0.153476  ... -0.961012  0.708399 -0.226994   \n",
       "217  0.630164 -0.765415  0.959914  ... -0.157370  0.939701  0.785572   \n",
       "\n",
       "          211       212       213       214       215       216       217  \n",
       "0    0.944351  0.904763  0.945420  0.183826  0.653276  0.565793  0.986711  \n",
       "1   -0.343368 -0.902549 -0.850847  0.644400 -0.999656 -0.996450 -0.499024  \n",
       "2    0.881786  0.299800  0.400939  0.847479 -0.114188 -0.223054  0.788068  \n",
       "3    0.994527  0.637289  0.716682  0.584875  0.268711  0.160844  0.961979  \n",
       "4    0.981624  0.834731  0.889250  0.322203  0.538558  0.442349  0.999799  \n",
       "..        ...       ...       ...       ...       ...       ...       ...  \n",
       "213  0.785623  0.994167  1.000000 -0.146508  0.864331  0.803594  0.879910  \n",
       "214  0.496930 -0.252338 -0.146508  1.000000 -0.624128 -0.706488  0.341100  \n",
       "215  0.367876  0.913529  0.864331 -0.624128  1.000000  0.993900  0.521573  \n",
       "216  0.263081  0.863096  0.803594 -0.706488  0.993900  1.000000  0.424297  \n",
       "217  0.985249  0.823535  0.879910  0.341100  0.521573  0.424297  1.000000  \n",
       "\n",
       "[218 rows x 218 columns]"
      ]
     },
     "execution_count": 35,
     "metadata": {},
     "output_type": "execute_result"
    }
   ],
   "source": [
    "get_rho(get_date()[0],get_date()[3],get_companies(),'Close')"
   ]
  },
  {
   "cell_type": "code",
   "execution_count": 43,
   "id": "DY-kR_M9bgzp",
   "metadata": {
    "colab": {
     "base_uri": "https://localhost:8080/"
    },
    "executionInfo": {
     "elapsed": 439,
     "status": "ok",
     "timestamp": 1708599125520,
     "user": {
      "displayName": "Lisa Chiang",
      "userId": "09169802507274919284"
     },
     "user_tz": 0
    },
    "id": "DY-kR_M9bgzp",
    "outputId": "336ba708-6638-42db-a5d9-bd1167a71e9f"
   },
   "outputs": [
    {
     "data": {
      "text/plain": [
       "[8, 44, 59, 61, 66, 69, 71, 81, 98, 99, 116, 121, 132, 153, 176, 180]"
      ]
     },
     "execution_count": 43,
     "metadata": {},
     "output_type": "execute_result"
    }
   ],
   "source": [
    "# Check correlation == 1:\n",
    "temp = get_rho(get_date()[0],get_date()[3],get_companies(),'Close')\n",
    "series_1 = np.sum(temp==1, axis = 0)\n",
    "cov1_list = list(series_1[series_1 != 1].index)\n",
    "cov1_list"
   ]
  },
  {
   "cell_type": "code",
   "execution_count": 47,
   "id": "KmEPhSt6byBo",
   "metadata": {
    "colab": {
     "base_uri": "https://localhost:8080/"
    },
    "executionInfo": {
     "elapsed": 11,
     "status": "ok",
     "timestamp": 1708599215987,
     "user": {
      "displayName": "Lisa Chiang",
      "userId": "09169802507274919284"
     },
     "user_tz": 0
    },
    "id": "KmEPhSt6byBo",
    "outputId": "3196f2db-6387-4224-ac97-d9cb75fa0ad5"
   },
   "outputs": [
    {
     "data": {
      "text/plain": [
       "[105, 142, 214]"
      ]
     },
     "execution_count": 47,
     "metadata": {},
     "output_type": "execute_result"
    }
   ],
   "source": [
    "# Check correlation == 0:\n",
    "series_0 = np.sum(temp==0, axis = 0)\n",
    "cov0_list = list(series_0[series_0 != 0].index)\n",
    "cov0_list"
   ]
  },
  {
   "cell_type": "code",
   "execution_count": 48,
   "id": "eK-7OKKyce3D",
   "metadata": {
    "colab": {
     "base_uri": "https://localhost:8080/"
    },
    "executionInfo": {
     "elapsed": 11,
     "status": "ok",
     "timestamp": 1708599249403,
     "user": {
      "displayName": "Lisa Chiang",
      "userId": "09169802507274919284"
     },
     "user_tz": 0
    },
    "id": "eK-7OKKyce3D",
    "outputId": "049370cd-d0da-4f77-93f6-a411569cedee"
   },
   "outputs": [
    {
     "data": {
      "text/plain": [
       "[105, 142, 214]"
      ]
     },
     "execution_count": 48,
     "metadata": {},
     "output_type": "execute_result"
    }
   ],
   "source": [
    "# Check correlation == -1:\n",
    "series_neg1 = np.sum(temp==-1, axis = 0)\n",
    "covneg1_list = list(series_neg1[series_0 != 0].index)\n",
    "covneg1_list"
   ]
  },
  {
   "cell_type": "code",
   "execution_count": 51,
   "id": "UwQqWdpfc4W7",
   "metadata": {
    "executionInfo": {
     "elapsed": 4,
     "status": "ok",
     "timestamp": 1708599332321,
     "user": {
      "displayName": "Lisa Chiang",
      "userId": "09169802507274919284"
     },
     "user_tz": 0
    },
    "id": "UwQqWdpfc4W7"
   },
   "outputs": [],
   "source": [
    "problematic_cov_list = cov1_list + cov0_list"
   ]
  },
  {
   "cell_type": "code",
   "execution_count": 53,
   "id": "EvrPWoEadCpz",
   "metadata": {
    "colab": {
     "base_uri": "https://localhost:8080/"
    },
    "executionInfo": {
     "elapsed": 9,
     "status": "ok",
     "timestamp": 1708599386186,
     "user": {
      "displayName": "Lisa Chiang",
      "userId": "09169802507274919284"
     },
     "user_tz": 0
    },
    "id": "EvrPWoEadCpz",
    "outputId": "36b9c91e-ad00-41c6-b0f2-6325e79c9218"
   },
   "outputs": [
    {
     "data": {
      "text/plain": [
       "['INSUMOS AGROQUIMIC SA',\n",
       " 'CYRELA BRAZIL REALTY SA',\n",
       " 'LPS BRASIL-CONSULTORIA DE',\n",
       " 'M DIAS BRANCO SA IND',\n",
       " 'PROFARMA DISTRIBUIDORA DE',\n",
       " 'POSITIVO TECNOLOGIA S.A',\n",
       " 'RAIA DROGASIL SA',\n",
       " 'SYN PROP & TECH S.A.',\n",
       " 'PAZ CORP SA',\n",
       " 'SONDA S.A.',\n",
       " 'INVERSIONES UNESPA SA',\n",
       " 'GRUPO EMPRESAS NAVIERAS SA',\n",
       " 'MARBELLA COUNTRY CLUB',\n",
       " 'CLINICA DE MARLY SA',\n",
       " 'GRUPO AEROPORTUARIO DEL CENT',\n",
       " 'CASA DE BOLSA FINAMEX SAB DE',\n",
       " 'AGRICOLA NACIONAL SACEI',\n",
       " 'HIPODROMO CHILE SA',\n",
       " 'BANCO NACIONAL DE CREDITO CA']"
      ]
     },
     "execution_count": 53,
     "metadata": {},
     "output_type": "execute_result"
    }
   ],
   "source": [
    "problematic_name_2 = []\n",
    "\n",
    "for i in problematic_cov_list:\n",
    "  problematic_name_2.append(get_companies()[i])\n",
    "\n",
    "problematic_name_2"
   ]
  },
  {
   "cell_type": "markdown",
   "id": "33bH625Adho4",
   "metadata": {
    "id": "33bH625Adho4"
   },
   "source": [
    "We decide to remove them all."
   ]
  },
  {
   "cell_type": "code",
   "execution_count": 54,
   "id": "BRmnVZpgdofK",
   "metadata": {
    "executionInfo": {
     "elapsed": 847,
     "status": "ok",
     "timestamp": 1708599454403,
     "user": {
      "displayName": "Lisa Chiang",
      "userId": "09169802507274919284"
     },
     "user_tz": 0
    },
    "id": "BRmnVZpgdofK"
   },
   "outputs": [],
   "source": [
    "df = df[~df['company_name'].isin(problematic_name_2)]"
   ]
  },
  {
   "cell_type": "code",
   "execution_count": 55,
   "id": "puCB3tR7dofL",
   "metadata": {
    "colab": {
     "base_uri": "https://localhost:8080/"
    },
    "executionInfo": {
     "elapsed": 7,
     "status": "ok",
     "timestamp": 1708599456123,
     "user": {
      "displayName": "Lisa Chiang",
      "userId": "09169802507274919284"
     },
     "user_tz": 0
    },
    "id": "puCB3tR7dofL",
    "outputId": "9ecfca41-f4df-4850-b762-ee190f75d381"
   },
   "outputs": [
    {
     "name": "stdout",
     "output_type": "stream",
     "text": [
      "Number of companies: 199\n",
      "Number of rows: 14328\n"
     ]
    }
   ],
   "source": [
    "check(df)"
   ]
  },
  {
   "cell_type": "code",
   "execution_count": 56,
   "id": "jPypeC0bdofM",
   "metadata": {
    "colab": {
     "base_uri": "https://localhost:8080/"
    },
    "executionInfo": {
     "elapsed": 5,
     "status": "ok",
     "timestamp": 1708599458093,
     "user": {
      "displayName": "Lisa Chiang",
      "userId": "09169802507274919284"
     },
     "user_tz": 0
    },
    "id": "jPypeC0bdofM",
    "outputId": "5bef7290-a2b3-4e0e-cfce-089abecfa6b1"
   },
   "outputs": [
    {
     "data": {
      "text/plain": [
       "38"
      ]
     },
     "execution_count": 56,
     "metadata": {},
     "output_type": "execute_result"
    }
   ],
   "source": [
    "get_num_finance(df)"
   ]
  },
  {
   "cell_type": "markdown",
   "id": "grb9e4gsduee",
   "metadata": {
    "id": "grb9e4gsduee"
   },
   "source": [
    "# Export the new dataset"
   ]
  },
  {
   "cell_type": "code",
   "execution_count": null,
   "id": "UPgkNkpSeASE",
   "metadata": {
    "id": "UPgkNkpSeASE"
   },
   "outputs": [],
   "source": [
    "df"
   ]
  },
  {
   "cell_type": "code",
   "execution_count": 59,
   "id": "pDp_qPGCdWxk",
   "metadata": {
    "executionInfo": {
     "elapsed": 9,
     "status": "ok",
     "timestamp": 1708599601862,
     "user": {
      "displayName": "Lisa Chiang",
      "userId": "09169802507274919284"
     },
     "user_tz": 0
    },
    "id": "pDp_qPGCdWxk"
   },
   "outputs": [],
   "source": [
    "#df.to_csv('2.22 combined dataset of stock data and balance sheet data.csv', index = False)"
   ]
  },
  {
   "cell_type": "code",
   "execution_count": null,
   "id": "uBJdr-05eOMB",
   "metadata": {
    "id": "uBJdr-05eOMB"
   },
   "outputs": [],
   "source": []
  }
 ],
 "metadata": {
  "colab": {
   "collapsed_sections": [
    "KSXbK_BPt3Qv"
   ],
   "provenance": []
  },
  "kernelspec": {
   "display_name": "Python 3 (ipykernel)",
   "language": "python",
   "name": "python3"
  },
  "language_info": {
   "codemirror_mode": {
    "name": "ipython",
    "version": 3
   },
   "file_extension": ".py",
   "mimetype": "text/x-python",
   "name": "python",
   "nbconvert_exporter": "python",
   "pygments_lexer": "ipython3",
   "version": "3.9.16"
  }
 },
 "nbformat": 4,
 "nbformat_minor": 5
}
