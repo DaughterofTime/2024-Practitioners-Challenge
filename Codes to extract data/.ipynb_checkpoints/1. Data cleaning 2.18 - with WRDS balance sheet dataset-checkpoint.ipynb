{
 "cells": [
  {
   "cell_type": "code",
   "execution_count": 4,
   "id": "08dbce1c",
   "metadata": {
    "id": "08dbce1c",
    "scrolled": true
   },
   "outputs": [],
   "source": [
    "import pandas as pd\n",
    "import numpy as np"
   ]
  },
  {
   "cell_type": "code",
   "execution_count": 5,
   "id": "OEaxkqef5MZn",
   "metadata": {
    "id": "OEaxkqef5MZn"
   },
   "outputs": [],
   "source": [
    "def check(df):\n",
    "  num_company = df['isin'].nunique()\n",
    "  num_rows = df.shape[0]\n",
    "  print(f'Number of companies: {num_company}')\n",
    "  print(f'Number of rows: {num_rows}')"
   ]
  },
  {
   "cell_type": "code",
   "execution_count": 6,
   "id": "icv70u6oDVsd",
   "metadata": {
    "id": "icv70u6oDVsd"
   },
   "outputs": [],
   "source": [
    "def get_num_finance(df):\n",
    "  return df[['isin', 'is_finance']].drop_duplicates()['is_finance'].sum()"
   ]
  },
  {
   "cell_type": "markdown",
   "id": "2b2ae45c",
   "metadata": {
    "id": "2b2ae45c"
   },
   "source": [
    "# Check the WRDS balance sheet data"
   ]
  },
  {
   "cell_type": "code",
   "execution_count": 7,
   "id": "f01519d4",
   "metadata": {
    "id": "f01519d4"
   },
   "outputs": [],
   "source": [
    "balance_sheet = pd.read_csv('2.16 balance sheet.csv')"
   ]
  },
  {
   "cell_type": "code",
   "execution_count": 8,
   "id": "2169bf08",
   "metadata": {
    "colab": {
     "base_uri": "https://localhost:8080/",
     "height": 313
    },
    "executionInfo": {
     "elapsed": 368,
     "status": "ok",
     "timestamp": 1708309663587,
     "user": {
      "displayName": "Lisa Chiang",
      "userId": "09169802507274919284"
     },
     "user_tz": 0
    },
    "id": "2169bf08",
    "outputId": "0d238d55-774e-47a2-c5d2-47bfc1372327"
   },
   "outputs": [
    {
     "data": {
      "text/html": [
       "<div>\n",
       "<style scoped>\n",
       "    .dataframe tbody tr th:only-of-type {\n",
       "        vertical-align: middle;\n",
       "    }\n",
       "\n",
       "    .dataframe tbody tr th {\n",
       "        vertical-align: top;\n",
       "    }\n",
       "\n",
       "    .dataframe thead th {\n",
       "        text-align: right;\n",
       "    }\n",
       "</style>\n",
       "<table border=\"1\" class=\"dataframe\">\n",
       "  <thead>\n",
       "    <tr style=\"text-align: right;\">\n",
       "      <th></th>\n",
       "      <th>gvkey</th>\n",
       "      <th>fqtr</th>\n",
       "      <th>fyearq</th>\n",
       "      <th>datadate</th>\n",
       "      <th>actq</th>\n",
       "      <th>ancq</th>\n",
       "      <th>atq</th>\n",
       "      <th>lltq</th>\n",
       "      <th>ltq</th>\n",
       "      <th>isin</th>\n",
       "      <th>conm</th>\n",
       "      <th>gind</th>\n",
       "      <th>loc</th>\n",
       "    </tr>\n",
       "  </thead>\n",
       "  <tbody>\n",
       "    <tr>\n",
       "      <th>0</th>\n",
       "      <td>18075</td>\n",
       "      <td>4</td>\n",
       "      <td>2010</td>\n",
       "      <td>2010-12-31</td>\n",
       "      <td>197.081</td>\n",
       "      <td>1026.874</td>\n",
       "      <td>1223.955</td>\n",
       "      <td>707.319</td>\n",
       "      <td>1044.091</td>\n",
       "      <td>BRAZULACNPR4</td>\n",
       "      <td>AZUL SA</td>\n",
       "      <td>203020.0</td>\n",
       "      <td>BRA</td>\n",
       "    </tr>\n",
       "    <tr>\n",
       "      <th>1</th>\n",
       "      <td>18075</td>\n",
       "      <td>4</td>\n",
       "      <td>2011</td>\n",
       "      <td>2011-12-31</td>\n",
       "      <td>495.416</td>\n",
       "      <td>1468.587</td>\n",
       "      <td>1964.003</td>\n",
       "      <td>1322.385</td>\n",
       "      <td>1905.621</td>\n",
       "      <td>BRAZULACNPR4</td>\n",
       "      <td>AZUL SA</td>\n",
       "      <td>203020.0</td>\n",
       "      <td>BRA</td>\n",
       "    </tr>\n",
       "    <tr>\n",
       "      <th>2</th>\n",
       "      <td>18075</td>\n",
       "      <td>1</td>\n",
       "      <td>2012</td>\n",
       "      <td>2012-03-31</td>\n",
       "      <td>NaN</td>\n",
       "      <td>NaN</td>\n",
       "      <td>NaN</td>\n",
       "      <td>NaN</td>\n",
       "      <td>NaN</td>\n",
       "      <td>BRAZULACNPR4</td>\n",
       "      <td>AZUL SA</td>\n",
       "      <td>203020.0</td>\n",
       "      <td>BRA</td>\n",
       "    </tr>\n",
       "    <tr>\n",
       "      <th>3</th>\n",
       "      <td>18075</td>\n",
       "      <td>4</td>\n",
       "      <td>2012</td>\n",
       "      <td>2012-12-31</td>\n",
       "      <td>1011.983</td>\n",
       "      <td>3739.802</td>\n",
       "      <td>4751.785</td>\n",
       "      <td>2431.790</td>\n",
       "      <td>4400.754</td>\n",
       "      <td>BRAZULACNPR4</td>\n",
       "      <td>AZUL SA</td>\n",
       "      <td>203020.0</td>\n",
       "      <td>BRA</td>\n",
       "    </tr>\n",
       "    <tr>\n",
       "      <th>4</th>\n",
       "      <td>18075</td>\n",
       "      <td>1</td>\n",
       "      <td>2013</td>\n",
       "      <td>2013-03-31</td>\n",
       "      <td>926.338</td>\n",
       "      <td>3880.680</td>\n",
       "      <td>4807.018</td>\n",
       "      <td>2514.487</td>\n",
       "      <td>4423.179</td>\n",
       "      <td>BRAZULACNPR4</td>\n",
       "      <td>AZUL SA</td>\n",
       "      <td>203020.0</td>\n",
       "      <td>BRA</td>\n",
       "    </tr>\n",
       "  </tbody>\n",
       "</table>\n",
       "</div>"
      ],
      "text/plain": [
       "   gvkey  fqtr  fyearq    datadate      actq      ancq       atq      lltq  \\\n",
       "0  18075     4    2010  2010-12-31   197.081  1026.874  1223.955   707.319   \n",
       "1  18075     4    2011  2011-12-31   495.416  1468.587  1964.003  1322.385   \n",
       "2  18075     1    2012  2012-03-31       NaN       NaN       NaN       NaN   \n",
       "3  18075     4    2012  2012-12-31  1011.983  3739.802  4751.785  2431.790   \n",
       "4  18075     1    2013  2013-03-31   926.338  3880.680  4807.018  2514.487   \n",
       "\n",
       "        ltq          isin     conm      gind  loc  \n",
       "0  1044.091  BRAZULACNPR4  AZUL SA  203020.0  BRA  \n",
       "1  1905.621  BRAZULACNPR4  AZUL SA  203020.0  BRA  \n",
       "2       NaN  BRAZULACNPR4  AZUL SA  203020.0  BRA  \n",
       "3  4400.754  BRAZULACNPR4  AZUL SA  203020.0  BRA  \n",
       "4  4423.179  BRAZULACNPR4  AZUL SA  203020.0  BRA  "
      ]
     },
     "execution_count": 8,
     "metadata": {},
     "output_type": "execute_result"
    }
   ],
   "source": [
    "balance_sheet.head()"
   ]
  },
  {
   "cell_type": "code",
   "execution_count": 9,
   "id": "9OIWK_2v54Rp",
   "metadata": {
    "colab": {
     "base_uri": "https://localhost:8080/"
    },
    "executionInfo": {
     "elapsed": 29,
     "status": "ok",
     "timestamp": 1708309663587,
     "user": {
      "displayName": "Lisa Chiang",
      "userId": "09169802507274919284"
     },
     "user_tz": 0
    },
    "id": "9OIWK_2v54Rp",
    "outputId": "552c7e08-ec0a-4afa-ff08-4755f159ab66"
   },
   "outputs": [
    {
     "name": "stdout",
     "output_type": "stream",
     "text": [
      "Number of companies: 735\n",
      "Number of rows: 40393\n"
     ]
    }
   ],
   "source": [
    "check(balance_sheet)"
   ]
  },
  {
   "cell_type": "code",
   "execution_count": 10,
   "id": "EpEW0p4LO9zF",
   "metadata": {
    "colab": {
     "base_uri": "https://localhost:8080/"
    },
    "executionInfo": {
     "elapsed": 27,
     "status": "ok",
     "timestamp": 1708309663588,
     "user": {
      "displayName": "Lisa Chiang",
      "userId": "09169802507274919284"
     },
     "user_tz": 0
    },
    "id": "EpEW0p4LO9zF",
    "outputId": "93551909-d183-4326-8c8c-a6d295bf7de5"
   },
   "outputs": [
    {
     "data": {
      "text/plain": [
       "array([2005, 2006, 2007, 2008, 2009, 2010, 2011, 2012, 2013, 2014, 2015,\n",
       "       2016, 2017, 2018, 2019, 2020, 2021, 2022, 2023, 2024], dtype=int64)"
      ]
     },
     "execution_count": 10,
     "metadata": {},
     "output_type": "execute_result"
    }
   ],
   "source": [
    "np.sort(balance_sheet['fyearq'].unique())"
   ]
  },
  {
   "cell_type": "code",
   "execution_count": 11,
   "id": "96VV7VWMPNqd",
   "metadata": {
    "id": "96VV7VWMPNqd"
   },
   "outputs": [],
   "source": [
    "# remove the 2005 and 2024 data\n",
    "balance_sheet_2006 = balance_sheet[~balance_sheet['fyearq'].isin([2005, 2024])]"
   ]
  },
  {
   "cell_type": "code",
   "execution_count": 12,
   "id": "dsFQGed7P5pk",
   "metadata": {
    "colab": {
     "base_uri": "https://localhost:8080/"
    },
    "executionInfo": {
     "elapsed": 23,
     "status": "ok",
     "timestamp": 1708309663588,
     "user": {
      "displayName": "Lisa Chiang",
      "userId": "09169802507274919284"
     },
     "user_tz": 0
    },
    "id": "dsFQGed7P5pk",
    "outputId": "616db84f-71e3-4ebd-b914-7c0534e3fcc4"
   },
   "outputs": [
    {
     "data": {
      "text/plain": [
       "array([2006, 2007, 2008, 2009, 2010, 2011, 2012, 2013, 2014, 2015, 2016,\n",
       "       2017, 2018, 2019, 2020, 2021, 2022, 2023], dtype=int64)"
      ]
     },
     "execution_count": 12,
     "metadata": {},
     "output_type": "execute_result"
    }
   ],
   "source": [
    "np.sort(balance_sheet_2006['fyearq'].unique())"
   ]
  },
  {
   "cell_type": "code",
   "execution_count": 13,
   "id": "pwwnQ_fPQE9S",
   "metadata": {
    "colab": {
     "base_uri": "https://localhost:8080/"
    },
    "executionInfo": {
     "elapsed": 19,
     "status": "ok",
     "timestamp": 1708309663588,
     "user": {
      "displayName": "Lisa Chiang",
      "userId": "09169802507274919284"
     },
     "user_tz": 0
    },
    "id": "pwwnQ_fPQE9S",
    "outputId": "4755a132-3690-4968-9eaf-7f3a207c1eb0"
   },
   "outputs": [
    {
     "name": "stdout",
     "output_type": "stream",
     "text": [
      "Number of companies: 735\n",
      "Number of rows: 40356\n"
     ]
    }
   ],
   "source": [
    "check(balance_sheet_2006)"
   ]
  },
  {
   "cell_type": "markdown",
   "id": "2a8ce17f",
   "metadata": {
    "id": "2a8ce17f"
   },
   "source": [
    "# Deal with missing values in `balance_sheet_2006`"
   ]
  },
  {
   "cell_type": "code",
   "execution_count": 14,
   "id": "204db8e6",
   "metadata": {
    "colab": {
     "base_uri": "https://localhost:8080/"
    },
    "executionInfo": {
     "elapsed": 18,
     "status": "ok",
     "timestamp": 1708309663589,
     "user": {
      "displayName": "Lisa Chiang",
      "userId": "09169802507274919284"
     },
     "user_tz": 0
    },
    "id": "204db8e6",
    "outputId": "c4bc2709-b286-490b-896c-7756d00201e0"
   },
   "outputs": [
    {
     "data": {
      "text/plain": [
       "gvkey           0\n",
       "fqtr            0\n",
       "fyearq          0\n",
       "datadate        0\n",
       "actq        11747\n",
       "ancq        11932\n",
       "atq          1374\n",
       "lltq        12776\n",
       "ltq          1386\n",
       "isin            0\n",
       "conm            0\n",
       "gind          980\n",
       "loc             0\n",
       "dtype: int64"
      ]
     },
     "execution_count": 14,
     "metadata": {},
     "output_type": "execute_result"
    }
   ],
   "source": [
    "np.sum(balance_sheet_2006.isnull(), axis = 0)"
   ]
  },
  {
   "cell_type": "code",
   "execution_count": 15,
   "id": "4cf705da",
   "metadata": {
    "colab": {
     "base_uri": "https://localhost:8080/"
    },
    "executionInfo": {
     "elapsed": 17,
     "status": "ok",
     "timestamp": 1708309663589,
     "user": {
      "displayName": "Lisa Chiang",
      "userId": "09169802507274919284"
     },
     "user_tz": 0
    },
    "id": "4cf705da",
    "outputId": "7b87a0ae-8b35-44bd-f6ec-85c12f68be33"
   },
   "outputs": [
    {
     "name": "stderr",
     "output_type": "stream",
     "text": [
      "C:\\Users\\thinkpad\\AppData\\Local\\Temp\\ipykernel_24868\\1928271263.py:2: SettingWithCopyWarning: \n",
      "A value is trying to be set on a copy of a slice from a DataFrame\n",
      "\n",
      "See the caveats in the documentation: https://pandas.pydata.org/pandas-docs/stable/user_guide/indexing.html#returning-a-view-versus-a-copy\n",
      "  balance_sheet_2006.drop(columns = ['actq', 'ancq', 'lltq'], inplace = True)\n"
     ]
    }
   ],
   "source": [
    "# remove actq, ancq, lltq\n",
    "balance_sheet_2006.drop(columns = ['actq', 'ancq', 'lltq'], inplace = True)"
   ]
  },
  {
   "cell_type": "code",
   "execution_count": 16,
   "id": "5629eade",
   "metadata": {
    "colab": {
     "base_uri": "https://localhost:8080/"
    },
    "executionInfo": {
     "elapsed": 16,
     "status": "ok",
     "timestamp": 1708309663589,
     "user": {
      "displayName": "Lisa Chiang",
      "userId": "09169802507274919284"
     },
     "user_tz": 0
    },
    "id": "5629eade",
    "outputId": "5231bd5f-7790-41c2-a65d-3ef3f3083585"
   },
   "outputs": [
    {
     "data": {
      "text/plain": [
       "Index(['gvkey', 'fqtr', 'fyearq', 'datadate', 'atq', 'ltq', 'isin', 'conm',\n",
       "       'gind', 'loc'],\n",
       "      dtype='object')"
      ]
     },
     "execution_count": 16,
     "metadata": {},
     "output_type": "execute_result"
    }
   ],
   "source": [
    "balance_sheet_2006.columns"
   ]
  },
  {
   "cell_type": "code",
   "execution_count": 17,
   "id": "c7501dac",
   "metadata": {
    "id": "c7501dac"
   },
   "outputs": [],
   "source": [
    "balance_sheet_2006.columns = ['key', 'fiscal_quarter', 'fiscal_year', 'datadate', 'total_assets', 'total_liabilities', 'isin', 'company_name', 'gic_industries', 'iso_country_code']"
   ]
  },
  {
   "cell_type": "code",
   "execution_count": 18,
   "id": "fba4cd68",
   "metadata": {
    "colab": {
     "base_uri": "https://localhost:8080/",
     "height": 118
    },
    "executionInfo": {
     "elapsed": 15,
     "status": "ok",
     "timestamp": 1708309663589,
     "user": {
      "displayName": "Lisa Chiang",
      "userId": "09169802507274919284"
     },
     "user_tz": 0
    },
    "id": "fba4cd68",
    "outputId": "94f62d10-1700-47fa-b3a3-1689f03788e9"
   },
   "outputs": [
    {
     "data": {
      "text/html": [
       "<div>\n",
       "<style scoped>\n",
       "    .dataframe tbody tr th:only-of-type {\n",
       "        vertical-align: middle;\n",
       "    }\n",
       "\n",
       "    .dataframe tbody tr th {\n",
       "        vertical-align: top;\n",
       "    }\n",
       "\n",
       "    .dataframe thead th {\n",
       "        text-align: right;\n",
       "    }\n",
       "</style>\n",
       "<table border=\"1\" class=\"dataframe\">\n",
       "  <thead>\n",
       "    <tr style=\"text-align: right;\">\n",
       "      <th></th>\n",
       "      <th>key</th>\n",
       "      <th>fiscal_quarter</th>\n",
       "      <th>fiscal_year</th>\n",
       "      <th>datadate</th>\n",
       "      <th>total_assets</th>\n",
       "      <th>total_liabilities</th>\n",
       "      <th>isin</th>\n",
       "      <th>company_name</th>\n",
       "      <th>gic_industries</th>\n",
       "      <th>iso_country_code</th>\n",
       "    </tr>\n",
       "  </thead>\n",
       "  <tbody>\n",
       "    <tr>\n",
       "      <th>0</th>\n",
       "      <td>18075</td>\n",
       "      <td>4</td>\n",
       "      <td>2010</td>\n",
       "      <td>2010-12-31</td>\n",
       "      <td>1223.955</td>\n",
       "      <td>1044.091</td>\n",
       "      <td>BRAZULACNPR4</td>\n",
       "      <td>AZUL SA</td>\n",
       "      <td>203020.0</td>\n",
       "      <td>BRA</td>\n",
       "    </tr>\n",
       "  </tbody>\n",
       "</table>\n",
       "</div>"
      ],
      "text/plain": [
       "     key  fiscal_quarter  fiscal_year    datadate  total_assets  \\\n",
       "0  18075               4         2010  2010-12-31      1223.955   \n",
       "\n",
       "   total_liabilities          isin company_name  gic_industries  \\\n",
       "0           1044.091  BRAZULACNPR4      AZUL SA        203020.0   \n",
       "\n",
       "  iso_country_code  \n",
       "0              BRA  "
      ]
     },
     "execution_count": 18,
     "metadata": {},
     "output_type": "execute_result"
    }
   ],
   "source": [
    "balance_sheet_2006.head(1)"
   ]
  },
  {
   "cell_type": "code",
   "execution_count": 19,
   "id": "OcZ5mcKDKtEb",
   "metadata": {
    "colab": {
     "base_uri": "https://localhost:8080/"
    },
    "executionInfo": {
     "elapsed": 15,
     "status": "ok",
     "timestamp": 1708309663590,
     "user": {
      "displayName": "Lisa Chiang",
      "userId": "09169802507274919284"
     },
     "user_tz": 0
    },
    "id": "OcZ5mcKDKtEb",
    "outputId": "ebcb734f-7e85-4cc9-8653-f6c81788d61e"
   },
   "outputs": [
    {
     "name": "stderr",
     "output_type": "stream",
     "text": [
      "C:\\Users\\thinkpad\\AppData\\Local\\Temp\\ipykernel_24868\\2738383306.py:1: SettingWithCopyWarning: \n",
      "A value is trying to be set on a copy of a slice from a DataFrame.\n",
      "Try using .loc[row_indexer,col_indexer] = value instead\n",
      "\n",
      "See the caveats in the documentation: https://pandas.pydata.org/pandas-docs/stable/user_guide/indexing.html#returning-a-view-versus-a-copy\n",
      "  balance_sheet_2006['gic_industries'] = balance_sheet_2006['gic_industries'].astype(str)\n"
     ]
    }
   ],
   "source": [
    "balance_sheet_2006['gic_industries'] = balance_sheet_2006['gic_industries'].astype(str)"
   ]
  },
  {
   "cell_type": "markdown",
   "id": "3Z-6l9QG5rLU",
   "metadata": {
    "id": "3Z-6l9QG5rLU"
   },
   "source": [
    "# Change industry name"
   ]
  },
  {
   "cell_type": "code",
   "execution_count": 21,
   "id": "afotg6_F5kIV",
   "metadata": {
    "id": "afotg6_F5kIV"
   },
   "outputs": [],
   "source": [
    "gic_codes_table = pd.read_excel('gic industry codes.xlsx')"
   ]
  },
  {
   "cell_type": "code",
   "execution_count": 22,
   "id": "8PLFctaE5kIW",
   "metadata": {
    "colab": {
     "base_uri": "https://localhost:8080/",
     "height": 434
    },
    "executionInfo": {
     "elapsed": 21,
     "status": "ok",
     "timestamp": 1708309664273,
     "user": {
      "displayName": "Lisa Chiang",
      "userId": "09169802507274919284"
     },
     "user_tz": 0
    },
    "id": "8PLFctaE5kIW",
    "outputId": "c2dea1d8-2879-4c88-a055-9d19ec86d3f1"
   },
   "outputs": [
    {
     "data": {
      "text/html": [
       "<div>\n",
       "<style scoped>\n",
       "    .dataframe tbody tr th:only-of-type {\n",
       "        vertical-align: middle;\n",
       "    }\n",
       "\n",
       "    .dataframe tbody tr th {\n",
       "        vertical-align: top;\n",
       "    }\n",
       "\n",
       "    .dataframe thead th {\n",
       "        text-align: right;\n",
       "    }\n",
       "</style>\n",
       "<table border=\"1\" class=\"dataframe\">\n",
       "  <thead>\n",
       "    <tr style=\"text-align: right;\">\n",
       "      <th></th>\n",
       "      <th>Sector</th>\n",
       "      <th>Sector2</th>\n",
       "      <th>Industry Group</th>\n",
       "      <th>Industry Group2</th>\n",
       "      <th>Industry</th>\n",
       "      <th>Industry2</th>\n",
       "      <th>Sub-Industry</th>\n",
       "      <th>Sub-Industry2</th>\n",
       "    </tr>\n",
       "  </thead>\n",
       "  <tbody>\n",
       "    <tr>\n",
       "      <th>0</th>\n",
       "      <td>10</td>\n",
       "      <td>Energy</td>\n",
       "      <td>1010</td>\n",
       "      <td>Energy</td>\n",
       "      <td>101010.0</td>\n",
       "      <td>Energy Equipment &amp; Services</td>\n",
       "      <td>10101010.0</td>\n",
       "      <td>Oil &amp; Gas Drilling</td>\n",
       "    </tr>\n",
       "    <tr>\n",
       "      <th>1</th>\n",
       "      <td>10</td>\n",
       "      <td>Energy</td>\n",
       "      <td>1010</td>\n",
       "      <td>Energy</td>\n",
       "      <td>101010.0</td>\n",
       "      <td>Energy Equipment &amp; Services</td>\n",
       "      <td>10101020.0</td>\n",
       "      <td>Oil &amp; Gas Equipment &amp; Services</td>\n",
       "    </tr>\n",
       "    <tr>\n",
       "      <th>2</th>\n",
       "      <td>10</td>\n",
       "      <td>Energy</td>\n",
       "      <td>1010</td>\n",
       "      <td>Energy</td>\n",
       "      <td>101020.0</td>\n",
       "      <td>Oil, Gas &amp; Consumable Fuels</td>\n",
       "      <td>10102010.0</td>\n",
       "      <td>Integrated Oil &amp; Gas</td>\n",
       "    </tr>\n",
       "    <tr>\n",
       "      <th>3</th>\n",
       "      <td>10</td>\n",
       "      <td>Energy</td>\n",
       "      <td>1010</td>\n",
       "      <td>Energy</td>\n",
       "      <td>101020.0</td>\n",
       "      <td>Oil, Gas &amp; Consumable Fuels</td>\n",
       "      <td>10102020.0</td>\n",
       "      <td>Oil &amp; Gas Exploration &amp; Production</td>\n",
       "    </tr>\n",
       "    <tr>\n",
       "      <th>4</th>\n",
       "      <td>10</td>\n",
       "      <td>Energy</td>\n",
       "      <td>1010</td>\n",
       "      <td>Energy</td>\n",
       "      <td>101020.0</td>\n",
       "      <td>Oil, Gas &amp; Consumable Fuels</td>\n",
       "      <td>10102030.0</td>\n",
       "      <td>Oil &amp; Gas Refining &amp; Marketing</td>\n",
       "    </tr>\n",
       "  </tbody>\n",
       "</table>\n",
       "</div>"
      ],
      "text/plain": [
       "   Sector Sector2  Industry Group Industry Group2  Industry  \\\n",
       "0      10  Energy            1010          Energy  101010.0   \n",
       "1      10  Energy            1010          Energy  101010.0   \n",
       "2      10  Energy            1010          Energy  101020.0   \n",
       "3      10  Energy            1010          Energy  101020.0   \n",
       "4      10  Energy            1010          Energy  101020.0   \n",
       "\n",
       "                     Industry2  Sub-Industry  \\\n",
       "0  Energy Equipment & Services    10101010.0   \n",
       "1  Energy Equipment & Services    10101020.0   \n",
       "2  Oil, Gas & Consumable Fuels    10102010.0   \n",
       "3  Oil, Gas & Consumable Fuels    10102020.0   \n",
       "4  Oil, Gas & Consumable Fuels    10102030.0   \n",
       "\n",
       "                        Sub-Industry2  \n",
       "0                  Oil & Gas Drilling  \n",
       "1      Oil & Gas Equipment & Services  \n",
       "2                Integrated Oil & Gas  \n",
       "3  Oil & Gas Exploration & Production  \n",
       "4      Oil & Gas Refining & Marketing  "
      ]
     },
     "execution_count": 22,
     "metadata": {},
     "output_type": "execute_result"
    }
   ],
   "source": [
    "gic_codes_table.head()"
   ]
  },
  {
   "cell_type": "code",
   "execution_count": 23,
   "id": "n6xZkuel5kIW",
   "metadata": {
    "colab": {
     "base_uri": "https://localhost:8080/",
     "height": 448
    },
    "executionInfo": {
     "elapsed": 16,
     "status": "ok",
     "timestamp": 1708309664273,
     "user": {
      "displayName": "Lisa Chiang",
      "userId": "09169802507274919284"
     },
     "user_tz": 0
    },
    "id": "n6xZkuel5kIW",
    "outputId": "22cd65e4-865d-4099-a7ae-aeb69e3bca78"
   },
   "outputs": [
    {
     "data": {
      "text/html": [
       "<div>\n",
       "<style scoped>\n",
       "    .dataframe tbody tr th:only-of-type {\n",
       "        vertical-align: middle;\n",
       "    }\n",
       "\n",
       "    .dataframe tbody tr th {\n",
       "        vertical-align: top;\n",
       "    }\n",
       "\n",
       "    .dataframe thead th {\n",
       "        text-align: right;\n",
       "    }\n",
       "</style>\n",
       "<table border=\"1\" class=\"dataframe\">\n",
       "  <thead>\n",
       "    <tr style=\"text-align: right;\">\n",
       "      <th></th>\n",
       "      <th>industry_name</th>\n",
       "    </tr>\n",
       "    <tr>\n",
       "      <th>industry_code</th>\n",
       "      <th></th>\n",
       "    </tr>\n",
       "  </thead>\n",
       "  <tbody>\n",
       "    <tr>\n",
       "      <th>101010.0</th>\n",
       "      <td>Energy Equipment &amp; Services</td>\n",
       "    </tr>\n",
       "    <tr>\n",
       "      <th>101020.0</th>\n",
       "      <td>Oil, Gas &amp; Consumable Fuels</td>\n",
       "    </tr>\n",
       "    <tr>\n",
       "      <th>151010.0</th>\n",
       "      <td>Chemicals</td>\n",
       "    </tr>\n",
       "    <tr>\n",
       "      <th>151020.0</th>\n",
       "      <td>Construction Materials</td>\n",
       "    </tr>\n",
       "    <tr>\n",
       "      <th>151030.0</th>\n",
       "      <td>Containers &amp; Packaging</td>\n",
       "    </tr>\n",
       "  </tbody>\n",
       "</table>\n",
       "</div>"
      ],
      "text/plain": [
       "                             industry_name\n",
       "industry_code                             \n",
       "101010.0       Energy Equipment & Services\n",
       "101020.0       Oil, Gas & Consumable Fuels\n",
       "151010.0                         Chemicals\n",
       "151020.0            Construction Materials\n",
       "151030.0            Containers & Packaging"
      ]
     },
     "execution_count": 23,
     "metadata": {},
     "output_type": "execute_result"
    }
   ],
   "source": [
    "gic_codes_table = gic_codes_table[['Industry', 'Industry2']]\n",
    "gic_codes_table.columns = ['industry_code', 'industry_name']\n",
    "gic_codes_table.drop_duplicates(inplace = True)\n",
    "gic_codes_table['industry_code'] = gic_codes_table['industry_code'].astype(str)\n",
    "gic_codes_table.set_index('industry_code', inplace = True)\n",
    "gic_codes_table.head()"
   ]
  },
  {
   "cell_type": "code",
   "execution_count": 24,
   "id": "N1I6GMOX5kIX",
   "metadata": {
    "id": "N1I6GMOX5kIX"
   },
   "outputs": [],
   "source": [
    "def get_industry_name(df):\n",
    "  code = df['gic_industries']\n",
    "  series = gic_codes_table['industry_name']\n",
    "  return series[code]"
   ]
  },
  {
   "cell_type": "code",
   "execution_count": 25,
   "id": "VOr20f5T5kIX",
   "metadata": {
    "colab": {
     "base_uri": "https://localhost:8080/"
    },
    "executionInfo": {
     "elapsed": 343,
     "status": "ok",
     "timestamp": 1708309664608,
     "user": {
      "displayName": "Lisa Chiang",
      "userId": "09169802507274919284"
     },
     "user_tz": 0
    },
    "id": "VOr20f5T5kIX",
    "outputId": "73e94e5b-da0b-453b-e207-ef843b92e1c2"
   },
   "outputs": [
    {
     "name": "stderr",
     "output_type": "stream",
     "text": [
      "C:\\Users\\thinkpad\\AppData\\Local\\Temp\\ipykernel_24868\\181643997.py:1: SettingWithCopyWarning: \n",
      "A value is trying to be set on a copy of a slice from a DataFrame.\n",
      "Try using .loc[row_indexer,col_indexer] = value instead\n",
      "\n",
      "See the caveats in the documentation: https://pandas.pydata.org/pandas-docs/stable/user_guide/indexing.html#returning-a-view-versus-a-copy\n",
      "  balance_sheet_2006['industry_name'] = balance_sheet_2006.apply(get_industry_name, axis = 1)\n"
     ]
    }
   ],
   "source": [
    "balance_sheet_2006['industry_name'] = balance_sheet_2006.apply(get_industry_name, axis = 1)"
   ]
  },
  {
   "cell_type": "code",
   "execution_count": 26,
   "id": "vfyZeJ2M5kIX",
   "metadata": {
    "colab": {
     "base_uri": "https://localhost:8080/",
     "height": 118
    },
    "executionInfo": {
     "elapsed": 10,
     "status": "ok",
     "timestamp": 1708309664608,
     "user": {
      "displayName": "Lisa Chiang",
      "userId": "09169802507274919284"
     },
     "user_tz": 0
    },
    "id": "vfyZeJ2M5kIX",
    "outputId": "cc8f04cf-4591-45bc-92ae-49696c3cc824"
   },
   "outputs": [
    {
     "data": {
      "text/html": [
       "<div>\n",
       "<style scoped>\n",
       "    .dataframe tbody tr th:only-of-type {\n",
       "        vertical-align: middle;\n",
       "    }\n",
       "\n",
       "    .dataframe tbody tr th {\n",
       "        vertical-align: top;\n",
       "    }\n",
       "\n",
       "    .dataframe thead th {\n",
       "        text-align: right;\n",
       "    }\n",
       "</style>\n",
       "<table border=\"1\" class=\"dataframe\">\n",
       "  <thead>\n",
       "    <tr style=\"text-align: right;\">\n",
       "      <th></th>\n",
       "      <th>key</th>\n",
       "      <th>fiscal_quarter</th>\n",
       "      <th>fiscal_year</th>\n",
       "      <th>datadate</th>\n",
       "      <th>total_assets</th>\n",
       "      <th>total_liabilities</th>\n",
       "      <th>isin</th>\n",
       "      <th>company_name</th>\n",
       "      <th>gic_industries</th>\n",
       "      <th>iso_country_code</th>\n",
       "      <th>industry_name</th>\n",
       "    </tr>\n",
       "  </thead>\n",
       "  <tbody>\n",
       "    <tr>\n",
       "      <th>0</th>\n",
       "      <td>18075</td>\n",
       "      <td>4</td>\n",
       "      <td>2010</td>\n",
       "      <td>2010-12-31</td>\n",
       "      <td>1223.955</td>\n",
       "      <td>1044.091</td>\n",
       "      <td>BRAZULACNPR4</td>\n",
       "      <td>AZUL SA</td>\n",
       "      <td>203020.0</td>\n",
       "      <td>BRA</td>\n",
       "      <td>Passenger Airlines</td>\n",
       "    </tr>\n",
       "  </tbody>\n",
       "</table>\n",
       "</div>"
      ],
      "text/plain": [
       "     key  fiscal_quarter  fiscal_year    datadate  total_assets  \\\n",
       "0  18075               4         2010  2010-12-31      1223.955   \n",
       "\n",
       "   total_liabilities          isin company_name gic_industries  \\\n",
       "0           1044.091  BRAZULACNPR4      AZUL SA       203020.0   \n",
       "\n",
       "  iso_country_code       industry_name  \n",
       "0              BRA  Passenger Airlines  "
      ]
     },
     "execution_count": 26,
     "metadata": {},
     "output_type": "execute_result"
    }
   ],
   "source": [
    "balance_sheet_2006.head(1)"
   ]
  },
  {
   "cell_type": "code",
   "execution_count": 27,
   "id": "KfKW5IsJ6sim",
   "metadata": {
    "colab": {
     "base_uri": "https://localhost:8080/"
    },
    "executionInfo": {
     "elapsed": 8,
     "status": "ok",
     "timestamp": 1708309664608,
     "user": {
      "displayName": "Lisa Chiang",
      "userId": "09169802507274919284"
     },
     "user_tz": 0
    },
    "id": "KfKW5IsJ6sim",
    "outputId": "0c158d2d-bd8b-4312-a610-903335f78e92"
   },
   "outputs": [
    {
     "name": "stderr",
     "output_type": "stream",
     "text": [
      "C:\\Users\\thinkpad\\AppData\\Local\\Temp\\ipykernel_24868\\1789324094.py:1: SettingWithCopyWarning: \n",
      "A value is trying to be set on a copy of a slice from a DataFrame.\n",
      "Try using .loc[row_indexer,col_indexer] = value instead\n",
      "\n",
      "See the caveats in the documentation: https://pandas.pydata.org/pandas-docs/stable/user_guide/indexing.html#returning-a-view-versus-a-copy\n",
      "  balance_sheet_2006['is_finance'] = balance_sheet_2006['gic_industries'].str.startswith('40')\n"
     ]
    },
    {
     "data": {
      "text/plain": [
       "109"
      ]
     },
     "execution_count": 27,
     "metadata": {},
     "output_type": "execute_result"
    }
   ],
   "source": [
    "balance_sheet_2006['is_finance'] = balance_sheet_2006['gic_industries'].str.startswith('40')\n",
    "get_num_finance(balance_sheet_2006)"
   ]
  },
  {
   "cell_type": "code",
   "execution_count": 28,
   "id": "OMOgPRGEAwSs",
   "metadata": {
    "colab": {
     "base_uri": "https://localhost:8080/"
    },
    "executionInfo": {
     "elapsed": 332,
     "status": "ok",
     "timestamp": 1708309664934,
     "user": {
      "displayName": "Lisa Chiang",
      "userId": "09169802507274919284"
     },
     "user_tz": 0
    },
    "id": "OMOgPRGEAwSs",
    "outputId": "ca26eaea-bc19-4f7a-a130-99e7e0588334"
   },
   "outputs": [
    {
     "data": {
      "text/plain": [
       "array(['Financial Services', 'Banks', 'Capital Markets', 'Insurance',\n",
       "       'Consumer Finance',\n",
       "       'Mortgage Real Estate Investment Trusts (REITs)'], dtype=object)"
      ]
     },
     "execution_count": 28,
     "metadata": {},
     "output_type": "execute_result"
    }
   ],
   "source": [
    "balance_sheet_2006[balance_sheet_2006['is_finance'] == True]['industry_name'].unique()"
   ]
  },
  {
   "cell_type": "markdown",
   "id": "JwHiHIhe5kIX",
   "metadata": {
    "id": "JwHiHIhe5kIX"
   },
   "source": [
    "# Check the industries"
   ]
  },
  {
   "cell_type": "code",
   "execution_count": 29,
   "id": "zbZ_kNBC6jEW",
   "metadata": {
    "colab": {
     "base_uri": "https://localhost:8080/"
    },
    "executionInfo": {
     "elapsed": 11,
     "status": "ok",
     "timestamp": 1708309664934,
     "user": {
      "displayName": "Lisa Chiang",
      "userId": "09169802507274919284"
     },
     "user_tz": 0
    },
    "id": "zbZ_kNBC6jEW",
    "outputId": "165b7f52-2aff-4938-a63d-cc5b06199746"
   },
   "outputs": [
    {
     "data": {
      "text/plain": [
       "Food Products          48\n",
       "Banks                  38\n",
       "Household Durables     38\n",
       "Capital Markets        37\n",
       "Metals & Mining        36\n",
       "                       ..\n",
       "Aerospace & Defense     1\n",
       "Retail REITs            1\n",
       "Office REITs            1\n",
       "Distributors            1\n",
       "Specialized REITs       1\n",
       "Name: industry_name, Length: 67, dtype: int64"
      ]
     },
     "execution_count": 29,
     "metadata": {},
     "output_type": "execute_result"
    }
   ],
   "source": [
    "balance_sheet_2006[['isin', 'industry_name']].drop_duplicates()['industry_name'].value_counts()"
   ]
  },
  {
   "cell_type": "code",
   "execution_count": 30,
   "id": "0UiN-nvZFWU2",
   "metadata": {
    "colab": {
     "base_uri": "https://localhost:8080/"
    },
    "executionInfo": {
     "elapsed": 11,
     "status": "ok",
     "timestamp": 1708309664935,
     "user": {
      "displayName": "Lisa Chiang",
      "userId": "09169802507274919284"
     },
     "user_tz": 0
    },
    "id": "0UiN-nvZFWU2",
    "outputId": "dddce9d9-a6f0-4aff-fbed-ffa4f32dad60"
   },
   "outputs": [
    {
     "data": {
      "text/plain": [
       "key                     0\n",
       "fiscal_quarter          0\n",
       "fiscal_year             0\n",
       "datadate                0\n",
       "total_assets         1374\n",
       "total_liabilities    1386\n",
       "isin                    0\n",
       "company_name            0\n",
       "gic_industries          0\n",
       "iso_country_code        0\n",
       "industry_name         980\n",
       "is_finance              0\n",
       "dtype: int64"
      ]
     },
     "execution_count": 30,
     "metadata": {},
     "output_type": "execute_result"
    }
   ],
   "source": [
    "np.sum(balance_sheet_2006.isnull(), axis = 0)"
   ]
  },
  {
   "cell_type": "markdown",
   "id": "RHcvev7XWaYo",
   "metadata": {
    "id": "RHcvev7XWaYo"
   },
   "source": [
    "# Remove the companies with no industry data"
   ]
  },
  {
   "cell_type": "code",
   "execution_count": 31,
   "id": "zlrjzH3PWZWn",
   "metadata": {
    "colab": {
     "base_uri": "https://localhost:8080/"
    },
    "executionInfo": {
     "elapsed": 9,
     "status": "ok",
     "timestamp": 1708309664935,
     "user": {
      "displayName": "Lisa Chiang",
      "userId": "09169802507274919284"
     },
     "user_tz": 0
    },
    "id": "zlrjzH3PWZWn",
    "outputId": "902abd4b-17aa-4eb3-e22a-3e5ae1d297f2"
   },
   "outputs": [
    {
     "name": "stdout",
     "output_type": "stream",
     "text": [
      "Number of companies: 697\n",
      "Number of rows: 39376\n"
     ]
    }
   ],
   "source": [
    "balance_sheet_2006 = balance_sheet_2006[balance_sheet_2006['industry_name'].notnull()]\n",
    "check(balance_sheet_2006)"
   ]
  },
  {
   "cell_type": "code",
   "execution_count": 32,
   "id": "bdpK8-nxGWjW",
   "metadata": {
    "colab": {
     "base_uri": "https://localhost:8080/"
    },
    "executionInfo": {
     "elapsed": 7,
     "status": "ok",
     "timestamp": 1708309664935,
     "user": {
      "displayName": "Lisa Chiang",
      "userId": "09169802507274919284"
     },
     "user_tz": 0
    },
    "id": "bdpK8-nxGWjW",
    "outputId": "f7c47a41-5255-44c7-f36f-02fb25780eea"
   },
   "outputs": [
    {
     "data": {
      "text/plain": [
       "key                     0\n",
       "fiscal_quarter          0\n",
       "fiscal_year             0\n",
       "datadate                0\n",
       "total_assets         1315\n",
       "total_liabilities    1326\n",
       "isin                    0\n",
       "company_name            0\n",
       "gic_industries          0\n",
       "iso_country_code        0\n",
       "industry_name           0\n",
       "is_finance              0\n",
       "dtype: int64"
      ]
     },
     "execution_count": 32,
     "metadata": {},
     "output_type": "execute_result"
    }
   ],
   "source": [
    "np.sum(balance_sheet_2006.isnull(), axis = 0)"
   ]
  },
  {
   "cell_type": "code",
   "execution_count": 33,
   "id": "LrWiaWVZ7elg",
   "metadata": {
    "colab": {
     "base_uri": "https://localhost:8080/"
    },
    "executionInfo": {
     "elapsed": 5,
     "status": "ok",
     "timestamp": 1708309664935,
     "user": {
      "displayName": "Lisa Chiang",
      "userId": "09169802507274919284"
     },
     "user_tz": 0
    },
    "id": "LrWiaWVZ7elg",
    "outputId": "1c34fe86-696f-4c2f-8846-75c64405c43c"
   },
   "outputs": [
    {
     "data": {
      "text/plain": [
       "109"
      ]
     },
     "execution_count": 33,
     "metadata": {},
     "output_type": "execute_result"
    }
   ],
   "source": [
    "get_num_finance(balance_sheet_2006)"
   ]
  },
  {
   "cell_type": "markdown",
   "id": "67e73c62",
   "metadata": {
    "id": "67e73c62"
   },
   "source": [
    "## Check the starting date of each company"
   ]
  },
  {
   "cell_type": "code",
   "execution_count": 34,
   "id": "74784a8d",
   "metadata": {
    "id": "74784a8d"
   },
   "outputs": [],
   "source": [
    "balance_sheet_2006['datadate'] = pd.to_datetime(balance_sheet_2006['datadate'])\n",
    "balance_sheet_2006['MM-DD'] = balance_sheet_2006['datadate'].dt.strftime('%m-%d')"
   ]
  },
  {
   "cell_type": "code",
   "execution_count": 35,
   "id": "0864a763",
   "metadata": {
    "colab": {
     "base_uri": "https://localhost:8080/"
    },
    "executionInfo": {
     "elapsed": 24,
     "status": "ok",
     "timestamp": 1708309665263,
     "user": {
      "displayName": "Lisa Chiang",
      "userId": "09169802507274919284"
     },
     "user_tz": 0
    },
    "id": "0864a763",
    "outputId": "ebf22391-49b7-4efb-a1d7-67b3fefd9cc0"
   },
   "outputs": [
    {
     "data": {
      "text/plain": [
       "12-31    9797\n",
       "03-31    9585\n",
       "06-30    9555\n",
       "09-30    9547\n",
       "08-31     143\n",
       "05-31     127\n",
       "11-30     124\n",
       "02-28     103\n",
       "07-31      94\n",
       "10-31      94\n",
       "04-30      90\n",
       "01-31      89\n",
       "02-29      28\n",
       "Name: MM-DD, dtype: int64"
      ]
     },
     "execution_count": 35,
     "metadata": {},
     "output_type": "execute_result"
    }
   ],
   "source": [
    "balance_sheet_2006['MM-DD'].value_counts()"
   ]
  },
  {
   "cell_type": "code",
   "execution_count": 36,
   "id": "8ers84EbQxy9",
   "metadata": {
    "colab": {
     "base_uri": "https://localhost:8080/"
    },
    "executionInfo": {
     "elapsed": 24,
     "status": "ok",
     "timestamp": 1708309665264,
     "user": {
      "displayName": "Lisa Chiang",
      "userId": "09169802507274919284"
     },
     "user_tz": 0
    },
    "id": "8ers84EbQxy9",
    "outputId": "9c0cdd4c-9f1b-4cd5-8b1e-938680349ae9"
   },
   "outputs": [
    {
     "data": {
      "text/plain": [
       "Index(['12-31', '03-31', '06-30', '09-30', '08-31', '05-31', '11-30', '02-28',\n",
       "       '07-31', '10-31', '04-30', '01-31', '02-29'],\n",
       "      dtype='object')"
      ]
     },
     "execution_count": 36,
     "metadata": {},
     "output_type": "execute_result"
    }
   ],
   "source": [
    "balance_sheet_2006['MM-DD'].value_counts().index"
   ]
  },
  {
   "cell_type": "markdown",
   "id": "96fbf06e",
   "metadata": {
    "id": "96fbf06e"
   },
   "source": [
    "### Decision:\n",
    "Drop unsuitable rows."
   ]
  },
  {
   "cell_type": "code",
   "execution_count": 37,
   "id": "e834b2e6",
   "metadata": {
    "id": "e834b2e6"
   },
   "outputs": [],
   "source": [
    "balance_sheet_2006 = balance_sheet_2006[~(balance_sheet_2006['MM-DD'].isin(['08-31', '05-31', '11-30', '10-31', '02-28', '07-31', '01-31', '04-30', '02-29']))]"
   ]
  },
  {
   "cell_type": "code",
   "execution_count": 38,
   "id": "LiBNJB4JBQkm",
   "metadata": {
    "colab": {
     "base_uri": "https://localhost:8080/"
    },
    "executionInfo": {
     "elapsed": 20,
     "status": "ok",
     "timestamp": 1708309665264,
     "user": {
      "displayName": "Lisa Chiang",
      "userId": "09169802507274919284"
     },
     "user_tz": 0
    },
    "id": "LiBNJB4JBQkm",
    "outputId": "e7997b0e-f4fd-4928-c903-8fe42479b955"
   },
   "outputs": [
    {
     "name": "stdout",
     "output_type": "stream",
     "text": [
      "Number of companies: 680\n",
      "Number of rows: 38484\n"
     ]
    }
   ],
   "source": [
    "check(balance_sheet_2006)"
   ]
  },
  {
   "cell_type": "code",
   "execution_count": 39,
   "id": "x6lTbFqzXdNL",
   "metadata": {
    "colab": {
     "base_uri": "https://localhost:8080/"
    },
    "executionInfo": {
     "elapsed": 17,
     "status": "ok",
     "timestamp": 1708309665264,
     "user": {
      "displayName": "Lisa Chiang",
      "userId": "09169802507274919284"
     },
     "user_tz": 0
    },
    "id": "x6lTbFqzXdNL",
    "outputId": "f5750648-63ce-4bfa-e27e-7127debe7a5e"
   },
   "outputs": [
    {
     "data": {
      "text/plain": [
       "12-31    9797\n",
       "03-31    9585\n",
       "06-30    9555\n",
       "09-30    9547\n",
       "Name: MM-DD, dtype: int64"
      ]
     },
     "execution_count": 39,
     "metadata": {},
     "output_type": "execute_result"
    }
   ],
   "source": [
    "balance_sheet_2006['MM-DD'].value_counts()"
   ]
  },
  {
   "cell_type": "markdown",
   "id": "jAQ9MjBCuTJN",
   "metadata": {
    "id": "jAQ9MjBCuTJN"
   },
   "source": [
    "# Change date columns + interpolation"
   ]
  },
  {
   "cell_type": "code",
   "execution_count": 40,
   "id": "b92cb2a3",
   "metadata": {
    "colab": {
     "base_uri": "https://localhost:8080/",
     "height": 206
    },
    "executionInfo": {
     "elapsed": 15,
     "status": "ok",
     "timestamp": 1708309665264,
     "user": {
      "displayName": "Lisa Chiang",
      "userId": "09169802507274919284"
     },
     "user_tz": 0
    },
    "id": "b92cb2a3",
    "outputId": "290d8bbc-e593-4f20-e414-b77c5e308f95"
   },
   "outputs": [
    {
     "data": {
      "text/html": [
       "<div>\n",
       "<style scoped>\n",
       "    .dataframe tbody tr th:only-of-type {\n",
       "        vertical-align: middle;\n",
       "    }\n",
       "\n",
       "    .dataframe tbody tr th {\n",
       "        vertical-align: top;\n",
       "    }\n",
       "\n",
       "    .dataframe thead th {\n",
       "        text-align: right;\n",
       "    }\n",
       "</style>\n",
       "<table border=\"1\" class=\"dataframe\">\n",
       "  <thead>\n",
       "    <tr style=\"text-align: right;\">\n",
       "      <th></th>\n",
       "      <th>datadate</th>\n",
       "    </tr>\n",
       "  </thead>\n",
       "  <tbody>\n",
       "    <tr>\n",
       "      <th>0</th>\n",
       "      <td>2006-03-31</td>\n",
       "    </tr>\n",
       "    <tr>\n",
       "      <th>1</th>\n",
       "      <td>2006-06-30</td>\n",
       "    </tr>\n",
       "    <tr>\n",
       "      <th>2</th>\n",
       "      <td>2006-09-30</td>\n",
       "    </tr>\n",
       "    <tr>\n",
       "      <th>3</th>\n",
       "      <td>2006-12-31</td>\n",
       "    </tr>\n",
       "    <tr>\n",
       "      <th>4</th>\n",
       "      <td>2007-03-31</td>\n",
       "    </tr>\n",
       "  </tbody>\n",
       "</table>\n",
       "</div>"
      ],
      "text/plain": [
       "    datadate\n",
       "0 2006-03-31\n",
       "1 2006-06-30\n",
       "2 2006-09-30\n",
       "3 2006-12-31\n",
       "4 2007-03-31"
      ]
     },
     "execution_count": 40,
     "metadata": {},
     "output_type": "execute_result"
    }
   ],
   "source": [
    "quarterly_dates = pd.date_range(start='2006-01-01', end='2023-12-31', freq='Q').to_list()\n",
    "correct_datetime = pd.DataFrame({'datadate': quarterly_dates})\n",
    "correct_datetime.head()"
   ]
  },
  {
   "cell_type": "code",
   "execution_count": 41,
   "id": "8fd8c4ac",
   "metadata": {
    "colab": {
     "base_uri": "https://localhost:8080/"
    },
    "executionInfo": {
     "elapsed": 14,
     "status": "ok",
     "timestamp": 1708309665264,
     "user": {
      "displayName": "Lisa Chiang",
      "userId": "09169802507274919284"
     },
     "user_tz": 0
    },
    "id": "8fd8c4ac",
    "outputId": "3d7d1fc0-300e-4ba6-d6c0-67c07fa46f64"
   },
   "outputs": [
    {
     "data": {
      "text/plain": [
       "48960"
      ]
     },
     "execution_count": 41,
     "metadata": {},
     "output_type": "execute_result"
    }
   ],
   "source": [
    "# find the expected length of the dataframe\n",
    "expected_length = len(quarterly_dates*(balance_sheet_2006['isin'].nunique()))\n",
    "expected_length"
   ]
  },
  {
   "cell_type": "code",
   "execution_count": 42,
   "id": "8b9b3b53",
   "metadata": {
    "id": "8b9b3b53"
   },
   "outputs": [],
   "source": [
    "correct_datetime.set_index('datadate', inplace = True)"
   ]
  },
  {
   "cell_type": "code",
   "execution_count": 43,
   "id": "cc8b7e9f",
   "metadata": {
    "id": "cc8b7e9f"
   },
   "outputs": [],
   "source": [
    "company_list = list(balance_sheet_2006['isin'].unique())"
   ]
  },
  {
   "cell_type": "code",
   "execution_count": 44,
   "id": "tN3luZ0ojnaZ",
   "metadata": {
    "colab": {
     "base_uri": "https://localhost:8080/"
    },
    "executionInfo": {
     "elapsed": 11,
     "status": "ok",
     "timestamp": 1708309665265,
     "user": {
      "displayName": "Lisa Chiang",
      "userId": "09169802507274919284"
     },
     "user_tz": 0
    },
    "id": "tN3luZ0ojnaZ",
    "outputId": "1fe309ae-557a-4809-c2c7-919ad9aabae5"
   },
   "outputs": [
    {
     "name": "stdout",
     "output_type": "stream",
     "text": [
      "Number of companies: 680\n",
      "Number of rows: 38484\n"
     ]
    }
   ],
   "source": [
    "check(balance_sheet_2006)"
   ]
  },
  {
   "cell_type": "code",
   "execution_count": 45,
   "id": "u4Fdmn19i_fL",
   "metadata": {
    "colab": {
     "base_uri": "https://localhost:8080/"
    },
    "executionInfo": {
     "elapsed": 9,
     "status": "ok",
     "timestamp": 1708309665265,
     "user": {
      "displayName": "Lisa Chiang",
      "userId": "09169802507274919284"
     },
     "user_tz": 0
    },
    "id": "u4Fdmn19i_fL",
    "outputId": "1dfdbe3b-3f94-42be-fa9b-cc41106c03cb"
   },
   "outputs": [
    {
     "data": {
      "text/plain": [
       "key                     0\n",
       "fiscal_quarter          0\n",
       "fiscal_year             0\n",
       "datadate                0\n",
       "total_assets         1248\n",
       "total_liabilities    1260\n",
       "isin                    0\n",
       "company_name            0\n",
       "gic_industries          0\n",
       "iso_country_code        0\n",
       "industry_name           0\n",
       "is_finance              0\n",
       "MM-DD                   0\n",
       "dtype: int64"
      ]
     },
     "execution_count": 45,
     "metadata": {},
     "output_type": "execute_result"
    }
   ],
   "source": [
    "np.sum(balance_sheet_2006.isnull(), axis = 0)"
   ]
  },
  {
   "cell_type": "code",
   "execution_count": 46,
   "id": "88b90432",
   "metadata": {
    "id": "88b90432"
   },
   "outputs": [],
   "source": [
    "first_company_info = balance_sheet_2006[balance_sheet_2006['isin'] == company_list[0]].set_index('datadate')\n",
    "balance_sheet_adjusted = first_company_info.join(correct_datetime, how = 'outer').reset_index()\n",
    "\n",
    "for column in ['key', 'isin', 'company_name', 'gic_industries', 'iso_country_code']:\n",
    "    balance_sheet_adjusted[column] = balance_sheet_adjusted[balance_sheet_adjusted[column].notnull()][column].unique().item()\n",
    "\n",
    "balance_sheet_adjusted['fiscal_quarter']=balance_sheet_adjusted['datadate'].dt.quarter\n",
    "balance_sheet_adjusted['fiscal_year']=balance_sheet_adjusted['datadate'].dt.year\n",
    "\n",
    "# interpolation:\n",
    "balance_sheet_adjusted.set_index('datadate', inplace = True)\n",
    "balance_sheet_adjusted['total_assets'] = balance_sheet_adjusted['total_assets'].interpolate(method='time', limit_direction='both')\n",
    "balance_sheet_adjusted['total_liabilities'] = balance_sheet_adjusted['total_liabilities'].interpolate(method='time', limit_direction='both')\n",
    "balance_sheet_adjusted.shape\n",
    "balance_sheet_adjusted.reset_index(drop = False, inplace = True)"
   ]
  },
  {
   "cell_type": "code",
   "execution_count": 47,
   "id": "2931d945",
   "metadata": {
    "colab": {
     "base_uri": "https://localhost:8080/"
    },
    "executionInfo": {
     "elapsed": 8126,
     "status": "ok",
     "timestamp": 1708309673383,
     "user": {
      "displayName": "Lisa Chiang",
      "userId": "09169802507274919284"
     },
     "user_tz": 0
    },
    "id": "2931d945",
    "outputId": "8b1321ef-5d26-4d69-d17f-47d79f855e4e"
   },
   "outputs": [
    {
     "name": "stdout",
     "output_type": "stream",
     "text": [
      "ARP7905G1652 [Timestamp('2007-03-31 00:00:00'), Timestamp('2008-03-31 00:00:00')]\n",
      "BRGSHPACNOR7 [Timestamp('2007-03-31 00:00:00'), Timestamp('2007-06-30 00:00:00'), Timestamp('2007-09-30 00:00:00')]\n",
      "ARINAG010041 [Timestamp('2022-03-31 00:00:00'), Timestamp('2022-06-30 00:00:00'), Timestamp('2022-09-30 00:00:00')]\n",
      "JMP004681012 [Timestamp('2015-06-30 00:00:00')]\n",
      "48969\n"
     ]
    }
   ],
   "source": [
    "questionable_isin_dict = {}\n",
    "\n",
    "for isin in company_list[1:]:\n",
    "    temp = balance_sheet_2006[balance_sheet_2006['isin'] == isin].set_index('datadate')\n",
    "    temp = temp.join(correct_datetime, how = 'outer').reset_index()\n",
    "    if temp.shape[0] != 72:\n",
    "      print(isin, list(temp[temp['datadate'].duplicated()]['datadate']))\n",
    "      questionable_isin_dict = {**questionable_isin_dict, **{isin: list(temp[temp['datadate'].duplicated()]['datadate'])}}\n",
    "\n",
    "    for column in ['key', 'isin', 'company_name', 'gic_industries', 'iso_country_code', 'industry_name', 'is_finance']:\n",
    "      temp[column] = temp[temp[column].notnull()][column].unique().item()\n",
    "\n",
    "    temp['fiscal_quarter']=temp['datadate'].dt.quarter\n",
    "    temp['fiscal_year']=temp['datadate'].dt.year\n",
    "\n",
    "    # interpolation:\n",
    "    temp.set_index('datadate', inplace = True)\n",
    "    temp['total_assets'] = temp['total_assets'].interpolate(method='time', limit_direction='both')\n",
    "    temp['total_liabilities'] = temp['total_liabilities'].interpolate(method='time', limit_direction='both')\n",
    "    temp.reset_index(drop = False, inplace = True)\n",
    "\n",
    "    balance_sheet_adjusted = pd.concat([balance_sheet_adjusted, temp], axis = 0)\n",
    "\n",
    "print(balance_sheet_adjusted.shape[0])"
   ]
  },
  {
   "cell_type": "code",
   "execution_count": 48,
   "id": "K3lnb-YPqkfo",
   "metadata": {
    "colab": {
     "base_uri": "https://localhost:8080/"
    },
    "executionInfo": {
     "elapsed": 25,
     "status": "ok",
     "timestamp": 1708309673383,
     "user": {
      "displayName": "Lisa Chiang",
      "userId": "09169802507274919284"
     },
     "user_tz": 0
    },
    "id": "K3lnb-YPqkfo",
    "outputId": "6d7c54e0-49bd-4441-f42f-fd306ec369c1"
   },
   "outputs": [
    {
     "name": "stdout",
     "output_type": "stream",
     "text": [
      "     datadate       key  fiscal_quarter  fiscal_year  total_assets  total_liabilities          isin company_name gic_industries iso_country_code               industry_name is_finance  MM-DD  index\n",
      "4  2007-03-31  208536.0               1         2007      260.8090            27.7072  ARP7905G1652   POLLEDO SA       201030.0              ARG  Construction & Engineering      False  03-31   9220\n",
      "5  2007-03-31  208536.0               1         2007      260.8090            27.7072  ARP7905G1652   POLLEDO SA       201030.0              ARG  Construction & Engineering      False  03-31   9221\n",
      "9  2008-03-31  208536.0               1         2008      244.0232            33.2560  ARP7905G1652   POLLEDO SA       201030.0              ARG  Construction & Engineering      False  03-31   9225\n",
      "10 2008-03-31  208536.0               1         2008      244.0232            33.2560  ARP7905G1652   POLLEDO SA       201030.0              ARG  Construction & Engineering      False  03-31   9226\n",
      "--------------\n",
      "    datadate       key  fiscal_quarter  fiscal_year  total_assets  total_liabilities          isin                company_name gic_industries iso_country_code                         industry_name is_finance  MM-DD  index\n",
      "4 2007-03-31  285462.0               1         2007       368.982            256.075  BRGSHPACNOR7  GENERAL SHOPPING BRASIL SA       602010.0              BRA  Real Estate Management & Development      False  03-31  25782\n",
      "5 2007-03-31  285462.0               1         2007       368.982            256.075  BRGSHPACNOR7  GENERAL SHOPPING BRASIL SA       602010.0              BRA  Real Estate Management & Development      False  03-31  25783\n",
      "6 2007-06-30  285462.0               2         2007       402.485            288.710  BRGSHPACNOR7  GENERAL SHOPPING BRASIL SA       602010.0              BRA  Real Estate Management & Development      False  06-30  25784\n",
      "7 2007-06-30  285462.0               2         2007       402.485            288.710  BRGSHPACNOR7  GENERAL SHOPPING BRASIL SA       602010.0              BRA  Real Estate Management & Development      False  06-30  25785\n",
      "8 2007-09-30  285462.0               3         2007       663.498            283.489  BRGSHPACNOR7  GENERAL SHOPPING BRASIL SA       602010.0              BRA  Real Estate Management & Development      False  09-30  25786\n",
      "9 2007-09-30  285462.0               3         2007       663.498            283.489  BRGSHPACNOR7  GENERAL SHOPPING BRASIL SA       602010.0              BRA  Real Estate Management & Development      False  09-30  25787\n",
      "--------------\n",
      "     datadate       key  fiscal_quarter  fiscal_year  total_assets  total_liabilities          isin           company_name gic_industries iso_country_code                     industry_name is_finance  MM-DD  index\n",
      "64 2022-03-31  322869.0               1         2022     4027.4738           3413.912  ARINAG010041  INSUMOS AGROQUIMIC SA       201070.0              ARG  Trading Companies & Distributors      False  03-31  38373\n",
      "65 2022-03-31  322869.0               1         2022     4027.4738           3413.912  ARINAG010041  INSUMOS AGROQUIMIC SA       201070.0              ARG  Trading Companies & Distributors      False  03-31  38374\n",
      "66 2022-06-30  322869.0               2         2022     5288.1013           4408.505  ARINAG010041  INSUMOS AGROQUIMIC SA       201070.0              ARG  Trading Companies & Distributors      False  06-30  38375\n",
      "67 2022-06-30  322869.0               2         2022     5288.1013           4408.505  ARINAG010041  INSUMOS AGROQUIMIC SA       201070.0              ARG  Trading Companies & Distributors      False  06-30  38376\n",
      "68 2022-09-30  322869.0               3         2022     7034.9334           5882.032  ARINAG010041  INSUMOS AGROQUIMIC SA       201070.0              ARG  Trading Companies & Distributors      False  09-30  38377\n",
      "69 2022-09-30  322869.0               3         2022     7034.9334           5882.032  ARINAG010041  INSUMOS AGROQUIMIC SA       201070.0              ARG  Trading Companies & Distributors      False  09-30  38378\n",
      "--------------\n",
      "     datadate       key  fiscal_quarter  fiscal_year  total_assets  total_liabilities          isin               company_name gic_industries iso_country_code       industry_name is_finance  MM-DD  index\n",
      "37 2015-06-30  338178.0               2         2015      1956.547            984.016  JMP004681012  ACCESS FINANCIAL SERVICES       402010.0              JAM  Financial Services       True  06-30  43101\n",
      "38 2015-06-30  338178.0               2         2015      1956.547            984.016  JMP004681012  ACCESS FINANCIAL SERVICES       402010.0              JAM  Financial Services       True  06-30  43102\n",
      "--------------\n"
     ]
    }
   ],
   "source": [
    "balance_sheet_adjusted['index'] = balance_sheet_adjusted.reset_index().index\n",
    "for isin, time_list in questionable_isin_dict.items():\n",
    "  temp = balance_sheet_adjusted[balance_sheet_adjusted['isin'] == isin]\n",
    "  temp.head()\n",
    "  print(temp[temp['datadate'].isin(time_list)].to_string())\n",
    "  print('--------------')"
   ]
  },
  {
   "cell_type": "code",
   "execution_count": 49,
   "id": "0B_PQLsTuzgG",
   "metadata": {
    "colab": {
     "base_uri": "https://localhost:8080/"
    },
    "executionInfo": {
     "elapsed": 24,
     "status": "ok",
     "timestamp": 1708309673384,
     "user": {
      "displayName": "Lisa Chiang",
      "userId": "09169802507274919284"
     },
     "user_tz": 0
    },
    "id": "0B_PQLsTuzgG",
    "outputId": "5900f995-5704-447d-f2d1-11223a07b3a6"
   },
   "outputs": [
    {
     "name": "stdout",
     "output_type": "stream",
     "text": [
      "Number of companies: 680\n",
      "Number of rows: 48969\n"
     ]
    }
   ],
   "source": [
    "check(balance_sheet_adjusted)"
   ]
  },
  {
   "cell_type": "code",
   "execution_count": 50,
   "id": "n5BocRvDCx7E",
   "metadata": {
    "colab": {
     "base_uri": "https://localhost:8080/"
    },
    "executionInfo": {
     "elapsed": 21,
     "status": "ok",
     "timestamp": 1708309673384,
     "user": {
      "displayName": "Lisa Chiang",
      "userId": "09169802507274919284"
     },
     "user_tz": 0
    },
    "id": "n5BocRvDCx7E",
    "outputId": "eb28fdfa-cf7b-4c26-b32a-bbc038e06901"
   },
   "outputs": [
    {
     "data": {
      "text/plain": [
       "48960"
      ]
     },
     "execution_count": 50,
     "metadata": {},
     "output_type": "execute_result"
    }
   ],
   "source": [
    "expected_length"
   ]
  },
  {
   "cell_type": "code",
   "execution_count": 51,
   "id": "YZ9UCPqjvWFF",
   "metadata": {
    "id": "YZ9UCPqjvWFF"
   },
   "outputs": [],
   "source": [
    "balance_sheet_adjusted.drop(columns = ['MM-DD'], inplace = True)"
   ]
  },
  {
   "cell_type": "code",
   "execution_count": 52,
   "id": "5H7GmKOjHmBA",
   "metadata": {
    "colab": {
     "base_uri": "https://localhost:8080/"
    },
    "executionInfo": {
     "elapsed": 20,
     "status": "ok",
     "timestamp": 1708309673384,
     "user": {
      "displayName": "Lisa Chiang",
      "userId": "09169802507274919284"
     },
     "user_tz": 0
    },
    "id": "5H7GmKOjHmBA",
    "outputId": "c758dd14-4de7-472c-c7da-1e942036bbb0"
   },
   "outputs": [
    {
     "name": "stdout",
     "output_type": "stream",
     "text": [
      "Number of companies: 680\n",
      "Number of rows: 48960\n"
     ]
    }
   ],
   "source": [
    "balance_sheet_adjusted.drop_duplicates(subset = ['isin', 'datadate'], keep = 'last', inplace = True)\n",
    "check(balance_sheet_adjusted)"
   ]
  },
  {
   "cell_type": "code",
   "execution_count": 53,
   "id": "eIzN3RsBsCjq",
   "metadata": {
    "id": "eIzN3RsBsCjq"
   },
   "outputs": [],
   "source": [
    "balance_sheet_adjusted.drop(columns = ['index'], inplace = True)"
   ]
  },
  {
   "cell_type": "code",
   "execution_count": 54,
   "id": "DBoXUry270ho",
   "metadata": {
    "colab": {
     "base_uri": "https://localhost:8080/"
    },
    "executionInfo": {
     "elapsed": 19,
     "status": "ok",
     "timestamp": 1708309673385,
     "user": {
      "displayName": "Lisa Chiang",
      "userId": "09169802507274919284"
     },
     "user_tz": 0
    },
    "id": "DBoXUry270ho",
    "outputId": "a18f9903-a557-4257-ba82-73adc61a1b26"
   },
   "outputs": [
    {
     "data": {
      "text/plain": [
       "108"
      ]
     },
     "execution_count": 54,
     "metadata": {},
     "output_type": "execute_result"
    }
   ],
   "source": [
    "get_num_finance(balance_sheet_adjusted)"
   ]
  },
  {
   "cell_type": "markdown",
   "id": "9eVqNfCHwzjQ",
   "metadata": {
    "id": "9eVqNfCHwzjQ"
   },
   "source": [
    "# Check the rest of null values"
   ]
  },
  {
   "cell_type": "code",
   "execution_count": 55,
   "id": "cMPtB8_5jpuQ",
   "metadata": {
    "colab": {
     "base_uri": "https://localhost:8080/"
    },
    "executionInfo": {
     "elapsed": 17,
     "status": "ok",
     "timestamp": 1708309673385,
     "user": {
      "displayName": "Lisa Chiang",
      "userId": "09169802507274919284"
     },
     "user_tz": 0
    },
    "id": "cMPtB8_5jpuQ",
    "outputId": "0f01df82-8e22-4703-87b2-fc575a4e30a0"
   },
   "outputs": [
    {
     "name": "stdout",
     "output_type": "stream",
     "text": [
      "Number of companies: 680\n",
      "Number of rows: 48960\n"
     ]
    }
   ],
   "source": [
    "check(balance_sheet_adjusted)"
   ]
  },
  {
   "cell_type": "code",
   "execution_count": 56,
   "id": "2aba5147",
   "metadata": {
    "colab": {
     "base_uri": "https://localhost:8080/"
    },
    "executionInfo": {
     "elapsed": 317,
     "status": "ok",
     "timestamp": 1708309673686,
     "user": {
      "displayName": "Lisa Chiang",
      "userId": "09169802507274919284"
     },
     "user_tz": 0
    },
    "id": "2aba5147",
    "outputId": "0f19ad35-74f4-4d7c-a6a9-6e6b42935c72"
   },
   "outputs": [
    {
     "data": {
      "text/plain": [
       "datadate              0\n",
       "key                   0\n",
       "fiscal_quarter        0\n",
       "fiscal_year           0\n",
       "total_assets          0\n",
       "total_liabilities     0\n",
       "isin                  0\n",
       "company_name          0\n",
       "gic_industries        0\n",
       "iso_country_code      0\n",
       "industry_name        28\n",
       "is_finance           28\n",
       "dtype: int64"
      ]
     },
     "execution_count": 56,
     "metadata": {},
     "output_type": "execute_result"
    }
   ],
   "source": [
    "np.sum(balance_sheet_adjusted.isnull(), axis = 0)"
   ]
  },
  {
   "cell_type": "code",
   "execution_count": 57,
   "id": "ty8z_VoBKR67",
   "metadata": {
    "id": "ty8z_VoBKR67"
   },
   "outputs": [],
   "source": [
    "balance_sheet_adjusted['industry_name'] = balance_sheet_adjusted.apply(get_industry_name, axis = 1)\n",
    "balance_sheet_adjusted['is_finance'] = balance_sheet_adjusted['gic_industries'].str.startswith('40')"
   ]
  },
  {
   "cell_type": "code",
   "execution_count": 58,
   "id": "UllyR0I18IsT",
   "metadata": {
    "colab": {
     "base_uri": "https://localhost:8080/"
    },
    "executionInfo": {
     "elapsed": 4,
     "status": "ok",
     "timestamp": 1708309673939,
     "user": {
      "displayName": "Lisa Chiang",
      "userId": "09169802507274919284"
     },
     "user_tz": 0
    },
    "id": "UllyR0I18IsT",
    "outputId": "7cca3679-b359-419d-8e00-1a7724f4259c"
   },
   "outputs": [
    {
     "data": {
      "text/plain": [
       "datadate             0\n",
       "key                  0\n",
       "fiscal_quarter       0\n",
       "fiscal_year          0\n",
       "total_assets         0\n",
       "total_liabilities    0\n",
       "isin                 0\n",
       "company_name         0\n",
       "gic_industries       0\n",
       "iso_country_code     0\n",
       "industry_name        0\n",
       "is_finance           0\n",
       "dtype: int64"
      ]
     },
     "execution_count": 58,
     "metadata": {},
     "output_type": "execute_result"
    }
   ],
   "source": [
    "np.sum(balance_sheet_adjusted.isnull(), axis = 0)"
   ]
  },
  {
   "cell_type": "code",
   "execution_count": 59,
   "id": "zC5pUmfTx7Tp",
   "metadata": {
    "colab": {
     "base_uri": "https://localhost:8080/"
    },
    "executionInfo": {
     "elapsed": 3,
     "status": "ok",
     "timestamp": 1708309673939,
     "user": {
      "displayName": "Lisa Chiang",
      "userId": "09169802507274919284"
     },
     "user_tz": 0
    },
    "id": "zC5pUmfTx7Tp",
    "outputId": "4609459f-ac4b-44db-d6ae-2031bbe11500"
   },
   "outputs": [
    {
     "name": "stdout",
     "output_type": "stream",
     "text": [
      "Number of companies: 680\n",
      "Number of rows: 48960\n"
     ]
    }
   ],
   "source": [
    "check(balance_sheet_adjusted)"
   ]
  },
  {
   "cell_type": "code",
   "execution_count": 60,
   "id": "5lrZIjBHWYnd",
   "metadata": {
    "colab": {
     "base_uri": "https://localhost:8080/",
     "height": 118
    },
    "executionInfo": {
     "elapsed": 250,
     "status": "ok",
     "timestamp": 1708309674187,
     "user": {
      "displayName": "Lisa Chiang",
      "userId": "09169802507274919284"
     },
     "user_tz": 0
    },
    "id": "5lrZIjBHWYnd",
    "outputId": "7f4aa693-db74-4edd-ed8e-bcc0e28b67fa"
   },
   "outputs": [
    {
     "data": {
      "text/html": [
       "<div>\n",
       "<style scoped>\n",
       "    .dataframe tbody tr th:only-of-type {\n",
       "        vertical-align: middle;\n",
       "    }\n",
       "\n",
       "    .dataframe tbody tr th {\n",
       "        vertical-align: top;\n",
       "    }\n",
       "\n",
       "    .dataframe thead th {\n",
       "        text-align: right;\n",
       "    }\n",
       "</style>\n",
       "<table border=\"1\" class=\"dataframe\">\n",
       "  <thead>\n",
       "    <tr style=\"text-align: right;\">\n",
       "      <th></th>\n",
       "      <th>datadate</th>\n",
       "      <th>key</th>\n",
       "      <th>fiscal_quarter</th>\n",
       "      <th>fiscal_year</th>\n",
       "      <th>total_assets</th>\n",
       "      <th>total_liabilities</th>\n",
       "      <th>isin</th>\n",
       "      <th>company_name</th>\n",
       "      <th>gic_industries</th>\n",
       "      <th>iso_country_code</th>\n",
       "      <th>industry_name</th>\n",
       "      <th>is_finance</th>\n",
       "    </tr>\n",
       "  </thead>\n",
       "  <tbody>\n",
       "    <tr>\n",
       "      <th>0</th>\n",
       "      <td>2006-03-31</td>\n",
       "      <td>18075.0</td>\n",
       "      <td>1</td>\n",
       "      <td>2006</td>\n",
       "      <td>1223.955</td>\n",
       "      <td>1044.091</td>\n",
       "      <td>BRAZULACNPR4</td>\n",
       "      <td>AZUL SA</td>\n",
       "      <td>203020.0</td>\n",
       "      <td>BRA</td>\n",
       "      <td>Passenger Airlines</td>\n",
       "      <td>False</td>\n",
       "    </tr>\n",
       "  </tbody>\n",
       "</table>\n",
       "</div>"
      ],
      "text/plain": [
       "    datadate      key  fiscal_quarter  fiscal_year  total_assets  \\\n",
       "0 2006-03-31  18075.0               1         2006      1223.955   \n",
       "\n",
       "   total_liabilities          isin company_name gic_industries  \\\n",
       "0           1044.091  BRAZULACNPR4      AZUL SA       203020.0   \n",
       "\n",
       "  iso_country_code       industry_name  is_finance  \n",
       "0              BRA  Passenger Airlines       False  "
      ]
     },
     "execution_count": 60,
     "metadata": {},
     "output_type": "execute_result"
    }
   ],
   "source": [
    "balance_sheet_adjusted.head(1)"
   ]
  },
  {
   "cell_type": "code",
   "execution_count": 61,
   "id": "2h6wD41z77u7",
   "metadata": {
    "colab": {
     "base_uri": "https://localhost:8080/"
    },
    "executionInfo": {
     "elapsed": 10,
     "status": "ok",
     "timestamp": 1708309674188,
     "user": {
      "displayName": "Lisa Chiang",
      "userId": "09169802507274919284"
     },
     "user_tz": 0
    },
    "id": "2h6wD41z77u7",
    "outputId": "e18fdfef-ec38-482f-f669-2520d73f7e66"
   },
   "outputs": [
    {
     "data": {
      "text/plain": [
       "108"
      ]
     },
     "execution_count": 61,
     "metadata": {},
     "output_type": "execute_result"
    }
   ],
   "source": [
    "get_num_finance(balance_sheet_adjusted)"
   ]
  },
  {
   "cell_type": "markdown",
   "id": "BCo_lQT3wrrR",
   "metadata": {
    "id": "BCo_lQT3wrrR"
   },
   "source": [
    "# Export the interpolated balance sheet"
   ]
  },
  {
   "cell_type": "code",
   "execution_count": 62,
   "id": "08SdYgyqwcmK",
   "metadata": {
    "id": "08SdYgyqwcmK"
   },
   "outputs": [],
   "source": [
    "#balance_sheet_adjusted.to_csv('2.18 interpolated balance sheet.csv', index=False)"
   ]
  },
  {
   "cell_type": "markdown",
   "id": "mvyRCZTo3Nsx",
   "metadata": {
    "id": "mvyRCZTo3Nsx"
   },
   "source": [
    "# Export the isin list that will be used for stock data"
   ]
  },
  {
   "cell_type": "code",
   "execution_count": 63,
   "id": "sinEGBYy3Mgw",
   "metadata": {
    "id": "sinEGBYy3Mgw"
   },
   "outputs": [],
   "source": [
    "isin_list = list(balance_sheet_adjusted['isin'].unique())\n",
    "with open('2.18 isin list.txt', 'w') as f:\n",
    "    for item in isin_list:\n",
    "        f.write(f\"{item}\\n\")"
   ]
  }
 ],
 "metadata": {
  "colab": {
   "provenance": []
  },
  "kernelspec": {
   "display_name": "Python 3 (ipykernel)",
   "language": "python",
   "name": "python3"
  },
  "language_info": {
   "codemirror_mode": {
    "name": "ipython",
    "version": 3
   },
   "file_extension": ".py",
   "mimetype": "text/x-python",
   "name": "python",
   "nbconvert_exporter": "python",
   "pygments_lexer": "ipython3",
   "version": "3.9.16"
  }
 },
 "nbformat": 4,
 "nbformat_minor": 5
}
